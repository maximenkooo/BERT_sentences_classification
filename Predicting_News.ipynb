{
  "nbformat": 4,
  "nbformat_minor": 0,
  "metadata": {
    "colab": {
      "name": "Predicting Movie Reviews with BERT on TF Hub.ipynb",
      "provenance": [],
      "collapsed_sections": []
    },
    "kernelspec": {
      "name": "python3",
      "display_name": "Python 3"
    },
    "accelerator": "GPU"
  },
  "cells": [
    {
      "cell_type": "code",
      "metadata": {
        "id": "j0a4mTk9o1Qg",
        "colab_type": "code",
        "colab": {}
      },
      "source": [
        "# Copyright 2019 Google Inc.\n",
        "\n",
        "# Licensed under the Apache License, Version 2.0 (the \"License\");\n",
        "# you may not use this file except in compliance with the License.\n",
        "# You may obtain a copy of the License at\n",
        "\n",
        "#     http://www.apache.org/licenses/LICENSE-2.0\n",
        "\n",
        "# Unless required by applicable law or agreed to in writing, software\n",
        "# distributed under the License is distributed on an \"AS IS\" BASIS,\n",
        "# WITHOUT WARRANTIES OR CONDITIONS OF ANY KIND, either express or implied.\n",
        "# See the License for the specific language governing permissions and\n",
        "# limitations under the License."
      ],
      "execution_count": 0,
      "outputs": []
    },
    {
      "cell_type": "code",
      "metadata": {
        "id": "_ZgCPaAh-aC1",
        "colab_type": "code",
        "colab": {
          "base_uri": "https://localhost:8080/",
          "height": 128
        },
        "outputId": "eb742672-638f-4ff2-b6c9-3e4cb95dc8d2"
      },
      "source": [
        "from google.colab import drive\n",
        "drive.mount('/content/drive')"
      ],
      "execution_count": 1,
      "outputs": [
        {
          "output_type": "stream",
          "text": [
            "Go to this URL in a browser: https://accounts.google.com/o/oauth2/auth?client_id=947318989803-6bn6qk8qdgf4n4g3pfee6491hc0brc4i.apps.googleusercontent.com&redirect_uri=urn%3aietf%3awg%3aoauth%3a2.0%3aoob&response_type=code&scope=email%20https%3a%2f%2fwww.googleapis.com%2fauth%2fdocs.test%20https%3a%2f%2fwww.googleapis.com%2fauth%2fdrive%20https%3a%2f%2fwww.googleapis.com%2fauth%2fdrive.photos.readonly%20https%3a%2f%2fwww.googleapis.com%2fauth%2fpeopleapi.readonly\n",
            "\n",
            "Enter your authorization code:\n",
            "··········\n",
            "Mounted at /content/drive\n"
          ],
          "name": "stdout"
        }
      ]
    },
    {
      "cell_type": "markdown",
      "metadata": {
        "id": "dCpvgG0vwXAZ",
        "colab_type": "text"
      },
      "source": [
        "#Predicting Movie Review Sentiment with BERT on TF Hub"
      ]
    },
    {
      "cell_type": "markdown",
      "metadata": {
        "id": "xiYrZKaHwV81",
        "colab_type": "text"
      },
      "source": [
        "If you’ve been following Natural Language Processing over the past year, you’ve probably heard of BERT: Bidirectional Encoder Representations from Transformers. It’s a neural network architecture designed by Google researchers that’s totally transformed what’s state-of-the-art for NLP tasks, like text classification, translation, summarization, and question answering.\n",
        "\n",
        "Now that BERT's been added to [TF Hub](https://www.tensorflow.org/hub) as a loadable module, it's easy(ish) to add into existing Tensorflow text pipelines. In an existing pipeline, BERT can replace text embedding layers like ELMO and GloVE. Alternatively, [finetuning](http://wiki.fast.ai/index.php/Fine_tuning) BERT can provide both an accuracy boost and faster training time in many cases.\n",
        "\n",
        "Here, we'll train a model to predict whether an IMDB movie review is positive or negative using BERT in Tensorflow with tf hub. Some code was adapted from [this colab notebook](https://colab.sandbox.google.com/github/tensorflow/tpu/blob/master/tools/colab/bert_finetuning_with_cloud_tpus.ipynb). Let's get started!"
      ]
    },
    {
      "cell_type": "code",
      "metadata": {
        "id": "hsZvic2YxnTz",
        "colab_type": "code",
        "outputId": "8edbdca6-adf1-4285-97f6-2bfac32819dd",
        "colab": {
          "base_uri": "https://localhost:8080/",
          "height": 65
        }
      },
      "source": [
        "from sklearn.model_selection import train_test_split\n",
        "import pandas as pd\n",
        "import tensorflow as tf\n",
        "import tensorflow_hub as hub\n",
        "from datetime import datetime"
      ],
      "execution_count": 2,
      "outputs": [
        {
          "output_type": "display_data",
          "data": {
            "text/html": [
              "<p style=\"color: red;\">\n",
              "The default version of TensorFlow in Colab will soon switch to TensorFlow 2.x.<br>\n",
              "We recommend you <a href=\"https://www.tensorflow.org/guide/migrate\" target=\"_blank\">upgrade</a> now \n",
              "or ensure your notebook will continue to use TensorFlow 1.x via the <code>%tensorflow_version 1.x</code> magic:\n",
              "<a href=\"https://colab.research.google.com/notebooks/tensorflow_version.ipynb\" target=\"_blank\">more info</a>.</p>\n"
            ],
            "text/plain": [
              "<IPython.core.display.HTML object>"
            ]
          },
          "metadata": {
            "tags": []
          }
        }
      ]
    },
    {
      "cell_type": "markdown",
      "metadata": {
        "id": "cp5wfXDx5SPH",
        "colab_type": "text"
      },
      "source": [
        "In addition to the standard libraries we imported above, we'll need to install BERT's python package."
      ]
    },
    {
      "cell_type": "code",
      "metadata": {
        "id": "jviywGyWyKsA",
        "colab_type": "code",
        "outputId": "b90d6747-e97f-46e3-df9f-642259ad1204",
        "colab": {
          "base_uri": "https://localhost:8080/",
          "height": 146
        }
      },
      "source": [
        "!pip install bert-tensorflow"
      ],
      "execution_count": 3,
      "outputs": [
        {
          "output_type": "stream",
          "text": [
            "Collecting bert-tensorflow\n",
            "\u001b[?25l  Downloading https://files.pythonhosted.org/packages/a6/66/7eb4e8b6ea35b7cc54c322c816f976167a43019750279a8473d355800a93/bert_tensorflow-1.0.1-py2.py3-none-any.whl (67kB)\n",
            "\r\u001b[K     |████▉                           | 10kB 32.8MB/s eta 0:00:01\r\u001b[K     |█████████▊                      | 20kB 5.7MB/s eta 0:00:01\r\u001b[K     |██████████████▋                 | 30kB 8.2MB/s eta 0:00:01\r\u001b[K     |███████████████████▍            | 40kB 5.6MB/s eta 0:00:01\r\u001b[K     |████████████████████████▎       | 51kB 6.9MB/s eta 0:00:01\r\u001b[K     |█████████████████████████████▏  | 61kB 8.2MB/s eta 0:00:01\r\u001b[K     |████████████████████████████████| 71kB 4.5MB/s \n",
            "\u001b[?25hRequirement already satisfied: six in /usr/local/lib/python3.6/dist-packages (from bert-tensorflow) (1.12.0)\n",
            "Installing collected packages: bert-tensorflow\n",
            "Successfully installed bert-tensorflow-1.0.1\n"
          ],
          "name": "stdout"
        }
      ]
    },
    {
      "cell_type": "code",
      "metadata": {
        "id": "hhbGEfwgdEtw",
        "colab_type": "code",
        "outputId": "de6ff2f5-bb8a-484a-a349-fe76dd4fd0ff",
        "colab": {
          "base_uri": "https://localhost:8080/",
          "height": 74
        }
      },
      "source": [
        "import bert\n",
        "from bert import run_classifier\n",
        "from bert import optimization\n",
        "from bert import tokenization"
      ],
      "execution_count": 4,
      "outputs": [
        {
          "output_type": "stream",
          "text": [
            "WARNING:tensorflow:From /usr/local/lib/python3.6/dist-packages/bert/optimization.py:87: The name tf.train.Optimizer is deprecated. Please use tf.compat.v1.train.Optimizer instead.\n",
            "\n"
          ],
          "name": "stdout"
        }
      ]
    },
    {
      "cell_type": "markdown",
      "metadata": {
        "id": "KVB3eOcjxxm1",
        "colab_type": "text"
      },
      "source": [
        "Below, we'll set an output directory location to store our model output and checkpoints. This can be a local directory, in which case you'd set OUTPUT_DIR to the name of the directory you'd like to create. If you're running this code in Google's hosted Colab, the directory won't persist after the Colab session ends.\n",
        "\n",
        "Alternatively, if you're a GCP user, you can store output in a GCP bucket. To do that, set a directory name in OUTPUT_DIR and the name of the GCP bucket in the BUCKET field.\n",
        "\n",
        "Set DO_DELETE to rewrite the OUTPUT_DIR if it exists. Otherwise, Tensorflow will load existing model checkpoints from that directory (if they exist)."
      ]
    },
    {
      "cell_type": "code",
      "metadata": {
        "id": "US_EAnICvP7f",
        "colab_type": "code",
        "outputId": "ccbd728d-7aad-4de6-f385-270105b2f2df",
        "cellView": "both",
        "colab": {
          "base_uri": "https://localhost:8080/",
          "height": 35
        }
      },
      "source": [
        "# # Set the output directory for saving model file\n",
        "# # Optionally, set a GCP bucket location\n",
        "\n",
        "# OUTPUT_DIR = 'OUTPUT_DIR_NAME'#@param {type:\"string\"}\n",
        "# #@markdown Whether or not to clear/delete the directory and create a new one\n",
        "# DO_DELETE = False #@param {type:\"boolean\"}\n",
        "# #@markdown Set USE_BUCKET and BUCKET if you want to (optionally) store model output on GCP bucket.\n",
        "# USE_BUCKET = False #@param {type:\"boolean\"}\n",
        "# BUCKET = 'BUCKET_NAME' #@param {type:\"string\"}\n",
        "\n",
        "# if USE_BUCKET:\n",
        "#   OUTPUT_DIR = 'gs://{}/{}'.format(BUCKET, OUTPUT_DIR)\n",
        "#   from google.colab import auth\n",
        "#   auth.authenticate_user()\n",
        "\n",
        "# if DO_DELETE:\n",
        "#   try:\n",
        "#     tf.gfile.DeleteRecursively(OUTPUT_DIR)\n",
        "#   except:\n",
        "#     # Doesn't matter if the directory didn't exist\n",
        "#     pass\n",
        "# tf.gfile.MakeDirs(OUTPUT_DIR)\n",
        "# print('***** Model output directory: {} *****'.format(OUTPUT_DIR))\n"
      ],
      "execution_count": 0,
      "outputs": [
        {
          "output_type": "stream",
          "text": [
            "***** Model output directory: OUTPUT_DIR_NAME *****\n"
          ],
          "name": "stdout"
        }
      ]
    },
    {
      "cell_type": "code",
      "metadata": {
        "id": "dQmnsSds_Kqd",
        "colab_type": "code",
        "colab": {}
      },
      "source": [
        "OUTPUT_DIR = '/content/drive/My Drive/nlp_test/bert_checkpoints'\n",
        "tf.gfile.MakeDirs(OUTPUT_DIR)"
      ],
      "execution_count": 0,
      "outputs": []
    },
    {
      "cell_type": "markdown",
      "metadata": {
        "id": "pmFYvkylMwXn",
        "colab_type": "text"
      },
      "source": [
        "#Data"
      ]
    },
    {
      "cell_type": "markdown",
      "metadata": {
        "id": "MC_w8SRqN0fr",
        "colab_type": "text"
      },
      "source": [
        "First, let's download the dataset, hosted by Stanford. The code below, which downloads, extracts, and imports the IMDB Large Movie Review Dataset, is borrowed from [this Tensorflow tutorial](https://www.tensorflow.org/hub/tutorials/text_classification_with_tf_hub)."
      ]
    },
    {
      "cell_type": "code",
      "metadata": {
        "id": "fom_ff20gyy6",
        "colab_type": "code",
        "colab": {}
      },
      "source": [
        "from tensorflow import keras\n",
        "import os\n",
        "# import re\n",
        "\n",
        "# # Load all files from a directory in a DataFrame.\n",
        "# def load_directory_data(directory):\n",
        "#   data = {}\n",
        "#   data[\"sentence\"] = []\n",
        "#   data[\"sentiment\"] = []\n",
        "#   for file_path in os.listdir(directory):\n",
        "#     with tf.gfile.GFile(os.path.join(directory, file_path), \"r\") as f:\n",
        "#       data[\"sentence\"].append(f.read())\n",
        "#       data[\"sentiment\"].append(re.match(\"\\d+_(\\d+)\\.txt\", file_path).group(1))\n",
        "#   return pd.DataFrame.from_dict(data)\n",
        "\n",
        "# # Merge positive and negative examples, add a polarity column and shuffle.\n",
        "# def load_dataset(directory):\n",
        "#   pos_df = load_directory_data(os.path.join(directory, \"pos\"))\n",
        "#   neg_df = load_directory_data(os.path.join(directory, \"neg\"))\n",
        "#   pos_df[\"polarity\"] = 1\n",
        "#   neg_df[\"polarity\"] = 0\n",
        "#   return pd.concat([pos_df, neg_df]).sample(frac=1).reset_index(drop=True)\n",
        "\n",
        "# # Download and process the dataset files.\n",
        "# def download_and_load_datasets(force_download=False):\n",
        "#   dataset = tf.keras.utils.get_file(\n",
        "#       fname=\"aclImdb.tar.gz\", \n",
        "#       origin=\"http://ai.stanford.edu/~amaas/data/sentiment/aclImdb_v1.tar.gz\", \n",
        "#       extract=True)\n",
        "  \n",
        "#   train_df = load_dataset(os.path.join(os.path.dirname(dataset), \n",
        "#                                        \"aclImdb\", \"train\"))\n",
        "#   test_df = load_dataset(os.path.join(os.path.dirname(dataset), \n",
        "#                                       \"aclImdb\", \"test\"))\n",
        "  \n",
        "#   return train_df, test_df\n"
      ],
      "execution_count": 0,
      "outputs": []
    },
    {
      "cell_type": "code",
      "metadata": {
        "id": "2abfwdn-g135",
        "colab_type": "code",
        "colab": {}
      },
      "source": [
        "# train, test = \n",
        "import pandas as pd\n",
        "\n",
        "train_sentences = pd.read_csv('/content/drive/My Drive/nlp_test/data/train_sentences.csv')"
      ],
      "execution_count": 0,
      "outputs": []
    },
    {
      "cell_type": "code",
      "metadata": {
        "id": "Oxr_Y7FbqMYy",
        "colab_type": "code",
        "outputId": "d3a60bb5-5c1b-4df3-d603-d0f06430714b",
        "colab": {
          "base_uri": "https://localhost:8080/",
          "height": 198
        }
      },
      "source": [
        "train_sentences.head()"
      ],
      "execution_count": 7,
      "outputs": [
        {
          "output_type": "execute_result",
          "data": {
            "text/html": [
              "<div>\n",
              "<style scoped>\n",
              "    .dataframe tbody tr th:only-of-type {\n",
              "        vertical-align: middle;\n",
              "    }\n",
              "\n",
              "    .dataframe tbody tr th {\n",
              "        vertical-align: top;\n",
              "    }\n",
              "\n",
              "    .dataframe thead th {\n",
              "        text-align: right;\n",
              "    }\n",
              "</style>\n",
              "<table border=\"1\" class=\"dataframe\">\n",
              "  <thead>\n",
              "    <tr style=\"text-align: right;\">\n",
              "      <th></th>\n",
              "      <th>sentence</th>\n",
              "      <th>labels</th>\n",
              "    </tr>\n",
              "  </thead>\n",
              "  <tbody>\n",
              "    <tr>\n",
              "      <th>0</th>\n",
              "      <td>В доме зарегистрировано 80 участников долевого...</td>\n",
              "      <td>0</td>\n",
              "    </tr>\n",
              "    <tr>\n",
              "      <th>1</th>\n",
              "      <td>Срыв сроков строительства зоопарка оценили в 1...</td>\n",
              "      <td>1</td>\n",
              "    </tr>\n",
              "    <tr>\n",
              "      <th>2</th>\n",
              "      <td>На сегодняшний день готовность составляет лишь...</td>\n",
              "      <td>0</td>\n",
              "    </tr>\n",
              "    <tr>\n",
              "      <th>3</th>\n",
              "      <td>А вот кто понесёт ответственность за срыв срок...</td>\n",
              "      <td>1</td>\n",
              "    </tr>\n",
              "    <tr>\n",
              "      <th>4</th>\n",
              "      <td>ЗОЛОТОЙ КВАДРАТНЫЙ МЕТР – Первый замначальника...</td>\n",
              "      <td>0</td>\n",
              "    </tr>\n",
              "  </tbody>\n",
              "</table>\n",
              "</div>"
            ],
            "text/plain": [
              "                                            sentence  labels\n",
              "0  В доме зарегистрировано 80 участников долевого...       0\n",
              "1  Срыв сроков строительства зоопарка оценили в 1...       1\n",
              "2  На сегодняшний день готовность составляет лишь...       0\n",
              "3  А вот кто понесёт ответственность за срыв срок...       1\n",
              "4  ЗОЛОТОЙ КВАДРАТНЫЙ МЕТР – Первый замначальника...       0"
            ]
          },
          "metadata": {
            "tags": []
          },
          "execution_count": 7
        }
      ]
    },
    {
      "cell_type": "code",
      "metadata": {
        "id": "nYL-VnrQARAv",
        "colab_type": "code",
        "colab": {}
      },
      "source": [
        "train, val = train_test_split(train_sentences, test_size=0.1)"
      ],
      "execution_count": 0,
      "outputs": []
    },
    {
      "cell_type": "code",
      "metadata": {
        "id": "FbS4g6KXAhLH",
        "colab_type": "code",
        "colab": {
          "base_uri": "https://localhost:8080/",
          "height": 198
        },
        "outputId": "01deede4-a07f-431d-bdd5-0e038c30adef"
      },
      "source": [
        "train.head()"
      ],
      "execution_count": 12,
      "outputs": [
        {
          "output_type": "execute_result",
          "data": {
            "text/html": [
              "<div>\n",
              "<style scoped>\n",
              "    .dataframe tbody tr th:only-of-type {\n",
              "        vertical-align: middle;\n",
              "    }\n",
              "\n",
              "    .dataframe tbody tr th {\n",
              "        vertical-align: top;\n",
              "    }\n",
              "\n",
              "    .dataframe thead th {\n",
              "        text-align: right;\n",
              "    }\n",
              "</style>\n",
              "<table border=\"1\" class=\"dataframe\">\n",
              "  <thead>\n",
              "    <tr style=\"text-align: right;\">\n",
              "      <th></th>\n",
              "      <th>sentence</th>\n",
              "      <th>labels</th>\n",
              "    </tr>\n",
              "  </thead>\n",
              "  <tbody>\n",
              "    <tr>\n",
              "      <th>907</th>\n",
              "      <td>Мера пресечения в отношении главы строительной...</td>\n",
              "      <td>0</td>\n",
              "    </tr>\n",
              "    <tr>\n",
              "      <th>738</th>\n",
              "      <td>Под угрозой поставки сжиженного природного газ...</td>\n",
              "      <td>0</td>\n",
              "    </tr>\n",
              "    <tr>\n",
              "      <th>1115</th>\n",
              "      <td>Комитет по промышленности совместно с комитето...</td>\n",
              "      <td>0</td>\n",
              "    </tr>\n",
              "    <tr>\n",
              "      <th>1540</th>\n",
              "      <td>Департамент здравоохранения подал в суд на зас...</td>\n",
              "      <td>1</td>\n",
              "    </tr>\n",
              "    <tr>\n",
              "      <th>303</th>\n",
              "      <td>Кроме того, по факту концессионером является и...</td>\n",
              "      <td>0</td>\n",
              "    </tr>\n",
              "  </tbody>\n",
              "</table>\n",
              "</div>"
            ],
            "text/plain": [
              "                                               sentence  labels\n",
              "907   Мера пресечения в отношении главы строительной...       0\n",
              "738   Под угрозой поставки сжиженного природного газ...       0\n",
              "1115  Комитет по промышленности совместно с комитето...       0\n",
              "1540  Департамент здравоохранения подал в суд на зас...       1\n",
              "303   Кроме того, по факту концессионером является и...       0"
            ]
          },
          "metadata": {
            "tags": []
          },
          "execution_count": 12
        }
      ]
    },
    {
      "cell_type": "code",
      "metadata": {
        "id": "uzK29iFXAsiG",
        "colab_type": "code",
        "colab": {
          "base_uri": "https://localhost:8080/",
          "height": 35
        },
        "outputId": "3f132226-9d3d-4dc9-b4fc-53217c1cb30a"
      },
      "source": [
        "train.shape"
      ],
      "execution_count": 13,
      "outputs": [
        {
          "output_type": "execute_result",
          "data": {
            "text/plain": [
              "(1502, 2)"
            ]
          },
          "metadata": {
            "tags": []
          },
          "execution_count": 13
        }
      ]
    },
    {
      "cell_type": "markdown",
      "metadata": {
        "id": "sfRnHSz3iSXz",
        "colab_type": "text"
      },
      "source": [
        "For us, our input data is the 'sentence' column and our label is the 'polarity' column (0, 1 for negative and positive, respecitvely)"
      ]
    },
    {
      "cell_type": "code",
      "metadata": {
        "id": "IuMOGwFui4it",
        "colab_type": "code",
        "colab": {}
      },
      "source": [
        "DATA_COLUMN = 'sentence'\n",
        "LABEL_COLUMN = 'labels'\n",
        "# label_list is the list of labels, i.e. True, False or 0, 1 or 'dog', 'cat'\n",
        "label_list = [0, 1]"
      ],
      "execution_count": 0,
      "outputs": []
    },
    {
      "cell_type": "markdown",
      "metadata": {
        "id": "V399W0rqNJ-Z",
        "colab_type": "text"
      },
      "source": [
        "#Data Preprocessing\n",
        "We'll need to transform our data into a format BERT understands. This involves two steps. First, we create  `InputExample`'s using the constructor provided in the BERT library.\n",
        "\n",
        "- `text_a` is the text we want to classify, which in this case, is the `Request` field in our Dataframe. \n",
        "- `text_b` is used if we're training a model to understand the relationship between sentences (i.e. is `text_b` a translation of `text_a`? Is `text_b` an answer to the question asked by `text_a`?). This doesn't apply to our task, so we can leave `text_b` blank.\n",
        "- `label` is the label for our example, i.e. True, False"
      ]
    },
    {
      "cell_type": "code",
      "metadata": {
        "id": "p9gEt5SmM6i6",
        "colab_type": "code",
        "colab": {}
      },
      "source": [
        "# Use the InputExample class from BERT's run_classifier code to create examples from the data\n",
        "train_InputExamples = train.apply(lambda x: bert.run_classifier.InputExample(guid=None, # Globally unique ID for bookkeeping, unused in this example\n",
        "                                                                   text_a = x[DATA_COLUMN], \n",
        "                                                                   text_b = None, \n",
        "                                                                   label = x[LABEL_COLUMN]), axis = 1)\n",
        "\n",
        "val_InputExamples = val.apply(lambda x: bert.run_classifier.InputExample(guid=None, \n",
        "                                                                   text_a = x[DATA_COLUMN], \n",
        "                                                                   text_b = None, \n",
        "                                                                   label = x[LABEL_COLUMN]), axis = 1)"
      ],
      "execution_count": 0,
      "outputs": []
    },
    {
      "cell_type": "markdown",
      "metadata": {
        "id": "SCZWZtKxObjh",
        "colab_type": "text"
      },
      "source": [
        "Next, we need to preprocess our data so that it matches the data BERT was trained on. For this, we'll need to do a couple of things (but don't worry--this is also included in the Python library):\n",
        "\n",
        "\n",
        "1. Lowercase our text (if we're using a BERT lowercase model)\n",
        "2. Tokenize it (i.e. \"sally says hi\" -> [\"sally\", \"says\", \"hi\"])\n",
        "3. Break words into WordPieces (i.e. \"calling\" -> [\"call\", \"##ing\"])\n",
        "4. Map our words to indexes using a vocab file that BERT provides\n",
        "5. Add special \"CLS\" and \"SEP\" tokens (see the [readme](https://github.com/google-research/bert))\n",
        "6. Append \"index\" and \"segment\" tokens to each input (see the [BERT paper](https://arxiv.org/pdf/1810.04805.pdf))\n",
        "\n",
        "Happily, we don't have to worry about most of these details.\n",
        "\n",
        "\n"
      ]
    },
    {
      "cell_type": "markdown",
      "metadata": {
        "id": "qMWiDtpyQSoU",
        "colab_type": "text"
      },
      "source": [
        "To start, we'll need to load a vocabulary file and lowercasing information directly from the BERT tf hub module:"
      ]
    },
    {
      "cell_type": "code",
      "metadata": {
        "id": "IhJSe0QHNG7U",
        "colab_type": "code",
        "outputId": "0324a793-2c5c-47b7-bae9-90fff65e5a23",
        "colab": {
          "base_uri": "https://localhost:8080/",
          "height": 54
        }
      },
      "source": [
        "# This is a path to an uncased (all lowercase) version of BERT\n",
        "BERT_MODEL_HUB = \"https://tfhub.dev/google/bert_multi_cased_L-12_H-768_A-12/1\"\n",
        "\n",
        "def create_tokenizer_from_hub_module():\n",
        "  \"\"\"Get the vocab file and casing info from the Hub module.\"\"\"\n",
        "  with tf.Graph().as_default():\n",
        "    bert_module = hub.Module(BERT_MODEL_HUB)\n",
        "    tokenization_info = bert_module(signature=\"tokenization_info\", as_dict=True)\n",
        "    with tf.Session() as sess:\n",
        "      vocab_file, do_lower_case = sess.run([tokenization_info[\"vocab_file\"],\n",
        "                                            tokenization_info[\"do_lower_case\"]])\n",
        "      \n",
        "  return bert.tokenization.FullTokenizer(\n",
        "      vocab_file=vocab_file, do_lower_case=do_lower_case)\n",
        "\n",
        "tokenizer = create_tokenizer_from_hub_module()"
      ],
      "execution_count": 21,
      "outputs": [
        {
          "output_type": "stream",
          "text": [
            "INFO:tensorflow:Saver not created because there are no variables in the graph to restore\n"
          ],
          "name": "stdout"
        },
        {
          "output_type": "stream",
          "text": [
            "INFO:tensorflow:Saver not created because there are no variables in the graph to restore\n"
          ],
          "name": "stderr"
        }
      ]
    },
    {
      "cell_type": "markdown",
      "metadata": {
        "id": "z4oFkhpZBDKm",
        "colab_type": "text"
      },
      "source": [
        "Great--we just learned that the BERT model we're using expects lowercase data (that's what stored in tokenization_info[\"do_lower_case\"]) and we also loaded BERT's vocab file. We also created a tokenizer, which breaks words into word pieces:"
      ]
    },
    {
      "cell_type": "code",
      "metadata": {
        "id": "gNPtruRAraj4",
        "colab_type": "code",
        "outputId": "12d09569-0a8b-4779-e4ca-ff978601cf5e",
        "colab": {
          "base_uri": "https://localhost:8080/",
          "height": 35
        }
      },
      "source": [
        "tokenizer.tokenize(\"Это просто пример\")"
      ],
      "execution_count": 22,
      "outputs": [
        {
          "output_type": "execute_result",
          "data": {
            "text/plain": [
              "['Это', 'просто', 'пример']"
            ]
          },
          "metadata": {
            "tags": []
          },
          "execution_count": 22
        }
      ]
    },
    {
      "cell_type": "markdown",
      "metadata": {
        "id": "0OEzfFIt6GIc",
        "colab_type": "text"
      },
      "source": [
        "Using our tokenizer, we'll call `run_classifier.convert_examples_to_features` on our InputExamples to convert them into features BERT understands."
      ]
    },
    {
      "cell_type": "code",
      "metadata": {
        "id": "LL5W8gEGRTAf",
        "colab_type": "code",
        "outputId": "8f91028c-d8ec-4cfb-cc0c-d0a31cc5b74f",
        "colab": {
          "base_uri": "https://localhost:8080/",
          "height": 1000
        }
      },
      "source": [
        "# We'll set sequences to be at most 128 tokens long.\n",
        "MAX_SEQ_LENGTH = 128\n",
        "# Convert our train and test features to InputFeatures that BERT understands.\n",
        "train_features = bert.run_classifier.convert_examples_to_features(train_InputExamples, label_list, MAX_SEQ_LENGTH, tokenizer)\n",
        "val_features = bert.run_classifier.convert_examples_to_features(val_InputExamples, label_list, MAX_SEQ_LENGTH, tokenizer)"
      ],
      "execution_count": 23,
      "outputs": [
        {
          "output_type": "stream",
          "text": [
            "WARNING:tensorflow:From /usr/local/lib/python3.6/dist-packages/bert/run_classifier.py:774: The name tf.logging.info is deprecated. Please use tf.compat.v1.logging.info instead.\n",
            "\n"
          ],
          "name": "stdout"
        },
        {
          "output_type": "stream",
          "text": [
            "WARNING:tensorflow:From /usr/local/lib/python3.6/dist-packages/bert/run_classifier.py:774: The name tf.logging.info is deprecated. Please use tf.compat.v1.logging.info instead.\n",
            "\n"
          ],
          "name": "stderr"
        },
        {
          "output_type": "stream",
          "text": [
            "INFO:tensorflow:Writing example 0 of 1502\n"
          ],
          "name": "stdout"
        },
        {
          "output_type": "stream",
          "text": [
            "INFO:tensorflow:Writing example 0 of 1502\n"
          ],
          "name": "stderr"
        },
        {
          "output_type": "stream",
          "text": [
            "INFO:tensorflow:*** Example ***\n"
          ],
          "name": "stdout"
        },
        {
          "output_type": "stream",
          "text": [
            "INFO:tensorflow:*** Example ***\n"
          ],
          "name": "stderr"
        },
        {
          "output_type": "stream",
          "text": [
            "INFO:tensorflow:guid: None\n"
          ],
          "name": "stdout"
        },
        {
          "output_type": "stream",
          "text": [
            "INFO:tensorflow:guid: None\n"
          ],
          "name": "stderr"
        },
        {
          "output_type": "stream",
          "text": [
            "INFO:tensorflow:tokens: [CLS] М ##ера пре ##се ##чения в отношении главы стр ##ои ##тельной компании пока не из ##бира ##лась . [SEP]\n"
          ],
          "name": "stdout"
        },
        {
          "output_type": "stream",
          "text": [
            "INFO:tensorflow:tokens: [CLS] М ##ера пре ##се ##чения в отношении главы стр ##ои ##тельной компании пока не из ##бира ##лась . [SEP]\n"
          ],
          "name": "stderr"
        },
        {
          "output_type": "stream",
          "text": [
            "INFO:tensorflow:input_ids: 101 521 14961 38494 13110 25972 543 57144 82521 19240 26891 42156 23565 45899 10375 10387 64815 20292 119 102 0 0 0 0 0 0 0 0 0 0 0 0 0 0 0 0 0 0 0 0 0 0 0 0 0 0 0 0 0 0 0 0 0 0 0 0 0 0 0 0 0 0 0 0 0 0 0 0 0 0 0 0 0 0 0 0 0 0 0 0 0 0 0 0 0 0 0 0 0 0 0 0 0 0 0 0 0 0 0 0 0 0 0 0 0 0 0 0 0 0 0 0 0 0 0 0 0 0 0 0 0 0 0 0 0 0 0 0\n"
          ],
          "name": "stdout"
        },
        {
          "output_type": "stream",
          "text": [
            "INFO:tensorflow:input_ids: 101 521 14961 38494 13110 25972 543 57144 82521 19240 26891 42156 23565 45899 10375 10387 64815 20292 119 102 0 0 0 0 0 0 0 0 0 0 0 0 0 0 0 0 0 0 0 0 0 0 0 0 0 0 0 0 0 0 0 0 0 0 0 0 0 0 0 0 0 0 0 0 0 0 0 0 0 0 0 0 0 0 0 0 0 0 0 0 0 0 0 0 0 0 0 0 0 0 0 0 0 0 0 0 0 0 0 0 0 0 0 0 0 0 0 0 0 0 0 0 0 0 0 0 0 0 0 0 0 0 0 0 0 0 0 0\n"
          ],
          "name": "stderr"
        },
        {
          "output_type": "stream",
          "text": [
            "INFO:tensorflow:input_mask: 1 1 1 1 1 1 1 1 1 1 1 1 1 1 1 1 1 1 1 1 0 0 0 0 0 0 0 0 0 0 0 0 0 0 0 0 0 0 0 0 0 0 0 0 0 0 0 0 0 0 0 0 0 0 0 0 0 0 0 0 0 0 0 0 0 0 0 0 0 0 0 0 0 0 0 0 0 0 0 0 0 0 0 0 0 0 0 0 0 0 0 0 0 0 0 0 0 0 0 0 0 0 0 0 0 0 0 0 0 0 0 0 0 0 0 0 0 0 0 0 0 0 0 0 0 0 0 0\n"
          ],
          "name": "stdout"
        },
        {
          "output_type": "stream",
          "text": [
            "INFO:tensorflow:input_mask: 1 1 1 1 1 1 1 1 1 1 1 1 1 1 1 1 1 1 1 1 0 0 0 0 0 0 0 0 0 0 0 0 0 0 0 0 0 0 0 0 0 0 0 0 0 0 0 0 0 0 0 0 0 0 0 0 0 0 0 0 0 0 0 0 0 0 0 0 0 0 0 0 0 0 0 0 0 0 0 0 0 0 0 0 0 0 0 0 0 0 0 0 0 0 0 0 0 0 0 0 0 0 0 0 0 0 0 0 0 0 0 0 0 0 0 0 0 0 0 0 0 0 0 0 0 0 0 0\n"
          ],
          "name": "stderr"
        },
        {
          "output_type": "stream",
          "text": [
            "INFO:tensorflow:segment_ids: 0 0 0 0 0 0 0 0 0 0 0 0 0 0 0 0 0 0 0 0 0 0 0 0 0 0 0 0 0 0 0 0 0 0 0 0 0 0 0 0 0 0 0 0 0 0 0 0 0 0 0 0 0 0 0 0 0 0 0 0 0 0 0 0 0 0 0 0 0 0 0 0 0 0 0 0 0 0 0 0 0 0 0 0 0 0 0 0 0 0 0 0 0 0 0 0 0 0 0 0 0 0 0 0 0 0 0 0 0 0 0 0 0 0 0 0 0 0 0 0 0 0 0 0 0 0 0 0\n"
          ],
          "name": "stdout"
        },
        {
          "output_type": "stream",
          "text": [
            "INFO:tensorflow:segment_ids: 0 0 0 0 0 0 0 0 0 0 0 0 0 0 0 0 0 0 0 0 0 0 0 0 0 0 0 0 0 0 0 0 0 0 0 0 0 0 0 0 0 0 0 0 0 0 0 0 0 0 0 0 0 0 0 0 0 0 0 0 0 0 0 0 0 0 0 0 0 0 0 0 0 0 0 0 0 0 0 0 0 0 0 0 0 0 0 0 0 0 0 0 0 0 0 0 0 0 0 0 0 0 0 0 0 0 0 0 0 0 0 0 0 0 0 0 0 0 0 0 0 0 0 0 0 0 0 0\n"
          ],
          "name": "stderr"
        },
        {
          "output_type": "stream",
          "text": [
            "INFO:tensorflow:label: 0 (id = 0)\n"
          ],
          "name": "stdout"
        },
        {
          "output_type": "stream",
          "text": [
            "INFO:tensorflow:label: 0 (id = 0)\n"
          ],
          "name": "stderr"
        },
        {
          "output_type": "stream",
          "text": [
            "INFO:tensorflow:*** Example ***\n"
          ],
          "name": "stdout"
        },
        {
          "output_type": "stream",
          "text": [
            "INFO:tensorflow:*** Example ***\n"
          ],
          "name": "stderr"
        },
        {
          "output_type": "stream",
          "text": [
            "INFO:tensorflow:guid: None\n"
          ],
          "name": "stdout"
        },
        {
          "output_type": "stream",
          "text": [
            "INFO:tensorflow:guid: None\n"
          ],
          "name": "stderr"
        },
        {
          "output_type": "stream",
          "text": [
            "INFO:tensorflow:tokens: [CLS] Под у ##гр ##оз ##ой поста ##вки с ##жи ##жен ##ного природно ##го газа с Ямал ##а в Китай . [SEP]\n"
          ],
          "name": "stdout"
        },
        {
          "output_type": "stream",
          "text": [
            "INFO:tensorflow:tokens: [CLS] Под у ##гр ##оз ##ой поста ##вки с ##жи ##жен ##ного природно ##го газа с Ямал ##а в Китай . [SEP]\n"
          ],
          "name": "stderr"
        },
        {
          "output_type": "stream",
          "text": [
            "INFO:tensorflow:input_ids: 101 23600 560 63596 44666 11292 80765 43034 558 14974 23855 11050 98155 10990 99374 558 77043 10179 543 41260 119 102 0 0 0 0 0 0 0 0 0 0 0 0 0 0 0 0 0 0 0 0 0 0 0 0 0 0 0 0 0 0 0 0 0 0 0 0 0 0 0 0 0 0 0 0 0 0 0 0 0 0 0 0 0 0 0 0 0 0 0 0 0 0 0 0 0 0 0 0 0 0 0 0 0 0 0 0 0 0 0 0 0 0 0 0 0 0 0 0 0 0 0 0 0 0 0 0 0 0 0 0 0 0 0 0 0 0\n"
          ],
          "name": "stdout"
        },
        {
          "output_type": "stream",
          "text": [
            "INFO:tensorflow:input_ids: 101 23600 560 63596 44666 11292 80765 43034 558 14974 23855 11050 98155 10990 99374 558 77043 10179 543 41260 119 102 0 0 0 0 0 0 0 0 0 0 0 0 0 0 0 0 0 0 0 0 0 0 0 0 0 0 0 0 0 0 0 0 0 0 0 0 0 0 0 0 0 0 0 0 0 0 0 0 0 0 0 0 0 0 0 0 0 0 0 0 0 0 0 0 0 0 0 0 0 0 0 0 0 0 0 0 0 0 0 0 0 0 0 0 0 0 0 0 0 0 0 0 0 0 0 0 0 0 0 0 0 0 0 0 0 0\n"
          ],
          "name": "stderr"
        },
        {
          "output_type": "stream",
          "text": [
            "INFO:tensorflow:input_mask: 1 1 1 1 1 1 1 1 1 1 1 1 1 1 1 1 1 1 1 1 1 1 0 0 0 0 0 0 0 0 0 0 0 0 0 0 0 0 0 0 0 0 0 0 0 0 0 0 0 0 0 0 0 0 0 0 0 0 0 0 0 0 0 0 0 0 0 0 0 0 0 0 0 0 0 0 0 0 0 0 0 0 0 0 0 0 0 0 0 0 0 0 0 0 0 0 0 0 0 0 0 0 0 0 0 0 0 0 0 0 0 0 0 0 0 0 0 0 0 0 0 0 0 0 0 0 0 0\n"
          ],
          "name": "stdout"
        },
        {
          "output_type": "stream",
          "text": [
            "INFO:tensorflow:input_mask: 1 1 1 1 1 1 1 1 1 1 1 1 1 1 1 1 1 1 1 1 1 1 0 0 0 0 0 0 0 0 0 0 0 0 0 0 0 0 0 0 0 0 0 0 0 0 0 0 0 0 0 0 0 0 0 0 0 0 0 0 0 0 0 0 0 0 0 0 0 0 0 0 0 0 0 0 0 0 0 0 0 0 0 0 0 0 0 0 0 0 0 0 0 0 0 0 0 0 0 0 0 0 0 0 0 0 0 0 0 0 0 0 0 0 0 0 0 0 0 0 0 0 0 0 0 0 0 0\n"
          ],
          "name": "stderr"
        },
        {
          "output_type": "stream",
          "text": [
            "INFO:tensorflow:segment_ids: 0 0 0 0 0 0 0 0 0 0 0 0 0 0 0 0 0 0 0 0 0 0 0 0 0 0 0 0 0 0 0 0 0 0 0 0 0 0 0 0 0 0 0 0 0 0 0 0 0 0 0 0 0 0 0 0 0 0 0 0 0 0 0 0 0 0 0 0 0 0 0 0 0 0 0 0 0 0 0 0 0 0 0 0 0 0 0 0 0 0 0 0 0 0 0 0 0 0 0 0 0 0 0 0 0 0 0 0 0 0 0 0 0 0 0 0 0 0 0 0 0 0 0 0 0 0 0 0\n"
          ],
          "name": "stdout"
        },
        {
          "output_type": "stream",
          "text": [
            "INFO:tensorflow:segment_ids: 0 0 0 0 0 0 0 0 0 0 0 0 0 0 0 0 0 0 0 0 0 0 0 0 0 0 0 0 0 0 0 0 0 0 0 0 0 0 0 0 0 0 0 0 0 0 0 0 0 0 0 0 0 0 0 0 0 0 0 0 0 0 0 0 0 0 0 0 0 0 0 0 0 0 0 0 0 0 0 0 0 0 0 0 0 0 0 0 0 0 0 0 0 0 0 0 0 0 0 0 0 0 0 0 0 0 0 0 0 0 0 0 0 0 0 0 0 0 0 0 0 0 0 0 0 0 0 0\n"
          ],
          "name": "stderr"
        },
        {
          "output_type": "stream",
          "text": [
            "INFO:tensorflow:label: 0 (id = 0)\n"
          ],
          "name": "stdout"
        },
        {
          "output_type": "stream",
          "text": [
            "INFO:tensorflow:label: 0 (id = 0)\n"
          ],
          "name": "stderr"
        },
        {
          "output_type": "stream",
          "text": [
            "INFO:tensorflow:*** Example ***\n"
          ],
          "name": "stdout"
        },
        {
          "output_type": "stream",
          "text": [
            "INFO:tensorflow:*** Example ***\n"
          ],
          "name": "stderr"
        },
        {
          "output_type": "stream",
          "text": [
            "INFO:tensorflow:guid: None\n"
          ],
          "name": "stdout"
        },
        {
          "output_type": "stream",
          "text": [
            "INFO:tensorflow:guid: None\n"
          ],
          "name": "stderr"
        },
        {
          "output_type": "stream",
          "text": [
            "INFO:tensorflow:tokens: [CLS] Коми ##тет по промышленности совместно с комитет ##ом по о ##х ##ране памятников раз ##работал поп ##рав ##ки к дан ##ному закону , которые у ##вели ##чив ##ают ма ##кс ##има ##льную вы ##сот ##ность зданий на этой территории до не ##об ##ходи ##мых ин ##ве ##стор ##ам 18 - ти метров . [SEP]\n"
          ],
          "name": "stdout"
        },
        {
          "output_type": "stream",
          "text": [
            "INFO:tensorflow:tokens: [CLS] Коми ##тет по промышленности совместно с комитет ##ом по о ##х ##ране памятников раз ##работал поп ##рав ##ки к дан ##ному закону , которые у ##вели ##чив ##ают ма ##кс ##има ##льную вы ##сот ##ность зданий на этой территории до не ##об ##ходи ##мых ин ##ве ##стор ##ам 18 - ти метров . [SEP]\n"
          ],
          "name": "stderr"
        },
        {
          "output_type": "stream",
          "text": [
            "INFO:tensorflow:input_ids: 101 35904 33570 10297 45960 37573 558 39087 10364 10297 555 10353 36035 101490 17257 79050 48138 41410 10648 551 49389 15575 89938 117 14028 560 53615 40181 31738 97744 18705 17804 39610 96195 87526 17100 87460 10122 18079 15852 10344 10375 33276 58933 41194 27796 14149 63792 13157 10218 118 30176 27671 119 102 0 0 0 0 0 0 0 0 0 0 0 0 0 0 0 0 0 0 0 0 0 0 0 0 0 0 0 0 0 0 0 0 0 0 0 0 0 0 0 0 0 0 0 0 0 0 0 0 0 0 0 0 0 0 0 0 0 0 0 0 0 0 0 0 0 0 0 0 0 0 0 0 0\n"
          ],
          "name": "stdout"
        },
        {
          "output_type": "stream",
          "text": [
            "INFO:tensorflow:input_ids: 101 35904 33570 10297 45960 37573 558 39087 10364 10297 555 10353 36035 101490 17257 79050 48138 41410 10648 551 49389 15575 89938 117 14028 560 53615 40181 31738 97744 18705 17804 39610 96195 87526 17100 87460 10122 18079 15852 10344 10375 33276 58933 41194 27796 14149 63792 13157 10218 118 30176 27671 119 102 0 0 0 0 0 0 0 0 0 0 0 0 0 0 0 0 0 0 0 0 0 0 0 0 0 0 0 0 0 0 0 0 0 0 0 0 0 0 0 0 0 0 0 0 0 0 0 0 0 0 0 0 0 0 0 0 0 0 0 0 0 0 0 0 0 0 0 0 0 0 0 0 0\n"
          ],
          "name": "stderr"
        },
        {
          "output_type": "stream",
          "text": [
            "INFO:tensorflow:input_mask: 1 1 1 1 1 1 1 1 1 1 1 1 1 1 1 1 1 1 1 1 1 1 1 1 1 1 1 1 1 1 1 1 1 1 1 1 1 1 1 1 1 1 1 1 1 1 1 1 1 1 1 1 1 1 1 0 0 0 0 0 0 0 0 0 0 0 0 0 0 0 0 0 0 0 0 0 0 0 0 0 0 0 0 0 0 0 0 0 0 0 0 0 0 0 0 0 0 0 0 0 0 0 0 0 0 0 0 0 0 0 0 0 0 0 0 0 0 0 0 0 0 0 0 0 0 0 0 0\n"
          ],
          "name": "stdout"
        },
        {
          "output_type": "stream",
          "text": [
            "INFO:tensorflow:input_mask: 1 1 1 1 1 1 1 1 1 1 1 1 1 1 1 1 1 1 1 1 1 1 1 1 1 1 1 1 1 1 1 1 1 1 1 1 1 1 1 1 1 1 1 1 1 1 1 1 1 1 1 1 1 1 1 0 0 0 0 0 0 0 0 0 0 0 0 0 0 0 0 0 0 0 0 0 0 0 0 0 0 0 0 0 0 0 0 0 0 0 0 0 0 0 0 0 0 0 0 0 0 0 0 0 0 0 0 0 0 0 0 0 0 0 0 0 0 0 0 0 0 0 0 0 0 0 0 0\n"
          ],
          "name": "stderr"
        },
        {
          "output_type": "stream",
          "text": [
            "INFO:tensorflow:segment_ids: 0 0 0 0 0 0 0 0 0 0 0 0 0 0 0 0 0 0 0 0 0 0 0 0 0 0 0 0 0 0 0 0 0 0 0 0 0 0 0 0 0 0 0 0 0 0 0 0 0 0 0 0 0 0 0 0 0 0 0 0 0 0 0 0 0 0 0 0 0 0 0 0 0 0 0 0 0 0 0 0 0 0 0 0 0 0 0 0 0 0 0 0 0 0 0 0 0 0 0 0 0 0 0 0 0 0 0 0 0 0 0 0 0 0 0 0 0 0 0 0 0 0 0 0 0 0 0 0\n"
          ],
          "name": "stdout"
        },
        {
          "output_type": "stream",
          "text": [
            "INFO:tensorflow:segment_ids: 0 0 0 0 0 0 0 0 0 0 0 0 0 0 0 0 0 0 0 0 0 0 0 0 0 0 0 0 0 0 0 0 0 0 0 0 0 0 0 0 0 0 0 0 0 0 0 0 0 0 0 0 0 0 0 0 0 0 0 0 0 0 0 0 0 0 0 0 0 0 0 0 0 0 0 0 0 0 0 0 0 0 0 0 0 0 0 0 0 0 0 0 0 0 0 0 0 0 0 0 0 0 0 0 0 0 0 0 0 0 0 0 0 0 0 0 0 0 0 0 0 0 0 0 0 0 0 0\n"
          ],
          "name": "stderr"
        },
        {
          "output_type": "stream",
          "text": [
            "INFO:tensorflow:label: 0 (id = 0)\n"
          ],
          "name": "stdout"
        },
        {
          "output_type": "stream",
          "text": [
            "INFO:tensorflow:label: 0 (id = 0)\n"
          ],
          "name": "stderr"
        },
        {
          "output_type": "stream",
          "text": [
            "INFO:tensorflow:*** Example ***\n"
          ],
          "name": "stdout"
        },
        {
          "output_type": "stream",
          "text": [
            "INFO:tensorflow:*** Example ***\n"
          ],
          "name": "stderr"
        },
        {
          "output_type": "stream",
          "text": [
            "INFO:tensorflow:guid: None\n"
          ],
          "name": "stdout"
        },
        {
          "output_type": "stream",
          "text": [
            "INFO:tensorflow:guid: None\n"
          ],
          "name": "stderr"
        },
        {
          "output_type": "stream",
          "text": [
            "INFO:tensorflow:tokens: [CLS] Департамент з ##дра ##во ##ох ##ранения под ##ал в суд на за ##стр ##ой ##щика , чтобы получить не ##ус ##той ##ку в 218 , 5 миллионов рублей за за ##дер ##ж ##ку вв ##ода в э ##кс ##п ##лу ##ата ##цию объекта , на строительство которого по ##тра ##чено более 10 милли ##ард ##ов рублей . [SEP]\n"
          ],
          "name": "stdout"
        },
        {
          "output_type": "stream",
          "text": [
            "INFO:tensorflow:tokens: [CLS] Департамент з ##дра ##во ##ох ##ранения под ##ал в суд на за ##стр ##ой ##щика , чтобы получить не ##ус ##той ##ку в 218 , 5 миллионов рублей за за ##дер ##ж ##ку вв ##ода в э ##кс ##п ##лу ##ата ##цию объекта , на строительство которого по ##тра ##чено более 10 милли ##ард ##ов рублей . [SEP]\n"
          ],
          "name": "stderr"
        },
        {
          "output_type": "stream",
          "text": [
            "INFO:tensorflow:input_ids: 101 80886 548 35865 15275 51823 51389 11429 12743 543 36681 10122 10234 52685 11292 73276 117 15692 59582 10375 19954 21503 11191 543 24599 117 126 61615 54298 10234 10234 22605 12025 11191 60345 24369 543 570 18705 11078 16111 16962 16191 62013 117 10122 42313 17581 10297 29672 27552 13106 10150 90134 35038 10433 54298 119 102 0 0 0 0 0 0 0 0 0 0 0 0 0 0 0 0 0 0 0 0 0 0 0 0 0 0 0 0 0 0 0 0 0 0 0 0 0 0 0 0 0 0 0 0 0 0 0 0 0 0 0 0 0 0 0 0 0 0 0 0 0 0 0 0 0 0 0 0 0\n"
          ],
          "name": "stdout"
        },
        {
          "output_type": "stream",
          "text": [
            "INFO:tensorflow:input_ids: 101 80886 548 35865 15275 51823 51389 11429 12743 543 36681 10122 10234 52685 11292 73276 117 15692 59582 10375 19954 21503 11191 543 24599 117 126 61615 54298 10234 10234 22605 12025 11191 60345 24369 543 570 18705 11078 16111 16962 16191 62013 117 10122 42313 17581 10297 29672 27552 13106 10150 90134 35038 10433 54298 119 102 0 0 0 0 0 0 0 0 0 0 0 0 0 0 0 0 0 0 0 0 0 0 0 0 0 0 0 0 0 0 0 0 0 0 0 0 0 0 0 0 0 0 0 0 0 0 0 0 0 0 0 0 0 0 0 0 0 0 0 0 0 0 0 0 0 0 0 0 0\n"
          ],
          "name": "stderr"
        },
        {
          "output_type": "stream",
          "text": [
            "INFO:tensorflow:input_mask: 1 1 1 1 1 1 1 1 1 1 1 1 1 1 1 1 1 1 1 1 1 1 1 1 1 1 1 1 1 1 1 1 1 1 1 1 1 1 1 1 1 1 1 1 1 1 1 1 1 1 1 1 1 1 1 1 1 1 1 0 0 0 0 0 0 0 0 0 0 0 0 0 0 0 0 0 0 0 0 0 0 0 0 0 0 0 0 0 0 0 0 0 0 0 0 0 0 0 0 0 0 0 0 0 0 0 0 0 0 0 0 0 0 0 0 0 0 0 0 0 0 0 0 0 0 0 0 0\n"
          ],
          "name": "stdout"
        },
        {
          "output_type": "stream",
          "text": [
            "INFO:tensorflow:input_mask: 1 1 1 1 1 1 1 1 1 1 1 1 1 1 1 1 1 1 1 1 1 1 1 1 1 1 1 1 1 1 1 1 1 1 1 1 1 1 1 1 1 1 1 1 1 1 1 1 1 1 1 1 1 1 1 1 1 1 1 0 0 0 0 0 0 0 0 0 0 0 0 0 0 0 0 0 0 0 0 0 0 0 0 0 0 0 0 0 0 0 0 0 0 0 0 0 0 0 0 0 0 0 0 0 0 0 0 0 0 0 0 0 0 0 0 0 0 0 0 0 0 0 0 0 0 0 0 0\n"
          ],
          "name": "stderr"
        },
        {
          "output_type": "stream",
          "text": [
            "INFO:tensorflow:segment_ids: 0 0 0 0 0 0 0 0 0 0 0 0 0 0 0 0 0 0 0 0 0 0 0 0 0 0 0 0 0 0 0 0 0 0 0 0 0 0 0 0 0 0 0 0 0 0 0 0 0 0 0 0 0 0 0 0 0 0 0 0 0 0 0 0 0 0 0 0 0 0 0 0 0 0 0 0 0 0 0 0 0 0 0 0 0 0 0 0 0 0 0 0 0 0 0 0 0 0 0 0 0 0 0 0 0 0 0 0 0 0 0 0 0 0 0 0 0 0 0 0 0 0 0 0 0 0 0 0\n"
          ],
          "name": "stdout"
        },
        {
          "output_type": "stream",
          "text": [
            "INFO:tensorflow:segment_ids: 0 0 0 0 0 0 0 0 0 0 0 0 0 0 0 0 0 0 0 0 0 0 0 0 0 0 0 0 0 0 0 0 0 0 0 0 0 0 0 0 0 0 0 0 0 0 0 0 0 0 0 0 0 0 0 0 0 0 0 0 0 0 0 0 0 0 0 0 0 0 0 0 0 0 0 0 0 0 0 0 0 0 0 0 0 0 0 0 0 0 0 0 0 0 0 0 0 0 0 0 0 0 0 0 0 0 0 0 0 0 0 0 0 0 0 0 0 0 0 0 0 0 0 0 0 0 0 0\n"
          ],
          "name": "stderr"
        },
        {
          "output_type": "stream",
          "text": [
            "INFO:tensorflow:label: 1 (id = 1)\n"
          ],
          "name": "stdout"
        },
        {
          "output_type": "stream",
          "text": [
            "INFO:tensorflow:label: 1 (id = 1)\n"
          ],
          "name": "stderr"
        },
        {
          "output_type": "stream",
          "text": [
            "INFO:tensorflow:*** Example ***\n"
          ],
          "name": "stdout"
        },
        {
          "output_type": "stream",
          "text": [
            "INFO:tensorflow:*** Example ***\n"
          ],
          "name": "stderr"
        },
        {
          "output_type": "stream",
          "text": [
            "INFO:tensorflow:guid: None\n"
          ],
          "name": "stdout"
        },
        {
          "output_type": "stream",
          "text": [
            "INFO:tensorflow:guid: None\n"
          ],
          "name": "stderr"
        },
        {
          "output_type": "stream",
          "text": [
            "INFO:tensorflow:tokens: [CLS] Кроме того , по факт ##у конце ##сси ##оне ##ром является и с ##кан ##дал ##ьно известный х ##ол ##дин ##г « Питер ##А ##вт ##о » . [SEP]\n"
          ],
          "name": "stdout"
        },
        {
          "output_type": "stream",
          "text": [
            "INFO:tensorflow:tokens: [CLS] Кроме того , по факт ##у конце ##сси ##оне ##ром является и с ##кан ##дал ##ьно известный х ##ол ##дин ##г « Питер ##А ##вт ##о » . [SEP]\n"
          ],
          "name": "stderr"
        },
        {
          "output_type": "stream",
          "text": [
            "INFO:tensorflow:input_ids: 101 24111 12409 117 10297 61481 10227 18895 82687 41200 21178 13414 549 558 17343 28354 24675 46127 562 17010 21657 10823 208 71816 16847 94454 10316 220 119 102 0 0 0 0 0 0 0 0 0 0 0 0 0 0 0 0 0 0 0 0 0 0 0 0 0 0 0 0 0 0 0 0 0 0 0 0 0 0 0 0 0 0 0 0 0 0 0 0 0 0 0 0 0 0 0 0 0 0 0 0 0 0 0 0 0 0 0 0 0 0 0 0 0 0 0 0 0 0 0 0 0 0 0 0 0 0 0 0 0 0 0 0 0 0 0 0 0 0\n"
          ],
          "name": "stdout"
        },
        {
          "output_type": "stream",
          "text": [
            "INFO:tensorflow:input_ids: 101 24111 12409 117 10297 61481 10227 18895 82687 41200 21178 13414 549 558 17343 28354 24675 46127 562 17010 21657 10823 208 71816 16847 94454 10316 220 119 102 0 0 0 0 0 0 0 0 0 0 0 0 0 0 0 0 0 0 0 0 0 0 0 0 0 0 0 0 0 0 0 0 0 0 0 0 0 0 0 0 0 0 0 0 0 0 0 0 0 0 0 0 0 0 0 0 0 0 0 0 0 0 0 0 0 0 0 0 0 0 0 0 0 0 0 0 0 0 0 0 0 0 0 0 0 0 0 0 0 0 0 0 0 0 0 0 0 0\n"
          ],
          "name": "stderr"
        },
        {
          "output_type": "stream",
          "text": [
            "INFO:tensorflow:input_mask: 1 1 1 1 1 1 1 1 1 1 1 1 1 1 1 1 1 1 1 1 1 1 1 1 1 1 1 1 1 1 0 0 0 0 0 0 0 0 0 0 0 0 0 0 0 0 0 0 0 0 0 0 0 0 0 0 0 0 0 0 0 0 0 0 0 0 0 0 0 0 0 0 0 0 0 0 0 0 0 0 0 0 0 0 0 0 0 0 0 0 0 0 0 0 0 0 0 0 0 0 0 0 0 0 0 0 0 0 0 0 0 0 0 0 0 0 0 0 0 0 0 0 0 0 0 0 0 0\n"
          ],
          "name": "stdout"
        },
        {
          "output_type": "stream",
          "text": [
            "INFO:tensorflow:input_mask: 1 1 1 1 1 1 1 1 1 1 1 1 1 1 1 1 1 1 1 1 1 1 1 1 1 1 1 1 1 1 0 0 0 0 0 0 0 0 0 0 0 0 0 0 0 0 0 0 0 0 0 0 0 0 0 0 0 0 0 0 0 0 0 0 0 0 0 0 0 0 0 0 0 0 0 0 0 0 0 0 0 0 0 0 0 0 0 0 0 0 0 0 0 0 0 0 0 0 0 0 0 0 0 0 0 0 0 0 0 0 0 0 0 0 0 0 0 0 0 0 0 0 0 0 0 0 0 0\n"
          ],
          "name": "stderr"
        },
        {
          "output_type": "stream",
          "text": [
            "INFO:tensorflow:segment_ids: 0 0 0 0 0 0 0 0 0 0 0 0 0 0 0 0 0 0 0 0 0 0 0 0 0 0 0 0 0 0 0 0 0 0 0 0 0 0 0 0 0 0 0 0 0 0 0 0 0 0 0 0 0 0 0 0 0 0 0 0 0 0 0 0 0 0 0 0 0 0 0 0 0 0 0 0 0 0 0 0 0 0 0 0 0 0 0 0 0 0 0 0 0 0 0 0 0 0 0 0 0 0 0 0 0 0 0 0 0 0 0 0 0 0 0 0 0 0 0 0 0 0 0 0 0 0 0 0\n"
          ],
          "name": "stdout"
        },
        {
          "output_type": "stream",
          "text": [
            "INFO:tensorflow:segment_ids: 0 0 0 0 0 0 0 0 0 0 0 0 0 0 0 0 0 0 0 0 0 0 0 0 0 0 0 0 0 0 0 0 0 0 0 0 0 0 0 0 0 0 0 0 0 0 0 0 0 0 0 0 0 0 0 0 0 0 0 0 0 0 0 0 0 0 0 0 0 0 0 0 0 0 0 0 0 0 0 0 0 0 0 0 0 0 0 0 0 0 0 0 0 0 0 0 0 0 0 0 0 0 0 0 0 0 0 0 0 0 0 0 0 0 0 0 0 0 0 0 0 0 0 0 0 0 0 0\n"
          ],
          "name": "stderr"
        },
        {
          "output_type": "stream",
          "text": [
            "INFO:tensorflow:label: 0 (id = 0)\n"
          ],
          "name": "stdout"
        },
        {
          "output_type": "stream",
          "text": [
            "INFO:tensorflow:label: 0 (id = 0)\n"
          ],
          "name": "stderr"
        },
        {
          "output_type": "stream",
          "text": [
            "INFO:tensorflow:Writing example 0 of 167\n"
          ],
          "name": "stdout"
        },
        {
          "output_type": "stream",
          "text": [
            "INFO:tensorflow:Writing example 0 of 167\n"
          ],
          "name": "stderr"
        },
        {
          "output_type": "stream",
          "text": [
            "INFO:tensorflow:*** Example ***\n"
          ],
          "name": "stdout"
        },
        {
          "output_type": "stream",
          "text": [
            "INFO:tensorflow:*** Example ***\n"
          ],
          "name": "stderr"
        },
        {
          "output_type": "stream",
          "text": [
            "INFO:tensorflow:guid: None\n"
          ],
          "name": "stdout"
        },
        {
          "output_type": "stream",
          "text": [
            "INFO:tensorflow:guid: None\n"
          ],
          "name": "stderr"
        },
        {
          "output_type": "stream",
          "text": [
            "INFO:tensorflow:tokens: [CLS] В К ##али ##нин ##граде до ##стр ##ои ##ли Ф ##О ##К , из - за которого под ##ал в отставку министр А ##гентство по ар ##хи ##те ##кт ##уре , град ##ост ##рое ##нию и пер ##спект ##ивно ##му развитию вы ##дал ##о 23 июля 2019 года раз ##ре ##шение на вв ##од в э ##кс ##п ##лу ##ата ##цию ф ##из ##кул ##ьт ##ур ##но - о ##здо ##ров ##итель ##ного комплекса с ун ##ив ##ерс ##альным игр ##овым зал ##ом для училища ол ##им ##пий ##ского р ##езе ##рва на Ал ##ле ##е С ##ме ##лых , 116 , в К ##али ##нин ##граде . [SEP]\n"
          ],
          "name": "stdout"
        },
        {
          "output_type": "stream",
          "text": [
            "INFO:tensorflow:tokens: [CLS] В К ##али ##нин ##граде до ##стр ##ои ##ли Ф ##О ##К , из - за которого под ##ал в отставку министр А ##гентство по ар ##хи ##те ##кт ##уре , град ##ост ##рое ##нию и пер ##спект ##ивно ##му развитию вы ##дал ##о 23 июля 2019 года раз ##ре ##шение на вв ##од в э ##кс ##п ##лу ##ата ##цию ф ##из ##кул ##ьт ##ур ##но - о ##здо ##ров ##итель ##ного комплекса с ун ##ив ##ерс ##альным игр ##овым зал ##ом для училища ол ##им ##пий ##ского р ##езе ##рва на Ал ##ле ##е С ##ме ##лых , 116 , в К ##али ##нин ##граде . [SEP]\n"
          ],
          "name": "stderr"
        },
        {
          "output_type": "stream",
          "text": [
            "INFO:tensorflow:input_ids: 101 511 519 15710 19676 68766 10344 52685 26891 10783 529 18002 14736 117 10387 118 10234 17581 11429 12743 543 75376 46661 509 110258 10297 40585 22710 10696 28869 73737 117 14737 33580 76688 22325 549 61381 60623 48031 11805 97071 96195 28354 10316 10328 14782 19493 10334 17257 14348 30578 10122 60345 16625 543 570 18705 11078 16111 16962 16191 561 39457 60297 93947 20060 10636 118 555 65873 15755 49280 11050 62869 558 68725 17971 62408 103797 31064 42623 69424 10364 10520 50542 33866 13478 103130 11184 557 109990 74079 10122 26657 11851 10205 526 14689 56554 117 17095 117 543 519 15710 19676 68766 119 102 0 0 0 0 0 0 0 0 0 0 0 0 0 0 0 0 0 0\n"
          ],
          "name": "stdout"
        },
        {
          "output_type": "stream",
          "text": [
            "INFO:tensorflow:input_ids: 101 511 519 15710 19676 68766 10344 52685 26891 10783 529 18002 14736 117 10387 118 10234 17581 11429 12743 543 75376 46661 509 110258 10297 40585 22710 10696 28869 73737 117 14737 33580 76688 22325 549 61381 60623 48031 11805 97071 96195 28354 10316 10328 14782 19493 10334 17257 14348 30578 10122 60345 16625 543 570 18705 11078 16111 16962 16191 561 39457 60297 93947 20060 10636 118 555 65873 15755 49280 11050 62869 558 68725 17971 62408 103797 31064 42623 69424 10364 10520 50542 33866 13478 103130 11184 557 109990 74079 10122 26657 11851 10205 526 14689 56554 117 17095 117 543 519 15710 19676 68766 119 102 0 0 0 0 0 0 0 0 0 0 0 0 0 0 0 0 0 0\n"
          ],
          "name": "stderr"
        },
        {
          "output_type": "stream",
          "text": [
            "INFO:tensorflow:input_mask: 1 1 1 1 1 1 1 1 1 1 1 1 1 1 1 1 1 1 1 1 1 1 1 1 1 1 1 1 1 1 1 1 1 1 1 1 1 1 1 1 1 1 1 1 1 1 1 1 1 1 1 1 1 1 1 1 1 1 1 1 1 1 1 1 1 1 1 1 1 1 1 1 1 1 1 1 1 1 1 1 1 1 1 1 1 1 1 1 1 1 1 1 1 1 1 1 1 1 1 1 1 1 1 1 1 1 1 1 1 1 0 0 0 0 0 0 0 0 0 0 0 0 0 0 0 0 0 0\n"
          ],
          "name": "stdout"
        },
        {
          "output_type": "stream",
          "text": [
            "INFO:tensorflow:input_mask: 1 1 1 1 1 1 1 1 1 1 1 1 1 1 1 1 1 1 1 1 1 1 1 1 1 1 1 1 1 1 1 1 1 1 1 1 1 1 1 1 1 1 1 1 1 1 1 1 1 1 1 1 1 1 1 1 1 1 1 1 1 1 1 1 1 1 1 1 1 1 1 1 1 1 1 1 1 1 1 1 1 1 1 1 1 1 1 1 1 1 1 1 1 1 1 1 1 1 1 1 1 1 1 1 1 1 1 1 1 1 0 0 0 0 0 0 0 0 0 0 0 0 0 0 0 0 0 0\n"
          ],
          "name": "stderr"
        },
        {
          "output_type": "stream",
          "text": [
            "INFO:tensorflow:segment_ids: 0 0 0 0 0 0 0 0 0 0 0 0 0 0 0 0 0 0 0 0 0 0 0 0 0 0 0 0 0 0 0 0 0 0 0 0 0 0 0 0 0 0 0 0 0 0 0 0 0 0 0 0 0 0 0 0 0 0 0 0 0 0 0 0 0 0 0 0 0 0 0 0 0 0 0 0 0 0 0 0 0 0 0 0 0 0 0 0 0 0 0 0 0 0 0 0 0 0 0 0 0 0 0 0 0 0 0 0 0 0 0 0 0 0 0 0 0 0 0 0 0 0 0 0 0 0 0 0\n"
          ],
          "name": "stdout"
        },
        {
          "output_type": "stream",
          "text": [
            "INFO:tensorflow:segment_ids: 0 0 0 0 0 0 0 0 0 0 0 0 0 0 0 0 0 0 0 0 0 0 0 0 0 0 0 0 0 0 0 0 0 0 0 0 0 0 0 0 0 0 0 0 0 0 0 0 0 0 0 0 0 0 0 0 0 0 0 0 0 0 0 0 0 0 0 0 0 0 0 0 0 0 0 0 0 0 0 0 0 0 0 0 0 0 0 0 0 0 0 0 0 0 0 0 0 0 0 0 0 0 0 0 0 0 0 0 0 0 0 0 0 0 0 0 0 0 0 0 0 0 0 0 0 0 0 0\n"
          ],
          "name": "stderr"
        },
        {
          "output_type": "stream",
          "text": [
            "INFO:tensorflow:label: 0 (id = 0)\n"
          ],
          "name": "stdout"
        },
        {
          "output_type": "stream",
          "text": [
            "INFO:tensorflow:label: 0 (id = 0)\n"
          ],
          "name": "stderr"
        },
        {
          "output_type": "stream",
          "text": [
            "INFO:tensorflow:*** Example ***\n"
          ],
          "name": "stdout"
        },
        {
          "output_type": "stream",
          "text": [
            "INFO:tensorflow:*** Example ***\n"
          ],
          "name": "stderr"
        },
        {
          "output_type": "stream",
          "text": [
            "INFO:tensorflow:guid: None\n"
          ],
          "name": "stdout"
        },
        {
          "output_type": "stream",
          "text": [
            "INFO:tensorflow:guid: None\n"
          ],
          "name": "stderr"
        },
        {
          "output_type": "stream",
          "text": [
            "INFO:tensorflow:tokens: [CLS] Несмотря на поп ##ада ##ние в список \" проблем ##ных \" , ряд объектов в Петербурге де - факт ##о до ##стр ##оен . [SEP]\n"
          ],
          "name": "stdout"
        },
        {
          "output_type": "stream",
          "text": [
            "INFO:tensorflow:tokens: [CLS] Несмотря на поп ##ада ##ние в список \" проблем ##ных \" , ряд объектов в Петербурге де - факт ##о до ##стр ##оен . [SEP]\n"
          ],
          "name": "stderr"
        },
        {
          "output_type": "stream",
          "text": [
            "INFO:tensorflow:input_ids: 101 38431 10122 48138 36069 13541 543 39673 107 35607 10970 107 117 24261 41462 543 51605 11323 118 61481 10316 10344 52685 102875 119 102 0 0 0 0 0 0 0 0 0 0 0 0 0 0 0 0 0 0 0 0 0 0 0 0 0 0 0 0 0 0 0 0 0 0 0 0 0 0 0 0 0 0 0 0 0 0 0 0 0 0 0 0 0 0 0 0 0 0 0 0 0 0 0 0 0 0 0 0 0 0 0 0 0 0 0 0 0 0 0 0 0 0 0 0 0 0 0 0 0 0 0 0 0 0 0 0 0 0 0 0 0 0\n"
          ],
          "name": "stdout"
        },
        {
          "output_type": "stream",
          "text": [
            "INFO:tensorflow:input_ids: 101 38431 10122 48138 36069 13541 543 39673 107 35607 10970 107 117 24261 41462 543 51605 11323 118 61481 10316 10344 52685 102875 119 102 0 0 0 0 0 0 0 0 0 0 0 0 0 0 0 0 0 0 0 0 0 0 0 0 0 0 0 0 0 0 0 0 0 0 0 0 0 0 0 0 0 0 0 0 0 0 0 0 0 0 0 0 0 0 0 0 0 0 0 0 0 0 0 0 0 0 0 0 0 0 0 0 0 0 0 0 0 0 0 0 0 0 0 0 0 0 0 0 0 0 0 0 0 0 0 0 0 0 0 0 0 0\n"
          ],
          "name": "stderr"
        },
        {
          "output_type": "stream",
          "text": [
            "INFO:tensorflow:input_mask: 1 1 1 1 1 1 1 1 1 1 1 1 1 1 1 1 1 1 1 1 1 1 1 1 1 1 0 0 0 0 0 0 0 0 0 0 0 0 0 0 0 0 0 0 0 0 0 0 0 0 0 0 0 0 0 0 0 0 0 0 0 0 0 0 0 0 0 0 0 0 0 0 0 0 0 0 0 0 0 0 0 0 0 0 0 0 0 0 0 0 0 0 0 0 0 0 0 0 0 0 0 0 0 0 0 0 0 0 0 0 0 0 0 0 0 0 0 0 0 0 0 0 0 0 0 0 0 0\n"
          ],
          "name": "stdout"
        },
        {
          "output_type": "stream",
          "text": [
            "INFO:tensorflow:input_mask: 1 1 1 1 1 1 1 1 1 1 1 1 1 1 1 1 1 1 1 1 1 1 1 1 1 1 0 0 0 0 0 0 0 0 0 0 0 0 0 0 0 0 0 0 0 0 0 0 0 0 0 0 0 0 0 0 0 0 0 0 0 0 0 0 0 0 0 0 0 0 0 0 0 0 0 0 0 0 0 0 0 0 0 0 0 0 0 0 0 0 0 0 0 0 0 0 0 0 0 0 0 0 0 0 0 0 0 0 0 0 0 0 0 0 0 0 0 0 0 0 0 0 0 0 0 0 0 0\n"
          ],
          "name": "stderr"
        },
        {
          "output_type": "stream",
          "text": [
            "INFO:tensorflow:segment_ids: 0 0 0 0 0 0 0 0 0 0 0 0 0 0 0 0 0 0 0 0 0 0 0 0 0 0 0 0 0 0 0 0 0 0 0 0 0 0 0 0 0 0 0 0 0 0 0 0 0 0 0 0 0 0 0 0 0 0 0 0 0 0 0 0 0 0 0 0 0 0 0 0 0 0 0 0 0 0 0 0 0 0 0 0 0 0 0 0 0 0 0 0 0 0 0 0 0 0 0 0 0 0 0 0 0 0 0 0 0 0 0 0 0 0 0 0 0 0 0 0 0 0 0 0 0 0 0 0\n"
          ],
          "name": "stdout"
        },
        {
          "output_type": "stream",
          "text": [
            "INFO:tensorflow:segment_ids: 0 0 0 0 0 0 0 0 0 0 0 0 0 0 0 0 0 0 0 0 0 0 0 0 0 0 0 0 0 0 0 0 0 0 0 0 0 0 0 0 0 0 0 0 0 0 0 0 0 0 0 0 0 0 0 0 0 0 0 0 0 0 0 0 0 0 0 0 0 0 0 0 0 0 0 0 0 0 0 0 0 0 0 0 0 0 0 0 0 0 0 0 0 0 0 0 0 0 0 0 0 0 0 0 0 0 0 0 0 0 0 0 0 0 0 0 0 0 0 0 0 0 0 0 0 0 0 0\n"
          ],
          "name": "stderr"
        },
        {
          "output_type": "stream",
          "text": [
            "INFO:tensorflow:label: 0 (id = 0)\n"
          ],
          "name": "stdout"
        },
        {
          "output_type": "stream",
          "text": [
            "INFO:tensorflow:label: 0 (id = 0)\n"
          ],
          "name": "stderr"
        },
        {
          "output_type": "stream",
          "text": [
            "INFO:tensorflow:*** Example ***\n"
          ],
          "name": "stdout"
        },
        {
          "output_type": "stream",
          "text": [
            "INFO:tensorflow:*** Example ***\n"
          ],
          "name": "stderr"
        },
        {
          "output_type": "stream",
          "text": [
            "INFO:tensorflow:guid: None\n"
          ],
          "name": "stdout"
        },
        {
          "output_type": "stream",
          "text": [
            "INFO:tensorflow:guid: None\n"
          ],
          "name": "stderr"
        },
        {
          "output_type": "stream",
          "text": [
            "INFO:tensorflow:tokens: [CLS] Во ##зо ##бно ##вление р ##еги ##стра ##ции Д ##Д ##У возможно [UNK] если за ##стр ##ой ##щики за ##кл ##ю ##чат доп ##со ##глашения о пер ##ено ##се срок ##ов строительства с ка ##жды ##м из име ##ющихся до ##ль ##щиков . [SEP]\n"
          ],
          "name": "stdout"
        },
        {
          "output_type": "stream",
          "text": [
            "INFO:tensorflow:tokens: [CLS] Во ##зо ##бно ##вление р ##еги ##стра ##ции Д ##Д ##У возможно [UNK] если за ##стр ##ой ##щики за ##кл ##ю ##чат доп ##со ##глашения о пер ##ено ##се срок ##ов строительства с ка ##жды ##м из име ##ющихся до ##ль ##щиков . [SEP]\n"
          ],
          "name": "stderr"
        },
        {
          "output_type": "stream",
          "text": [
            "INFO:tensorflow:input_ids: 101 12624 58607 40671 78068 557 79465 34298 12559 513 22681 16859 44504 100 23263 10234 52685 11292 97099 10234 53869 10593 48579 38300 30604 101573 555 61381 14781 13110 69163 10433 45178 558 56280 43777 10241 10387 24504 55396 10344 12118 60604 119 102 0 0 0 0 0 0 0 0 0 0 0 0 0 0 0 0 0 0 0 0 0 0 0 0 0 0 0 0 0 0 0 0 0 0 0 0 0 0 0 0 0 0 0 0 0 0 0 0 0 0 0 0 0 0 0 0 0 0 0 0 0 0 0 0 0 0 0 0 0 0 0 0 0 0 0 0 0 0 0 0 0 0 0\n"
          ],
          "name": "stdout"
        },
        {
          "output_type": "stream",
          "text": [
            "INFO:tensorflow:input_ids: 101 12624 58607 40671 78068 557 79465 34298 12559 513 22681 16859 44504 100 23263 10234 52685 11292 97099 10234 53869 10593 48579 38300 30604 101573 555 61381 14781 13110 69163 10433 45178 558 56280 43777 10241 10387 24504 55396 10344 12118 60604 119 102 0 0 0 0 0 0 0 0 0 0 0 0 0 0 0 0 0 0 0 0 0 0 0 0 0 0 0 0 0 0 0 0 0 0 0 0 0 0 0 0 0 0 0 0 0 0 0 0 0 0 0 0 0 0 0 0 0 0 0 0 0 0 0 0 0 0 0 0 0 0 0 0 0 0 0 0 0 0 0 0 0 0 0\n"
          ],
          "name": "stderr"
        },
        {
          "output_type": "stream",
          "text": [
            "INFO:tensorflow:input_mask: 1 1 1 1 1 1 1 1 1 1 1 1 1 1 1 1 1 1 1 1 1 1 1 1 1 1 1 1 1 1 1 1 1 1 1 1 1 1 1 1 1 1 1 1 1 0 0 0 0 0 0 0 0 0 0 0 0 0 0 0 0 0 0 0 0 0 0 0 0 0 0 0 0 0 0 0 0 0 0 0 0 0 0 0 0 0 0 0 0 0 0 0 0 0 0 0 0 0 0 0 0 0 0 0 0 0 0 0 0 0 0 0 0 0 0 0 0 0 0 0 0 0 0 0 0 0 0 0\n"
          ],
          "name": "stdout"
        },
        {
          "output_type": "stream",
          "text": [
            "INFO:tensorflow:input_mask: 1 1 1 1 1 1 1 1 1 1 1 1 1 1 1 1 1 1 1 1 1 1 1 1 1 1 1 1 1 1 1 1 1 1 1 1 1 1 1 1 1 1 1 1 1 0 0 0 0 0 0 0 0 0 0 0 0 0 0 0 0 0 0 0 0 0 0 0 0 0 0 0 0 0 0 0 0 0 0 0 0 0 0 0 0 0 0 0 0 0 0 0 0 0 0 0 0 0 0 0 0 0 0 0 0 0 0 0 0 0 0 0 0 0 0 0 0 0 0 0 0 0 0 0 0 0 0 0\n"
          ],
          "name": "stderr"
        },
        {
          "output_type": "stream",
          "text": [
            "INFO:tensorflow:segment_ids: 0 0 0 0 0 0 0 0 0 0 0 0 0 0 0 0 0 0 0 0 0 0 0 0 0 0 0 0 0 0 0 0 0 0 0 0 0 0 0 0 0 0 0 0 0 0 0 0 0 0 0 0 0 0 0 0 0 0 0 0 0 0 0 0 0 0 0 0 0 0 0 0 0 0 0 0 0 0 0 0 0 0 0 0 0 0 0 0 0 0 0 0 0 0 0 0 0 0 0 0 0 0 0 0 0 0 0 0 0 0 0 0 0 0 0 0 0 0 0 0 0 0 0 0 0 0 0 0\n"
          ],
          "name": "stdout"
        },
        {
          "output_type": "stream",
          "text": [
            "INFO:tensorflow:segment_ids: 0 0 0 0 0 0 0 0 0 0 0 0 0 0 0 0 0 0 0 0 0 0 0 0 0 0 0 0 0 0 0 0 0 0 0 0 0 0 0 0 0 0 0 0 0 0 0 0 0 0 0 0 0 0 0 0 0 0 0 0 0 0 0 0 0 0 0 0 0 0 0 0 0 0 0 0 0 0 0 0 0 0 0 0 0 0 0 0 0 0 0 0 0 0 0 0 0 0 0 0 0 0 0 0 0 0 0 0 0 0 0 0 0 0 0 0 0 0 0 0 0 0 0 0 0 0 0 0\n"
          ],
          "name": "stderr"
        },
        {
          "output_type": "stream",
          "text": [
            "INFO:tensorflow:label: 0 (id = 0)\n"
          ],
          "name": "stdout"
        },
        {
          "output_type": "stream",
          "text": [
            "INFO:tensorflow:label: 0 (id = 0)\n"
          ],
          "name": "stderr"
        },
        {
          "output_type": "stream",
          "text": [
            "INFO:tensorflow:*** Example ***\n"
          ],
          "name": "stdout"
        },
        {
          "output_type": "stream",
          "text": [
            "INFO:tensorflow:*** Example ***\n"
          ],
          "name": "stderr"
        },
        {
          "output_type": "stream",
          "text": [
            "INFO:tensorflow:guid: None\n"
          ],
          "name": "stdout"
        },
        {
          "output_type": "stream",
          "text": [
            "INFO:tensorflow:guid: None\n"
          ],
          "name": "stderr"
        },
        {
          "output_type": "stream",
          "text": [
            "INFO:tensorflow:tokens: [CLS] На сегодня ##шний момент , когда средства до ##ль ##щиков ос ##та ##ются ва ##жным исто ##чник ##ом для стр ##ои ##телей , блок ##иро ##вка про ##даж может о ##зна ##чать ос ##тан ##ов ##ку работ на объект ##е из - за не ##до ##стат ##очного ф ##ина ##нс ##ирования \" , [UNK] говорит Ми ##хал ##ев . [SEP]\n"
          ],
          "name": "stdout"
        },
        {
          "output_type": "stream",
          "text": [
            "INFO:tensorflow:tokens: [CLS] На сегодня ##шний момент , когда средства до ##ль ##щиков ос ##та ##ются ва ##жным исто ##чник ##ом для стр ##ои ##телей , блок ##иро ##вка про ##даж может о ##зна ##чать ос ##тан ##ов ##ку работ на объект ##е из - за не ##до ##стат ##очного ф ##ина ##нс ##ирования \" , [UNK] говорит Ми ##хал ##ев . [SEP]\n"
          ],
          "name": "stderr"
        },
        {
          "output_type": "stream",
          "text": [
            "INFO:tensorflow:input_ids: 101 10778 72166 56417 20658 117 15283 34848 10344 12118 60604 85854 10367 17601 12450 51801 29302 40383 10364 10520 19240 26891 21859 117 68706 72252 26198 12709 59356 16087 555 45572 37020 85854 15061 10433 11191 29432 10122 76811 10205 10387 118 10234 10375 17961 92082 82645 561 13139 27875 51080 107 117 100 53423 84078 109144 13292 119 102 0 0 0 0 0 0 0 0 0 0 0 0 0 0 0 0 0 0 0 0 0 0 0 0 0 0 0 0 0 0 0 0 0 0 0 0 0 0 0 0 0 0 0 0 0 0 0 0 0 0 0 0 0 0 0 0 0 0 0 0 0 0 0 0 0 0 0\n"
          ],
          "name": "stdout"
        },
        {
          "output_type": "stream",
          "text": [
            "INFO:tensorflow:input_ids: 101 10778 72166 56417 20658 117 15283 34848 10344 12118 60604 85854 10367 17601 12450 51801 29302 40383 10364 10520 19240 26891 21859 117 68706 72252 26198 12709 59356 16087 555 45572 37020 85854 15061 10433 11191 29432 10122 76811 10205 10387 118 10234 10375 17961 92082 82645 561 13139 27875 51080 107 117 100 53423 84078 109144 13292 119 102 0 0 0 0 0 0 0 0 0 0 0 0 0 0 0 0 0 0 0 0 0 0 0 0 0 0 0 0 0 0 0 0 0 0 0 0 0 0 0 0 0 0 0 0 0 0 0 0 0 0 0 0 0 0 0 0 0 0 0 0 0 0 0 0 0 0 0\n"
          ],
          "name": "stderr"
        },
        {
          "output_type": "stream",
          "text": [
            "INFO:tensorflow:input_mask: 1 1 1 1 1 1 1 1 1 1 1 1 1 1 1 1 1 1 1 1 1 1 1 1 1 1 1 1 1 1 1 1 1 1 1 1 1 1 1 1 1 1 1 1 1 1 1 1 1 1 1 1 1 1 1 1 1 1 1 1 1 0 0 0 0 0 0 0 0 0 0 0 0 0 0 0 0 0 0 0 0 0 0 0 0 0 0 0 0 0 0 0 0 0 0 0 0 0 0 0 0 0 0 0 0 0 0 0 0 0 0 0 0 0 0 0 0 0 0 0 0 0 0 0 0 0 0 0\n"
          ],
          "name": "stdout"
        },
        {
          "output_type": "stream",
          "text": [
            "INFO:tensorflow:input_mask: 1 1 1 1 1 1 1 1 1 1 1 1 1 1 1 1 1 1 1 1 1 1 1 1 1 1 1 1 1 1 1 1 1 1 1 1 1 1 1 1 1 1 1 1 1 1 1 1 1 1 1 1 1 1 1 1 1 1 1 1 1 0 0 0 0 0 0 0 0 0 0 0 0 0 0 0 0 0 0 0 0 0 0 0 0 0 0 0 0 0 0 0 0 0 0 0 0 0 0 0 0 0 0 0 0 0 0 0 0 0 0 0 0 0 0 0 0 0 0 0 0 0 0 0 0 0 0 0\n"
          ],
          "name": "stderr"
        },
        {
          "output_type": "stream",
          "text": [
            "INFO:tensorflow:segment_ids: 0 0 0 0 0 0 0 0 0 0 0 0 0 0 0 0 0 0 0 0 0 0 0 0 0 0 0 0 0 0 0 0 0 0 0 0 0 0 0 0 0 0 0 0 0 0 0 0 0 0 0 0 0 0 0 0 0 0 0 0 0 0 0 0 0 0 0 0 0 0 0 0 0 0 0 0 0 0 0 0 0 0 0 0 0 0 0 0 0 0 0 0 0 0 0 0 0 0 0 0 0 0 0 0 0 0 0 0 0 0 0 0 0 0 0 0 0 0 0 0 0 0 0 0 0 0 0 0\n"
          ],
          "name": "stdout"
        },
        {
          "output_type": "stream",
          "text": [
            "INFO:tensorflow:segment_ids: 0 0 0 0 0 0 0 0 0 0 0 0 0 0 0 0 0 0 0 0 0 0 0 0 0 0 0 0 0 0 0 0 0 0 0 0 0 0 0 0 0 0 0 0 0 0 0 0 0 0 0 0 0 0 0 0 0 0 0 0 0 0 0 0 0 0 0 0 0 0 0 0 0 0 0 0 0 0 0 0 0 0 0 0 0 0 0 0 0 0 0 0 0 0 0 0 0 0 0 0 0 0 0 0 0 0 0 0 0 0 0 0 0 0 0 0 0 0 0 0 0 0 0 0 0 0 0 0\n"
          ],
          "name": "stderr"
        },
        {
          "output_type": "stream",
          "text": [
            "INFO:tensorflow:label: 0 (id = 0)\n"
          ],
          "name": "stdout"
        },
        {
          "output_type": "stream",
          "text": [
            "INFO:tensorflow:label: 0 (id = 0)\n"
          ],
          "name": "stderr"
        },
        {
          "output_type": "stream",
          "text": [
            "INFO:tensorflow:*** Example ***\n"
          ],
          "name": "stdout"
        },
        {
          "output_type": "stream",
          "text": [
            "INFO:tensorflow:*** Example ***\n"
          ],
          "name": "stderr"
        },
        {
          "output_type": "stream",
          "text": [
            "INFO:tensorflow:guid: None\n"
          ],
          "name": "stdout"
        },
        {
          "output_type": "stream",
          "text": [
            "INFO:tensorflow:guid: None\n"
          ],
          "name": "stderr"
        },
        {
          "output_type": "stream",
          "text": [
            "INFO:tensorflow:tokens: [CLS] [UNK] Мы с ва ##ми про ##говор ##или про реестр ##овых до ##ль ##щиков , то есть тех , которые под ##пада ##ют под приказ Ми ##нс ##тро ##я . [SEP]\n"
          ],
          "name": "stdout"
        },
        {
          "output_type": "stream",
          "text": [
            "INFO:tensorflow:tokens: [CLS] [UNK] Мы с ва ##ми про ##говор ##или про реестр ##овых до ##ль ##щиков , то есть тех , которые под ##пада ##ют под приказ Ми ##нс ##тро ##я . [SEP]\n"
          ],
          "name": "stderr"
        },
        {
          "output_type": "stream",
          "text": [
            "INFO:tensorflow:input_ids: 101 100 64820 558 12450 10508 12709 35153 16878 12709 30961 21277 10344 12118 60604 117 11663 17622 32323 117 14028 11429 49548 13714 11429 84320 84078 27875 62735 10385 119 102 0 0 0 0 0 0 0 0 0 0 0 0 0 0 0 0 0 0 0 0 0 0 0 0 0 0 0 0 0 0 0 0 0 0 0 0 0 0 0 0 0 0 0 0 0 0 0 0 0 0 0 0 0 0 0 0 0 0 0 0 0 0 0 0 0 0 0 0 0 0 0 0 0 0 0 0 0 0 0 0 0 0 0 0 0 0 0 0 0 0 0 0 0 0 0 0\n"
          ],
          "name": "stdout"
        },
        {
          "output_type": "stream",
          "text": [
            "INFO:tensorflow:input_ids: 101 100 64820 558 12450 10508 12709 35153 16878 12709 30961 21277 10344 12118 60604 117 11663 17622 32323 117 14028 11429 49548 13714 11429 84320 84078 27875 62735 10385 119 102 0 0 0 0 0 0 0 0 0 0 0 0 0 0 0 0 0 0 0 0 0 0 0 0 0 0 0 0 0 0 0 0 0 0 0 0 0 0 0 0 0 0 0 0 0 0 0 0 0 0 0 0 0 0 0 0 0 0 0 0 0 0 0 0 0 0 0 0 0 0 0 0 0 0 0 0 0 0 0 0 0 0 0 0 0 0 0 0 0 0 0 0 0 0 0 0\n"
          ],
          "name": "stderr"
        },
        {
          "output_type": "stream",
          "text": [
            "INFO:tensorflow:input_mask: 1 1 1 1 1 1 1 1 1 1 1 1 1 1 1 1 1 1 1 1 1 1 1 1 1 1 1 1 1 1 1 1 0 0 0 0 0 0 0 0 0 0 0 0 0 0 0 0 0 0 0 0 0 0 0 0 0 0 0 0 0 0 0 0 0 0 0 0 0 0 0 0 0 0 0 0 0 0 0 0 0 0 0 0 0 0 0 0 0 0 0 0 0 0 0 0 0 0 0 0 0 0 0 0 0 0 0 0 0 0 0 0 0 0 0 0 0 0 0 0 0 0 0 0 0 0 0 0\n"
          ],
          "name": "stdout"
        },
        {
          "output_type": "stream",
          "text": [
            "INFO:tensorflow:input_mask: 1 1 1 1 1 1 1 1 1 1 1 1 1 1 1 1 1 1 1 1 1 1 1 1 1 1 1 1 1 1 1 1 0 0 0 0 0 0 0 0 0 0 0 0 0 0 0 0 0 0 0 0 0 0 0 0 0 0 0 0 0 0 0 0 0 0 0 0 0 0 0 0 0 0 0 0 0 0 0 0 0 0 0 0 0 0 0 0 0 0 0 0 0 0 0 0 0 0 0 0 0 0 0 0 0 0 0 0 0 0 0 0 0 0 0 0 0 0 0 0 0 0 0 0 0 0 0 0\n"
          ],
          "name": "stderr"
        },
        {
          "output_type": "stream",
          "text": [
            "INFO:tensorflow:segment_ids: 0 0 0 0 0 0 0 0 0 0 0 0 0 0 0 0 0 0 0 0 0 0 0 0 0 0 0 0 0 0 0 0 0 0 0 0 0 0 0 0 0 0 0 0 0 0 0 0 0 0 0 0 0 0 0 0 0 0 0 0 0 0 0 0 0 0 0 0 0 0 0 0 0 0 0 0 0 0 0 0 0 0 0 0 0 0 0 0 0 0 0 0 0 0 0 0 0 0 0 0 0 0 0 0 0 0 0 0 0 0 0 0 0 0 0 0 0 0 0 0 0 0 0 0 0 0 0 0\n"
          ],
          "name": "stdout"
        },
        {
          "output_type": "stream",
          "text": [
            "INFO:tensorflow:segment_ids: 0 0 0 0 0 0 0 0 0 0 0 0 0 0 0 0 0 0 0 0 0 0 0 0 0 0 0 0 0 0 0 0 0 0 0 0 0 0 0 0 0 0 0 0 0 0 0 0 0 0 0 0 0 0 0 0 0 0 0 0 0 0 0 0 0 0 0 0 0 0 0 0 0 0 0 0 0 0 0 0 0 0 0 0 0 0 0 0 0 0 0 0 0 0 0 0 0 0 0 0 0 0 0 0 0 0 0 0 0 0 0 0 0 0 0 0 0 0 0 0 0 0 0 0 0 0 0 0\n"
          ],
          "name": "stderr"
        },
        {
          "output_type": "stream",
          "text": [
            "INFO:tensorflow:label: 0 (id = 0)\n"
          ],
          "name": "stdout"
        },
        {
          "output_type": "stream",
          "text": [
            "INFO:tensorflow:label: 0 (id = 0)\n"
          ],
          "name": "stderr"
        }
      ]
    },
    {
      "cell_type": "markdown",
      "metadata": {
        "id": "ccp5trMwRtmr",
        "colab_type": "text"
      },
      "source": [
        "#Creating a model\n",
        "\n",
        "Now that we've prepared our data, let's focus on building a model. `create_model` does just this below. First, it loads the BERT tf hub module again (this time to extract the computation graph). Next, it creates a single new layer that will be trained to adapt BERT to our sentiment task (i.e. classifying whether a movie review is positive or negative). This strategy of using a mostly trained model is called [fine-tuning](http://wiki.fast.ai/index.php/Fine_tuning)."
      ]
    },
    {
      "cell_type": "code",
      "metadata": {
        "id": "6o2a5ZIvRcJq",
        "colab_type": "code",
        "colab": {}
      },
      "source": [
        "def create_model(is_predicting, input_ids, input_mask, segment_ids, labels,\n",
        "                 num_labels):\n",
        "  \"\"\"Creates a classification model.\"\"\"\n",
        "\n",
        "  bert_module = hub.Module(\n",
        "      BERT_MODEL_HUB,\n",
        "      trainable=True)\n",
        "  bert_inputs = dict(\n",
        "      input_ids=input_ids,\n",
        "      input_mask=input_mask,\n",
        "      segment_ids=segment_ids)\n",
        "  bert_outputs = bert_module(\n",
        "      inputs=bert_inputs,\n",
        "      signature=\"tokens\",\n",
        "      as_dict=True)\n",
        "\n",
        "  # Use \"pooled_output\" for classification tasks on an entire sentence.\n",
        "  # Use \"sequence_outputs\" for token-level output.\n",
        "  output_layer = bert_outputs[\"pooled_output\"]\n",
        "\n",
        "  hidden_size = output_layer.shape[-1].value\n",
        "\n",
        "  # Create our own layer to tune for politeness data.\n",
        "  output_weights = tf.get_variable(\n",
        "      \"output_weights\", [num_labels, hidden_size],\n",
        "      initializer=tf.truncated_normal_initializer(stddev=0.02))\n",
        "\n",
        "  output_bias = tf.get_variable(\n",
        "      \"output_bias\", [num_labels], initializer=tf.zeros_initializer())\n",
        "\n",
        "  with tf.variable_scope(\"loss\"):\n",
        "\n",
        "    # Dropout helps prevent overfitting\n",
        "    output_layer = tf.nn.dropout(output_layer, keep_prob=0.9)\n",
        "\n",
        "    logits = tf.matmul(output_layer, output_weights, transpose_b=True)\n",
        "    logits = tf.nn.bias_add(logits, output_bias)\n",
        "    log_probs = tf.nn.log_softmax(logits, axis=-1)\n",
        "\n",
        "    # Convert labels into one-hot encoding\n",
        "    one_hot_labels = tf.one_hot(labels, depth=num_labels, dtype=tf.float32)\n",
        "\n",
        "    predicted_labels = tf.squeeze(tf.argmax(log_probs, axis=-1, output_type=tf.int32))\n",
        "    # If we're predicting, we want predicted labels and the probabiltiies.\n",
        "    if is_predicting:\n",
        "      return (predicted_labels, log_probs)\n",
        "\n",
        "    # If we're train/eval, compute loss between predicted and actual label\n",
        "    per_example_loss = -tf.reduce_sum(one_hot_labels * log_probs, axis=-1)\n",
        "    loss = tf.reduce_mean(per_example_loss)\n",
        "    return (loss, predicted_labels, log_probs)\n"
      ],
      "execution_count": 0,
      "outputs": []
    },
    {
      "cell_type": "markdown",
      "metadata": {
        "id": "qpE0ZIDOCQzE",
        "colab_type": "text"
      },
      "source": [
        "Next we'll wrap our model function in a `model_fn_builder` function that adapts our model to work for training, evaluation, and prediction."
      ]
    },
    {
      "cell_type": "code",
      "metadata": {
        "id": "FnH-AnOQ9KKW",
        "colab_type": "code",
        "colab": {}
      },
      "source": [
        "# model_fn_builder actually creates our model function\n",
        "# using the passed parameters for num_labels, learning_rate, etc.\n",
        "def model_fn_builder(num_labels, learning_rate, num_train_steps,\n",
        "                     num_warmup_steps):\n",
        "  \"\"\"Returns `model_fn` closure for TPUEstimator.\"\"\"\n",
        "  def model_fn(features, labels, mode, params):  # pylint: disable=unused-argument\n",
        "    \"\"\"The `model_fn` for TPUEstimator.\"\"\"\n",
        "\n",
        "    input_ids = features[\"input_ids\"]\n",
        "    input_mask = features[\"input_mask\"]\n",
        "    segment_ids = features[\"segment_ids\"]\n",
        "    label_ids = features[\"label_ids\"]\n",
        "\n",
        "    is_predicting = (mode == tf.estimator.ModeKeys.PREDICT)\n",
        "    \n",
        "    # TRAIN and EVAL\n",
        "    if not is_predicting:\n",
        "\n",
        "      (loss, predicted_labels, log_probs) = create_model(\n",
        "        is_predicting, input_ids, input_mask, segment_ids, label_ids, num_labels)\n",
        "\n",
        "      train_op = bert.optimization.create_optimizer(\n",
        "          loss, learning_rate, num_train_steps, num_warmup_steps, use_tpu=False)\n",
        "\n",
        "      # Calculate evaluation metrics. \n",
        "      def metric_fn(label_ids, predicted_labels):\n",
        "        accuracy = tf.metrics.accuracy(label_ids, predicted_labels)\n",
        "        f1_score = tf.contrib.metrics.f1_score(\n",
        "            label_ids,\n",
        "            predicted_labels)\n",
        "        auc = tf.metrics.auc(\n",
        "            label_ids,\n",
        "            predicted_labels)\n",
        "        recall = tf.metrics.recall(\n",
        "            label_ids,\n",
        "            predicted_labels)\n",
        "        precision = tf.metrics.precision(\n",
        "            label_ids,\n",
        "            predicted_labels) \n",
        "        true_pos = tf.metrics.true_positives(\n",
        "            label_ids,\n",
        "            predicted_labels)\n",
        "        true_neg = tf.metrics.true_negatives(\n",
        "            label_ids,\n",
        "            predicted_labels)   \n",
        "        false_pos = tf.metrics.false_positives(\n",
        "            label_ids,\n",
        "            predicted_labels)  \n",
        "        false_neg = tf.metrics.false_negatives(\n",
        "            label_ids,\n",
        "            predicted_labels)\n",
        "        return {\n",
        "            \"eval_accuracy\": accuracy,\n",
        "            \"f1_score\": f1_score,\n",
        "            \"auc\": auc,\n",
        "            \"precision\": precision,\n",
        "            \"recall\": recall,\n",
        "            \"true_positives\": true_pos,\n",
        "            \"true_negatives\": true_neg,\n",
        "            \"false_positives\": false_pos,\n",
        "            \"false_negatives\": false_neg\n",
        "        }\n",
        "\n",
        "      eval_metrics = metric_fn(label_ids, predicted_labels)\n",
        "\n",
        "      if mode == tf.estimator.ModeKeys.TRAIN:\n",
        "        return tf.estimator.EstimatorSpec(mode=mode,\n",
        "          loss=loss,\n",
        "          train_op=train_op)\n",
        "      else:\n",
        "          return tf.estimator.EstimatorSpec(mode=mode,\n",
        "            loss=loss,\n",
        "            eval_metric_ops=eval_metrics)\n",
        "    else:\n",
        "      (predicted_labels, log_probs) = create_model(\n",
        "        is_predicting, input_ids, input_mask, segment_ids, label_ids, num_labels)\n",
        "\n",
        "      predictions = {\n",
        "          'probabilities': log_probs,\n",
        "          'labels': predicted_labels\n",
        "      }\n",
        "      return tf.estimator.EstimatorSpec(mode, predictions=predictions)\n",
        "\n",
        "  # Return the actual model function in the closure\n",
        "  return model_fn\n"
      ],
      "execution_count": 0,
      "outputs": []
    },
    {
      "cell_type": "code",
      "metadata": {
        "id": "OjwJ4bTeWXD8",
        "colab_type": "code",
        "colab": {}
      },
      "source": [
        "# Compute train and warmup steps from batch size\n",
        "# These hyperparameters are copied from this colab notebook (https://colab.sandbox.google.com/github/tensorflow/tpu/blob/master/tools/colab/bert_finetuning_with_cloud_tpus.ipynb)\n",
        "BATCH_SIZE = 16\n",
        "LEARNING_RATE = 2e-5\n",
        "NUM_TRAIN_EPOCHS = 5.0\n",
        "# Warmup is a period of time where hte learning rate \n",
        "# is small and gradually increases--usually helps training.\n",
        "WARMUP_PROPORTION = 0.1\n",
        "# Model configs\n",
        "SAVE_CHECKPOINTS_STEPS = 500\n",
        "SAVE_SUMMARY_STEPS = 100"
      ],
      "execution_count": 0,
      "outputs": []
    },
    {
      "cell_type": "code",
      "metadata": {
        "id": "emHf9GhfWBZ_",
        "colab_type": "code",
        "colab": {}
      },
      "source": [
        "# Compute # train and warmup steps from batch size\n",
        "num_train_steps = int(len(train_features) / BATCH_SIZE * NUM_TRAIN_EPOCHS)\n",
        "num_warmup_steps = int(num_train_steps * WARMUP_PROPORTION)"
      ],
      "execution_count": 0,
      "outputs": []
    },
    {
      "cell_type": "code",
      "metadata": {
        "id": "oEJldMr3WYZa",
        "colab_type": "code",
        "colab": {}
      },
      "source": [
        "# Specify outpit directory and number of checkpoint steps to save\n",
        "run_config = tf.estimator.RunConfig(\n",
        "    model_dir=OUTPUT_DIR,\n",
        "    save_summary_steps=SAVE_SUMMARY_STEPS,\n",
        "    save_checkpoints_steps=SAVE_CHECKPOINTS_STEPS)"
      ],
      "execution_count": 0,
      "outputs": []
    },
    {
      "cell_type": "code",
      "metadata": {
        "id": "q_WebpS1X97v",
        "colab_type": "code",
        "outputId": "1e56317e-5b04-459b-97d6-05c6a77e8ac2",
        "colab": {
          "base_uri": "https://localhost:8080/",
          "height": 292
        }
      },
      "source": [
        "model_fn = model_fn_builder(\n",
        "  num_labels=len(label_list),\n",
        "  learning_rate=LEARNING_RATE,\n",
        "  num_train_steps=num_train_steps,\n",
        "  num_warmup_steps=num_warmup_steps)\n",
        "\n",
        "estimator = tf.estimator.Estimator(\n",
        "  model_fn=model_fn,\n",
        "  config=run_config,\n",
        "  params={\"batch_size\": BATCH_SIZE})\n"
      ],
      "execution_count": 60,
      "outputs": [
        {
          "output_type": "stream",
          "text": [
            "INFO:tensorflow:Using config: {'_model_dir': '/content/drive/My Drive/nlp_test/bert_checkpoints', '_tf_random_seed': None, '_save_summary_steps': 100, '_save_checkpoints_steps': 500, '_save_checkpoints_secs': None, '_session_config': allow_soft_placement: true\n",
            "graph_options {\n",
            "  rewrite_options {\n",
            "    meta_optimizer_iterations: ONE\n",
            "  }\n",
            "}\n",
            ", '_keep_checkpoint_max': 5, '_keep_checkpoint_every_n_hours': 10000, '_log_step_count_steps': 100, '_train_distribute': None, '_device_fn': None, '_protocol': None, '_eval_distribute': None, '_experimental_distribute': None, '_experimental_max_worker_delay_secs': None, '_session_creation_timeout_secs': 7200, '_service': None, '_cluster_spec': <tensorflow.python.training.server_lib.ClusterSpec object at 0x7f943b48e390>, '_task_type': 'worker', '_task_id': 0, '_global_id_in_cluster': 0, '_master': '', '_evaluation_master': '', '_is_chief': True, '_num_ps_replicas': 0, '_num_worker_replicas': 1}\n"
          ],
          "name": "stdout"
        },
        {
          "output_type": "stream",
          "text": [
            "INFO:tensorflow:Using config: {'_model_dir': '/content/drive/My Drive/nlp_test/bert_checkpoints', '_tf_random_seed': None, '_save_summary_steps': 100, '_save_checkpoints_steps': 500, '_save_checkpoints_secs': None, '_session_config': allow_soft_placement: true\n",
            "graph_options {\n",
            "  rewrite_options {\n",
            "    meta_optimizer_iterations: ONE\n",
            "  }\n",
            "}\n",
            ", '_keep_checkpoint_max': 5, '_keep_checkpoint_every_n_hours': 10000, '_log_step_count_steps': 100, '_train_distribute': None, '_device_fn': None, '_protocol': None, '_eval_distribute': None, '_experimental_distribute': None, '_experimental_max_worker_delay_secs': None, '_session_creation_timeout_secs': 7200, '_service': None, '_cluster_spec': <tensorflow.python.training.server_lib.ClusterSpec object at 0x7f943b48e390>, '_task_type': 'worker', '_task_id': 0, '_global_id_in_cluster': 0, '_master': '', '_evaluation_master': '', '_is_chief': True, '_num_ps_replicas': 0, '_num_worker_replicas': 1}\n"
          ],
          "name": "stderr"
        }
      ]
    },
    {
      "cell_type": "markdown",
      "metadata": {
        "id": "NOO3RfG1DYLo",
        "colab_type": "text"
      },
      "source": [
        "Next we create an input builder function that takes our training feature set (`train_features`) and produces a generator. This is a pretty standard design pattern for working with Tensorflow [Estimators](https://www.tensorflow.org/guide/estimators)."
      ]
    },
    {
      "cell_type": "code",
      "metadata": {
        "id": "1Pv2bAlOX_-K",
        "colab_type": "code",
        "colab": {}
      },
      "source": [
        "# Create an input function for training. drop_remainder = True for using TPUs.\n",
        "train_input_fn = bert.run_classifier.input_fn_builder(\n",
        "    features=train_features,\n",
        "    seq_length=MAX_SEQ_LENGTH,\n",
        "    is_training=True,\n",
        "    drop_remainder=False)"
      ],
      "execution_count": 0,
      "outputs": []
    },
    {
      "cell_type": "markdown",
      "metadata": {
        "id": "t6Nukby2EB6-",
        "colab_type": "text"
      },
      "source": [
        "Now we train our model! For me, using a Colab notebook running on Google's GPUs, my training time was about 14 minutes."
      ]
    },
    {
      "cell_type": "code",
      "metadata": {
        "id": "nucD4gluYJmK",
        "colab_type": "code",
        "outputId": "4ace54c1-52a1-4770-f3d7-76a4c39d675e",
        "colab": {
          "base_uri": "https://localhost:8080/",
          "height": 874
        }
      },
      "source": [
        "print(f'Beginning Training!')\n",
        "current_time = datetime.now()\n",
        "estimator.train(input_fn=train_input_fn, max_steps=num_train_steps)\n",
        "print(\"Training took time \", datetime.now() - current_time)"
      ],
      "execution_count": 62,
      "outputs": [
        {
          "output_type": "stream",
          "text": [
            "Beginning Training!\n",
            "INFO:tensorflow:Calling model_fn.\n"
          ],
          "name": "stdout"
        },
        {
          "output_type": "stream",
          "text": [
            "INFO:tensorflow:Calling model_fn.\n"
          ],
          "name": "stderr"
        },
        {
          "output_type": "stream",
          "text": [
            "INFO:tensorflow:Saver not created because there are no variables in the graph to restore\n"
          ],
          "name": "stdout"
        },
        {
          "output_type": "stream",
          "text": [
            "INFO:tensorflow:Saver not created because there are no variables in the graph to restore\n",
            "/usr/local/lib/python3.6/dist-packages/tensorflow_core/python/framework/indexed_slices.py:424: UserWarning: Converting sparse IndexedSlices to a dense Tensor of unknown shape. This may consume a large amount of memory.\n",
            "  \"Converting sparse IndexedSlices to a dense Tensor of unknown shape. \"\n"
          ],
          "name": "stderr"
        },
        {
          "output_type": "stream",
          "text": [
            "INFO:tensorflow:Done calling model_fn.\n"
          ],
          "name": "stdout"
        },
        {
          "output_type": "stream",
          "text": [
            "INFO:tensorflow:Done calling model_fn.\n"
          ],
          "name": "stderr"
        },
        {
          "output_type": "stream",
          "text": [
            "INFO:tensorflow:Create CheckpointSaverHook.\n"
          ],
          "name": "stdout"
        },
        {
          "output_type": "stream",
          "text": [
            "INFO:tensorflow:Create CheckpointSaverHook.\n"
          ],
          "name": "stderr"
        },
        {
          "output_type": "stream",
          "text": [
            "INFO:tensorflow:Graph was finalized.\n"
          ],
          "name": "stdout"
        },
        {
          "output_type": "stream",
          "text": [
            "INFO:tensorflow:Graph was finalized.\n"
          ],
          "name": "stderr"
        },
        {
          "output_type": "stream",
          "text": [
            "INFO:tensorflow:Restoring parameters from /content/drive/My Drive/nlp_test/bert_checkpoints/model.ckpt-93\n"
          ],
          "name": "stdout"
        },
        {
          "output_type": "stream",
          "text": [
            "INFO:tensorflow:Restoring parameters from /content/drive/My Drive/nlp_test/bert_checkpoints/model.ckpt-93\n"
          ],
          "name": "stderr"
        },
        {
          "output_type": "stream",
          "text": [
            "WARNING:tensorflow:From /usr/local/lib/python3.6/dist-packages/tensorflow_core/python/training/saver.py:1069: get_checkpoint_mtimes (from tensorflow.python.training.checkpoint_management) is deprecated and will be removed in a future version.\n",
            "Instructions for updating:\n",
            "Use standard file utilities to get mtimes.\n"
          ],
          "name": "stdout"
        },
        {
          "output_type": "stream",
          "text": [
            "WARNING:tensorflow:From /usr/local/lib/python3.6/dist-packages/tensorflow_core/python/training/saver.py:1069: get_checkpoint_mtimes (from tensorflow.python.training.checkpoint_management) is deprecated and will be removed in a future version.\n",
            "Instructions for updating:\n",
            "Use standard file utilities to get mtimes.\n"
          ],
          "name": "stderr"
        },
        {
          "output_type": "stream",
          "text": [
            "INFO:tensorflow:Running local_init_op.\n"
          ],
          "name": "stdout"
        },
        {
          "output_type": "stream",
          "text": [
            "INFO:tensorflow:Running local_init_op.\n"
          ],
          "name": "stderr"
        },
        {
          "output_type": "stream",
          "text": [
            "INFO:tensorflow:Done running local_init_op.\n"
          ],
          "name": "stdout"
        },
        {
          "output_type": "stream",
          "text": [
            "INFO:tensorflow:Done running local_init_op.\n"
          ],
          "name": "stderr"
        },
        {
          "output_type": "stream",
          "text": [
            "INFO:tensorflow:Saving checkpoints for 93 into /content/drive/My Drive/nlp_test/bert_checkpoints/model.ckpt.\n"
          ],
          "name": "stdout"
        },
        {
          "output_type": "stream",
          "text": [
            "INFO:tensorflow:Saving checkpoints for 93 into /content/drive/My Drive/nlp_test/bert_checkpoints/model.ckpt.\n"
          ],
          "name": "stderr"
        },
        {
          "output_type": "stream",
          "text": [
            "INFO:tensorflow:loss = 0.42587346, step = 93\n"
          ],
          "name": "stdout"
        },
        {
          "output_type": "stream",
          "text": [
            "INFO:tensorflow:loss = 0.42587346, step = 93\n"
          ],
          "name": "stderr"
        },
        {
          "output_type": "stream",
          "text": [
            "INFO:tensorflow:global_step/sec: 1.33537\n"
          ],
          "name": "stdout"
        },
        {
          "output_type": "stream",
          "text": [
            "INFO:tensorflow:global_step/sec: 1.33537\n"
          ],
          "name": "stderr"
        },
        {
          "output_type": "stream",
          "text": [
            "INFO:tensorflow:loss = 0.0773238, step = 193 (74.887 sec)\n"
          ],
          "name": "stdout"
        },
        {
          "output_type": "stream",
          "text": [
            "INFO:tensorflow:loss = 0.0773238, step = 193 (74.887 sec)\n"
          ],
          "name": "stderr"
        },
        {
          "output_type": "stream",
          "text": [
            "INFO:tensorflow:global_step/sec: 1.86796\n"
          ],
          "name": "stdout"
        },
        {
          "output_type": "stream",
          "text": [
            "INFO:tensorflow:global_step/sec: 1.86796\n"
          ],
          "name": "stderr"
        },
        {
          "output_type": "stream",
          "text": [
            "INFO:tensorflow:loss = 0.016190704, step = 293 (53.537 sec)\n"
          ],
          "name": "stdout"
        },
        {
          "output_type": "stream",
          "text": [
            "INFO:tensorflow:loss = 0.016190704, step = 293 (53.537 sec)\n"
          ],
          "name": "stderr"
        },
        {
          "output_type": "stream",
          "text": [
            "INFO:tensorflow:global_step/sec: 1.88581\n"
          ],
          "name": "stdout"
        },
        {
          "output_type": "stream",
          "text": [
            "INFO:tensorflow:global_step/sec: 1.88581\n"
          ],
          "name": "stderr"
        },
        {
          "output_type": "stream",
          "text": [
            "INFO:tensorflow:loss = 0.0043903477, step = 393 (53.027 sec)\n"
          ],
          "name": "stdout"
        },
        {
          "output_type": "stream",
          "text": [
            "INFO:tensorflow:loss = 0.0043903477, step = 393 (53.027 sec)\n"
          ],
          "name": "stderr"
        },
        {
          "output_type": "stream",
          "text": [
            "INFO:tensorflow:Saving checkpoints for 469 into /content/drive/My Drive/nlp_test/bert_checkpoints/model.ckpt.\n"
          ],
          "name": "stdout"
        },
        {
          "output_type": "stream",
          "text": [
            "INFO:tensorflow:Saving checkpoints for 469 into /content/drive/My Drive/nlp_test/bert_checkpoints/model.ckpt.\n"
          ],
          "name": "stderr"
        },
        {
          "output_type": "stream",
          "text": [
            "INFO:tensorflow:Loss for final step: 0.25444135.\n"
          ],
          "name": "stdout"
        },
        {
          "output_type": "stream",
          "text": [
            "INFO:tensorflow:Loss for final step: 0.25444135.\n"
          ],
          "name": "stderr"
        },
        {
          "output_type": "stream",
          "text": [
            "Training took time  0:05:08.117781\n"
          ],
          "name": "stdout"
        }
      ]
    },
    {
      "cell_type": "code",
      "metadata": {
        "id": "xFz7QRzhsoxD",
        "colab_type": "code",
        "outputId": "52984ea6-1ce3-4cbe-bccf-75e00cd1d95d",
        "colab": {
          "base_uri": "https://localhost:8080/",
          "height": 308
        }
      },
      "source": [
        "!nvidia-smi"
      ],
      "execution_count": 32,
      "outputs": [
        {
          "output_type": "stream",
          "text": [
            "Sun Feb 23 17:14:56 2020       \n",
            "+-----------------------------------------------------------------------------+\n",
            "| NVIDIA-SMI 440.48.02    Driver Version: 418.67       CUDA Version: 10.1     |\n",
            "|-------------------------------+----------------------+----------------------+\n",
            "| GPU  Name        Persistence-M| Bus-Id        Disp.A | Volatile Uncorr. ECC |\n",
            "| Fan  Temp  Perf  Pwr:Usage/Cap|         Memory-Usage | GPU-Util  Compute M. |\n",
            "|===============================+======================+======================|\n",
            "|   0  Tesla T4            Off  | 00000000:00:04.0 Off |                    0 |\n",
            "| N/A   72C    P0    31W /  70W |  14517MiB / 15079MiB |      0%      Default |\n",
            "+-------------------------------+----------------------+----------------------+\n",
            "                                                                               \n",
            "+-----------------------------------------------------------------------------+\n",
            "| Processes:                                                       GPU Memory |\n",
            "|  GPU       PID   Type   Process name                             Usage      |\n",
            "|=============================================================================|\n",
            "+-----------------------------------------------------------------------------+\n"
          ],
          "name": "stdout"
        }
      ]
    },
    {
      "cell_type": "markdown",
      "metadata": {
        "id": "CmbLTVniARy3",
        "colab_type": "text"
      },
      "source": [
        "Now let's use our test data to see how well our model did:"
      ]
    },
    {
      "cell_type": "code",
      "metadata": {
        "id": "JIhejfpyJ8Bx",
        "colab_type": "code",
        "colab": {}
      },
      "source": [
        "val_input_fn = run_classifier.input_fn_builder(\n",
        "    features=val_features,\n",
        "    seq_length=MAX_SEQ_LENGTH,\n",
        "    is_training=False,\n",
        "    drop_remainder=False)"
      ],
      "execution_count": 0,
      "outputs": []
    },
    {
      "cell_type": "code",
      "metadata": {
        "id": "PPVEXhNjYXC-",
        "colab_type": "code",
        "outputId": "7c7df731-1dec-4b17-b7b6-2752d015d1c0",
        "colab": {
          "base_uri": "https://localhost:8080/",
          "height": 674
        }
      },
      "source": [
        "estimator.evaluate(input_fn=val_input_fn, steps=None)"
      ],
      "execution_count": 34,
      "outputs": [
        {
          "output_type": "stream",
          "text": [
            "INFO:tensorflow:Calling model_fn.\n"
          ],
          "name": "stdout"
        },
        {
          "output_type": "stream",
          "text": [
            "INFO:tensorflow:Calling model_fn.\n"
          ],
          "name": "stderr"
        },
        {
          "output_type": "stream",
          "text": [
            "INFO:tensorflow:Saver not created because there are no variables in the graph to restore\n"
          ],
          "name": "stdout"
        },
        {
          "output_type": "stream",
          "text": [
            "INFO:tensorflow:Saver not created because there are no variables in the graph to restore\n",
            "/usr/local/lib/python3.6/dist-packages/tensorflow_core/python/framework/indexed_slices.py:424: UserWarning: Converting sparse IndexedSlices to a dense Tensor of unknown shape. This may consume a large amount of memory.\n",
            "  \"Converting sparse IndexedSlices to a dense Tensor of unknown shape. \"\n"
          ],
          "name": "stderr"
        },
        {
          "output_type": "stream",
          "text": [
            "INFO:tensorflow:Done calling model_fn.\n"
          ],
          "name": "stdout"
        },
        {
          "output_type": "stream",
          "text": [
            "INFO:tensorflow:Done calling model_fn.\n"
          ],
          "name": "stderr"
        },
        {
          "output_type": "stream",
          "text": [
            "INFO:tensorflow:Starting evaluation at 2020-02-23T17:15:49Z\n"
          ],
          "name": "stdout"
        },
        {
          "output_type": "stream",
          "text": [
            "INFO:tensorflow:Starting evaluation at 2020-02-23T17:15:49Z\n"
          ],
          "name": "stderr"
        },
        {
          "output_type": "stream",
          "text": [
            "INFO:tensorflow:Graph was finalized.\n"
          ],
          "name": "stdout"
        },
        {
          "output_type": "stream",
          "text": [
            "INFO:tensorflow:Graph was finalized.\n"
          ],
          "name": "stderr"
        },
        {
          "output_type": "stream",
          "text": [
            "INFO:tensorflow:Restoring parameters from /content/drive/My Drive/nlp_test/bert_checkpoints/model.ckpt-93\n"
          ],
          "name": "stdout"
        },
        {
          "output_type": "stream",
          "text": [
            "INFO:tensorflow:Restoring parameters from /content/drive/My Drive/nlp_test/bert_checkpoints/model.ckpt-93\n"
          ],
          "name": "stderr"
        },
        {
          "output_type": "stream",
          "text": [
            "INFO:tensorflow:Running local_init_op.\n"
          ],
          "name": "stdout"
        },
        {
          "output_type": "stream",
          "text": [
            "INFO:tensorflow:Running local_init_op.\n"
          ],
          "name": "stderr"
        },
        {
          "output_type": "stream",
          "text": [
            "INFO:tensorflow:Done running local_init_op.\n"
          ],
          "name": "stdout"
        },
        {
          "output_type": "stream",
          "text": [
            "INFO:tensorflow:Done running local_init_op.\n"
          ],
          "name": "stderr"
        },
        {
          "output_type": "stream",
          "text": [
            "INFO:tensorflow:Finished evaluation at 2020-02-23-17:16:20\n"
          ],
          "name": "stdout"
        },
        {
          "output_type": "stream",
          "text": [
            "INFO:tensorflow:Finished evaluation at 2020-02-23-17:16:20\n"
          ],
          "name": "stderr"
        },
        {
          "output_type": "stream",
          "text": [
            "INFO:tensorflow:Saving dict for global step 93: auc = 0.7568554, eval_accuracy = 0.8742515, f1_score = 0.6440677, false_negatives = 15.0, false_positives = 6.0, global_step = 93, loss = 0.30611268, precision = 0.76, recall = 0.5588235, true_negatives = 127.0, true_positives = 19.0\n"
          ],
          "name": "stdout"
        },
        {
          "output_type": "stream",
          "text": [
            "INFO:tensorflow:Saving dict for global step 93: auc = 0.7568554, eval_accuracy = 0.8742515, f1_score = 0.6440677, false_negatives = 15.0, false_positives = 6.0, global_step = 93, loss = 0.30611268, precision = 0.76, recall = 0.5588235, true_negatives = 127.0, true_positives = 19.0\n"
          ],
          "name": "stderr"
        },
        {
          "output_type": "stream",
          "text": [
            "INFO:tensorflow:Saving 'checkpoint_path' summary for global step 93: /content/drive/My Drive/nlp_test/bert_checkpoints/model.ckpt-93\n"
          ],
          "name": "stdout"
        },
        {
          "output_type": "stream",
          "text": [
            "INFO:tensorflow:Saving 'checkpoint_path' summary for global step 93: /content/drive/My Drive/nlp_test/bert_checkpoints/model.ckpt-93\n"
          ],
          "name": "stderr"
        },
        {
          "output_type": "execute_result",
          "data": {
            "text/plain": [
              "{'auc': 0.7568554,\n",
              " 'eval_accuracy': 0.8742515,\n",
              " 'f1_score': 0.6440677,\n",
              " 'false_negatives': 15.0,\n",
              " 'false_positives': 6.0,\n",
              " 'global_step': 93,\n",
              " 'loss': 0.30611268,\n",
              " 'precision': 0.76,\n",
              " 'recall': 0.5588235,\n",
              " 'true_negatives': 127.0,\n",
              " 'true_positives': 19.0}"
            ]
          },
          "metadata": {
            "tags": []
          },
          "execution_count": 34
        }
      ]
    },
    {
      "cell_type": "markdown",
      "metadata": {
        "id": "ueKsULteiz1B",
        "colab_type": "text"
      },
      "source": [
        "Now let's write code to make predictions on new sentences:"
      ]
    },
    {
      "cell_type": "code",
      "metadata": {
        "id": "OsrbTD2EJTVl",
        "colab_type": "code",
        "colab": {}
      },
      "source": [
        "def getPrediction(in_sentences):\n",
        "  labels = [\"Negative\", \"Positive\"]\n",
        "  input_examples = [run_classifier.InputExample(guid=\"\", text_a = x, text_b = None, label = 0) for x in in_sentences] # here, \"\" is just a dummy label\n",
        "  input_features = run_classifier.convert_examples_to_features(input_examples, label_list, MAX_SEQ_LENGTH, tokenizer)\n",
        "  predict_input_fn = run_classifier.input_fn_builder(features=input_features, seq_length=MAX_SEQ_LENGTH, is_training=False, drop_remainder=False)\n",
        "  predictions = estimator.predict(predict_input_fn)\n",
        "  return [(sentence, prediction['probabilities'], labels[prediction['labels']]) for sentence, prediction in zip(in_sentences, predictions)]"
      ],
      "execution_count": 0,
      "outputs": []
    },
    {
      "cell_type": "code",
      "metadata": {
        "id": "iPpHgGO_D6oW",
        "colab_type": "code",
        "colab": {
          "base_uri": "https://localhost:8080/",
          "height": 198
        },
        "outputId": "7dfcc948-bad8-4856-95e9-0bbc96d9db93"
      },
      "source": [
        "test_titles = pd.read_csv('/content/drive/My Drive/nlp_test/data/test_titles.csv')\n",
        "test_titles.head()"
      ],
      "execution_count": 36,
      "outputs": [
        {
          "output_type": "execute_result",
          "data": {
            "text/html": [
              "<div>\n",
              "<style scoped>\n",
              "    .dataframe tbody tr th:only-of-type {\n",
              "        vertical-align: middle;\n",
              "    }\n",
              "\n",
              "    .dataframe tbody tr th {\n",
              "        vertical-align: top;\n",
              "    }\n",
              "\n",
              "    .dataframe thead th {\n",
              "        text-align: right;\n",
              "    }\n",
              "</style>\n",
              "<table border=\"1\" class=\"dataframe\">\n",
              "  <thead>\n",
              "    <tr style=\"text-align: right;\">\n",
              "      <th></th>\n",
              "      <th>title</th>\n",
              "    </tr>\n",
              "  </thead>\n",
              "  <tbody>\n",
              "    <tr>\n",
              "      <th>0</th>\n",
              "      <td>Уралкуз” изготовил рекордное количество осей</td>\n",
              "    </tr>\n",
              "    <tr>\n",
              "      <th>1</th>\n",
              "      <td>Отключение Ирана от интернета выявило сильные ...</td>\n",
              "    </tr>\n",
              "    <tr>\n",
              "      <th>2</th>\n",
              "      <td>Во Владивостоке количество наружной рекламы до...</td>\n",
              "    </tr>\n",
              "    <tr>\n",
              "      <th>3</th>\n",
              "      <td>ФУТБОЛ-Месси получил рекордный шестой \"Золотой...</td>\n",
              "    </tr>\n",
              "    <tr>\n",
              "      <th>4</th>\n",
              "      <td>«ОРУ под напряжением Луны»: фото амурчанина по...</td>\n",
              "    </tr>\n",
              "  </tbody>\n",
              "</table>\n",
              "</div>"
            ],
            "text/plain": [
              "                                               title\n",
              "0       Уралкуз” изготовил рекордное количество осей\n",
              "1  Отключение Ирана от интернета выявило сильные ...\n",
              "2  Во Владивостоке количество наружной рекламы до...\n",
              "3  ФУТБОЛ-Месси получил рекордный шестой \"Золотой...\n",
              "4  «ОРУ под напряжением Луны»: фото амурчанина по..."
            ]
          },
          "metadata": {
            "tags": []
          },
          "execution_count": 36
        }
      ]
    },
    {
      "cell_type": "code",
      "metadata": {
        "id": "VCSy9mZWFZCQ",
        "colab_type": "code",
        "colab": {
          "base_uri": "https://localhost:8080/",
          "height": 35
        },
        "outputId": "51499b37-70ea-4353-bc25-438970e133b8"
      },
      "source": [
        "test_titles.title.apply(lambda x:  1 if type(x) == float else 0)"
      ],
      "execution_count": 49,
      "outputs": [
        {
          "output_type": "execute_result",
          "data": {
            "text/plain": [
              "206"
            ]
          },
          "metadata": {
            "tags": []
          },
          "execution_count": 49
        }
      ]
    },
    {
      "cell_type": "code",
      "metadata": {
        "id": "YmMS0PmKFr3Y",
        "colab_type": "code",
        "colab": {}
      },
      "source": [
        "test_titles.title = test_titles.title.astype(str)"
      ],
      "execution_count": 0,
      "outputs": []
    },
    {
      "cell_type": "code",
      "metadata": {
        "id": "HvJf4fRbF3CN",
        "colab_type": "code",
        "colab": {
          "base_uri": "https://localhost:8080/",
          "height": 35
        },
        "outputId": "919a6d33-5bb5-46ec-a870-04750cb6c44b"
      },
      "source": [
        "test_titles.shape"
      ],
      "execution_count": 53,
      "outputs": [
        {
          "output_type": "execute_result",
          "data": {
            "text/plain": [
              "(10782, 1)"
            ]
          },
          "metadata": {
            "tags": []
          },
          "execution_count": 53
        }
      ]
    },
    {
      "cell_type": "code",
      "metadata": {
        "id": "QrZmvZySKQTm",
        "colab_type": "code",
        "outputId": "99f10694-84ba-4b7b-a615-37528952d2be",
        "colab": {
          "base_uri": "https://localhost:8080/",
          "height": 1000
        }
      },
      "source": [
        "predictions = getPrediction(test_titles.title.values)"
      ],
      "execution_count": 52,
      "outputs": [
        {
          "output_type": "stream",
          "text": [
            "INFO:tensorflow:Writing example 0 of 10782\n"
          ],
          "name": "stdout"
        },
        {
          "output_type": "stream",
          "text": [
            "INFO:tensorflow:Writing example 0 of 10782\n"
          ],
          "name": "stderr"
        },
        {
          "output_type": "stream",
          "text": [
            "INFO:tensorflow:*** Example ***\n"
          ],
          "name": "stdout"
        },
        {
          "output_type": "stream",
          "text": [
            "INFO:tensorflow:*** Example ***\n"
          ],
          "name": "stderr"
        },
        {
          "output_type": "stream",
          "text": [
            "INFO:tensorflow:guid: \n"
          ],
          "name": "stdout"
        },
        {
          "output_type": "stream",
          "text": [
            "INFO:tensorflow:guid: \n"
          ],
          "name": "stderr"
        },
        {
          "output_type": "stream",
          "text": [
            "INFO:tensorflow:tokens: [CLS] Урал ##ку ##з [UNK] из ##го ##тов ##ил рекорд ##ное количество ос ##ей [SEP]\n"
          ],
          "name": "stdout"
        },
        {
          "output_type": "stream",
          "text": [
            "INFO:tensorflow:tokens: [CLS] Урал ##ку ##з [UNK] из ##го ##тов ##ил рекорд ##ное количество ос ##ей [SEP]\n"
          ],
          "name": "stderr"
        },
        {
          "output_type": "stream",
          "text": [
            "INFO:tensorflow:input_ids: 101 42830 11191 11571 100 10387 10990 16503 13460 46979 12621 24750 85854 11742 102 0 0 0 0 0 0 0 0 0 0 0 0 0 0 0 0 0 0 0 0 0 0 0 0 0 0 0 0 0 0 0 0 0 0 0 0 0 0 0 0 0 0 0 0 0 0 0 0 0 0 0 0 0 0 0 0 0 0 0 0 0 0 0 0 0 0 0 0 0 0 0 0 0 0 0 0 0 0 0 0 0 0 0 0 0 0 0 0 0 0 0 0 0 0 0 0 0 0 0 0 0 0 0 0 0 0 0 0 0 0 0 0 0\n"
          ],
          "name": "stdout"
        },
        {
          "output_type": "stream",
          "text": [
            "INFO:tensorflow:input_ids: 101 42830 11191 11571 100 10387 10990 16503 13460 46979 12621 24750 85854 11742 102 0 0 0 0 0 0 0 0 0 0 0 0 0 0 0 0 0 0 0 0 0 0 0 0 0 0 0 0 0 0 0 0 0 0 0 0 0 0 0 0 0 0 0 0 0 0 0 0 0 0 0 0 0 0 0 0 0 0 0 0 0 0 0 0 0 0 0 0 0 0 0 0 0 0 0 0 0 0 0 0 0 0 0 0 0 0 0 0 0 0 0 0 0 0 0 0 0 0 0 0 0 0 0 0 0 0 0 0 0 0 0 0 0\n"
          ],
          "name": "stderr"
        },
        {
          "output_type": "stream",
          "text": [
            "INFO:tensorflow:input_mask: 1 1 1 1 1 1 1 1 1 1 1 1 1 1 1 0 0 0 0 0 0 0 0 0 0 0 0 0 0 0 0 0 0 0 0 0 0 0 0 0 0 0 0 0 0 0 0 0 0 0 0 0 0 0 0 0 0 0 0 0 0 0 0 0 0 0 0 0 0 0 0 0 0 0 0 0 0 0 0 0 0 0 0 0 0 0 0 0 0 0 0 0 0 0 0 0 0 0 0 0 0 0 0 0 0 0 0 0 0 0 0 0 0 0 0 0 0 0 0 0 0 0 0 0 0 0 0 0\n"
          ],
          "name": "stdout"
        },
        {
          "output_type": "stream",
          "text": [
            "INFO:tensorflow:input_mask: 1 1 1 1 1 1 1 1 1 1 1 1 1 1 1 0 0 0 0 0 0 0 0 0 0 0 0 0 0 0 0 0 0 0 0 0 0 0 0 0 0 0 0 0 0 0 0 0 0 0 0 0 0 0 0 0 0 0 0 0 0 0 0 0 0 0 0 0 0 0 0 0 0 0 0 0 0 0 0 0 0 0 0 0 0 0 0 0 0 0 0 0 0 0 0 0 0 0 0 0 0 0 0 0 0 0 0 0 0 0 0 0 0 0 0 0 0 0 0 0 0 0 0 0 0 0 0 0\n"
          ],
          "name": "stderr"
        },
        {
          "output_type": "stream",
          "text": [
            "INFO:tensorflow:segment_ids: 0 0 0 0 0 0 0 0 0 0 0 0 0 0 0 0 0 0 0 0 0 0 0 0 0 0 0 0 0 0 0 0 0 0 0 0 0 0 0 0 0 0 0 0 0 0 0 0 0 0 0 0 0 0 0 0 0 0 0 0 0 0 0 0 0 0 0 0 0 0 0 0 0 0 0 0 0 0 0 0 0 0 0 0 0 0 0 0 0 0 0 0 0 0 0 0 0 0 0 0 0 0 0 0 0 0 0 0 0 0 0 0 0 0 0 0 0 0 0 0 0 0 0 0 0 0 0 0\n"
          ],
          "name": "stdout"
        },
        {
          "output_type": "stream",
          "text": [
            "INFO:tensorflow:segment_ids: 0 0 0 0 0 0 0 0 0 0 0 0 0 0 0 0 0 0 0 0 0 0 0 0 0 0 0 0 0 0 0 0 0 0 0 0 0 0 0 0 0 0 0 0 0 0 0 0 0 0 0 0 0 0 0 0 0 0 0 0 0 0 0 0 0 0 0 0 0 0 0 0 0 0 0 0 0 0 0 0 0 0 0 0 0 0 0 0 0 0 0 0 0 0 0 0 0 0 0 0 0 0 0 0 0 0 0 0 0 0 0 0 0 0 0 0 0 0 0 0 0 0 0 0 0 0 0 0\n"
          ],
          "name": "stderr"
        },
        {
          "output_type": "stream",
          "text": [
            "INFO:tensorflow:label: 0 (id = 0)\n"
          ],
          "name": "stdout"
        },
        {
          "output_type": "stream",
          "text": [
            "INFO:tensorflow:label: 0 (id = 0)\n"
          ],
          "name": "stderr"
        },
        {
          "output_type": "stream",
          "text": [
            "INFO:tensorflow:*** Example ***\n"
          ],
          "name": "stdout"
        },
        {
          "output_type": "stream",
          "text": [
            "INFO:tensorflow:*** Example ***\n"
          ],
          "name": "stderr"
        },
        {
          "output_type": "stream",
          "text": [
            "INFO:tensorflow:guid: \n"
          ],
          "name": "stdout"
        },
        {
          "output_type": "stream",
          "text": [
            "INFO:tensorflow:guid: \n"
          ],
          "name": "stderr"
        },
        {
          "output_type": "stream",
          "text": [
            "INFO:tensorflow:tokens: [CLS] От ##ключение Иран ##а от интернет ##а вы ##яви ##ло сил ##ьные и сл ##аб ##ые стороны его « су ##вер ##ени ##зации » [SEP]\n"
          ],
          "name": "stdout"
        },
        {
          "output_type": "stream",
          "text": [
            "INFO:tensorflow:tokens: [CLS] От ##ключение Иран ##а от интернет ##а вы ##яви ##ло сил ##ьные и сл ##аб ##ые стороны его « су ##вер ##ени ##зации » [SEP]\n"
          ],
          "name": "stderr"
        },
        {
          "output_type": "stream",
          "text": [
            "INFO:tensorflow:input_ids: 101 19196 77274 65299 10179 10332 51754 10179 96195 77954 11602 23970 34045 549 52399 50889 14578 23167 10933 208 10587 32418 15065 33917 220 102 0 0 0 0 0 0 0 0 0 0 0 0 0 0 0 0 0 0 0 0 0 0 0 0 0 0 0 0 0 0 0 0 0 0 0 0 0 0 0 0 0 0 0 0 0 0 0 0 0 0 0 0 0 0 0 0 0 0 0 0 0 0 0 0 0 0 0 0 0 0 0 0 0 0 0 0 0 0 0 0 0 0 0 0 0 0 0 0 0 0 0 0 0 0 0 0 0 0 0 0 0 0\n"
          ],
          "name": "stdout"
        },
        {
          "output_type": "stream",
          "text": [
            "INFO:tensorflow:input_ids: 101 19196 77274 65299 10179 10332 51754 10179 96195 77954 11602 23970 34045 549 52399 50889 14578 23167 10933 208 10587 32418 15065 33917 220 102 0 0 0 0 0 0 0 0 0 0 0 0 0 0 0 0 0 0 0 0 0 0 0 0 0 0 0 0 0 0 0 0 0 0 0 0 0 0 0 0 0 0 0 0 0 0 0 0 0 0 0 0 0 0 0 0 0 0 0 0 0 0 0 0 0 0 0 0 0 0 0 0 0 0 0 0 0 0 0 0 0 0 0 0 0 0 0 0 0 0 0 0 0 0 0 0 0 0 0 0 0 0\n"
          ],
          "name": "stderr"
        },
        {
          "output_type": "stream",
          "text": [
            "INFO:tensorflow:input_mask: 1 1 1 1 1 1 1 1 1 1 1 1 1 1 1 1 1 1 1 1 1 1 1 1 1 1 0 0 0 0 0 0 0 0 0 0 0 0 0 0 0 0 0 0 0 0 0 0 0 0 0 0 0 0 0 0 0 0 0 0 0 0 0 0 0 0 0 0 0 0 0 0 0 0 0 0 0 0 0 0 0 0 0 0 0 0 0 0 0 0 0 0 0 0 0 0 0 0 0 0 0 0 0 0 0 0 0 0 0 0 0 0 0 0 0 0 0 0 0 0 0 0 0 0 0 0 0 0\n"
          ],
          "name": "stdout"
        },
        {
          "output_type": "stream",
          "text": [
            "INFO:tensorflow:input_mask: 1 1 1 1 1 1 1 1 1 1 1 1 1 1 1 1 1 1 1 1 1 1 1 1 1 1 0 0 0 0 0 0 0 0 0 0 0 0 0 0 0 0 0 0 0 0 0 0 0 0 0 0 0 0 0 0 0 0 0 0 0 0 0 0 0 0 0 0 0 0 0 0 0 0 0 0 0 0 0 0 0 0 0 0 0 0 0 0 0 0 0 0 0 0 0 0 0 0 0 0 0 0 0 0 0 0 0 0 0 0 0 0 0 0 0 0 0 0 0 0 0 0 0 0 0 0 0 0\n"
          ],
          "name": "stderr"
        },
        {
          "output_type": "stream",
          "text": [
            "INFO:tensorflow:segment_ids: 0 0 0 0 0 0 0 0 0 0 0 0 0 0 0 0 0 0 0 0 0 0 0 0 0 0 0 0 0 0 0 0 0 0 0 0 0 0 0 0 0 0 0 0 0 0 0 0 0 0 0 0 0 0 0 0 0 0 0 0 0 0 0 0 0 0 0 0 0 0 0 0 0 0 0 0 0 0 0 0 0 0 0 0 0 0 0 0 0 0 0 0 0 0 0 0 0 0 0 0 0 0 0 0 0 0 0 0 0 0 0 0 0 0 0 0 0 0 0 0 0 0 0 0 0 0 0 0\n"
          ],
          "name": "stdout"
        },
        {
          "output_type": "stream",
          "text": [
            "INFO:tensorflow:segment_ids: 0 0 0 0 0 0 0 0 0 0 0 0 0 0 0 0 0 0 0 0 0 0 0 0 0 0 0 0 0 0 0 0 0 0 0 0 0 0 0 0 0 0 0 0 0 0 0 0 0 0 0 0 0 0 0 0 0 0 0 0 0 0 0 0 0 0 0 0 0 0 0 0 0 0 0 0 0 0 0 0 0 0 0 0 0 0 0 0 0 0 0 0 0 0 0 0 0 0 0 0 0 0 0 0 0 0 0 0 0 0 0 0 0 0 0 0 0 0 0 0 0 0 0 0 0 0 0 0\n"
          ],
          "name": "stderr"
        },
        {
          "output_type": "stream",
          "text": [
            "INFO:tensorflow:label: 0 (id = 0)\n"
          ],
          "name": "stdout"
        },
        {
          "output_type": "stream",
          "text": [
            "INFO:tensorflow:label: 0 (id = 0)\n"
          ],
          "name": "stderr"
        },
        {
          "output_type": "stream",
          "text": [
            "INFO:tensorflow:*** Example ***\n"
          ],
          "name": "stdout"
        },
        {
          "output_type": "stream",
          "text": [
            "INFO:tensorflow:*** Example ***\n"
          ],
          "name": "stderr"
        },
        {
          "output_type": "stream",
          "text": [
            "INFO:tensorflow:guid: \n"
          ],
          "name": "stdout"
        },
        {
          "output_type": "stream",
          "text": [
            "INFO:tensorflow:guid: \n"
          ],
          "name": "stderr"
        },
        {
          "output_type": "stream",
          "text": [
            "INFO:tensorflow:tokens: [CLS] Во В ##лади ##во ##сток ##е количество нар ##ужно ##й рек ##лам ##ы до ##стиг ##ло коло ##сса ##льных об ##орот ##ов [SEP]\n"
          ],
          "name": "stdout"
        },
        {
          "output_type": "stream",
          "text": [
            "INFO:tensorflow:tokens: [CLS] Во В ##лади ##во ##сток ##е количество нар ##ужно ##й рек ##лам ##ы до ##стиг ##ло коло ##сса ##льных об ##орот ##ов [SEP]\n"
          ],
          "name": "stderr"
        },
        {
          "output_type": "stream",
          "text": [
            "INFO:tensorflow:input_ids: 101 12624 511 66684 15275 90983 10205 24750 21384 104636 10384 70158 83379 10292 10344 74673 11602 38252 48621 18737 13248 71434 10433 102 0 0 0 0 0 0 0 0 0 0 0 0 0 0 0 0 0 0 0 0 0 0 0 0 0 0 0 0 0 0 0 0 0 0 0 0 0 0 0 0 0 0 0 0 0 0 0 0 0 0 0 0 0 0 0 0 0 0 0 0 0 0 0 0 0 0 0 0 0 0 0 0 0 0 0 0 0 0 0 0 0 0 0 0 0 0 0 0 0 0 0 0 0 0 0 0 0 0 0 0 0 0 0 0\n"
          ],
          "name": "stdout"
        },
        {
          "output_type": "stream",
          "text": [
            "INFO:tensorflow:input_ids: 101 12624 511 66684 15275 90983 10205 24750 21384 104636 10384 70158 83379 10292 10344 74673 11602 38252 48621 18737 13248 71434 10433 102 0 0 0 0 0 0 0 0 0 0 0 0 0 0 0 0 0 0 0 0 0 0 0 0 0 0 0 0 0 0 0 0 0 0 0 0 0 0 0 0 0 0 0 0 0 0 0 0 0 0 0 0 0 0 0 0 0 0 0 0 0 0 0 0 0 0 0 0 0 0 0 0 0 0 0 0 0 0 0 0 0 0 0 0 0 0 0 0 0 0 0 0 0 0 0 0 0 0 0 0 0 0 0 0\n"
          ],
          "name": "stderr"
        },
        {
          "output_type": "stream",
          "text": [
            "INFO:tensorflow:input_mask: 1 1 1 1 1 1 1 1 1 1 1 1 1 1 1 1 1 1 1 1 1 1 1 1 0 0 0 0 0 0 0 0 0 0 0 0 0 0 0 0 0 0 0 0 0 0 0 0 0 0 0 0 0 0 0 0 0 0 0 0 0 0 0 0 0 0 0 0 0 0 0 0 0 0 0 0 0 0 0 0 0 0 0 0 0 0 0 0 0 0 0 0 0 0 0 0 0 0 0 0 0 0 0 0 0 0 0 0 0 0 0 0 0 0 0 0 0 0 0 0 0 0 0 0 0 0 0 0\n"
          ],
          "name": "stdout"
        },
        {
          "output_type": "stream",
          "text": [
            "INFO:tensorflow:input_mask: 1 1 1 1 1 1 1 1 1 1 1 1 1 1 1 1 1 1 1 1 1 1 1 1 0 0 0 0 0 0 0 0 0 0 0 0 0 0 0 0 0 0 0 0 0 0 0 0 0 0 0 0 0 0 0 0 0 0 0 0 0 0 0 0 0 0 0 0 0 0 0 0 0 0 0 0 0 0 0 0 0 0 0 0 0 0 0 0 0 0 0 0 0 0 0 0 0 0 0 0 0 0 0 0 0 0 0 0 0 0 0 0 0 0 0 0 0 0 0 0 0 0 0 0 0 0 0 0\n"
          ],
          "name": "stderr"
        },
        {
          "output_type": "stream",
          "text": [
            "INFO:tensorflow:segment_ids: 0 0 0 0 0 0 0 0 0 0 0 0 0 0 0 0 0 0 0 0 0 0 0 0 0 0 0 0 0 0 0 0 0 0 0 0 0 0 0 0 0 0 0 0 0 0 0 0 0 0 0 0 0 0 0 0 0 0 0 0 0 0 0 0 0 0 0 0 0 0 0 0 0 0 0 0 0 0 0 0 0 0 0 0 0 0 0 0 0 0 0 0 0 0 0 0 0 0 0 0 0 0 0 0 0 0 0 0 0 0 0 0 0 0 0 0 0 0 0 0 0 0 0 0 0 0 0 0\n"
          ],
          "name": "stdout"
        },
        {
          "output_type": "stream",
          "text": [
            "INFO:tensorflow:segment_ids: 0 0 0 0 0 0 0 0 0 0 0 0 0 0 0 0 0 0 0 0 0 0 0 0 0 0 0 0 0 0 0 0 0 0 0 0 0 0 0 0 0 0 0 0 0 0 0 0 0 0 0 0 0 0 0 0 0 0 0 0 0 0 0 0 0 0 0 0 0 0 0 0 0 0 0 0 0 0 0 0 0 0 0 0 0 0 0 0 0 0 0 0 0 0 0 0 0 0 0 0 0 0 0 0 0 0 0 0 0 0 0 0 0 0 0 0 0 0 0 0 0 0 0 0 0 0 0 0\n"
          ],
          "name": "stderr"
        },
        {
          "output_type": "stream",
          "text": [
            "INFO:tensorflow:label: 0 (id = 0)\n"
          ],
          "name": "stdout"
        },
        {
          "output_type": "stream",
          "text": [
            "INFO:tensorflow:label: 0 (id = 0)\n"
          ],
          "name": "stderr"
        },
        {
          "output_type": "stream",
          "text": [
            "INFO:tensorflow:*** Example ***\n"
          ],
          "name": "stdout"
        },
        {
          "output_type": "stream",
          "text": [
            "INFO:tensorflow:*** Example ***\n"
          ],
          "name": "stderr"
        },
        {
          "output_type": "stream",
          "text": [
            "INFO:tensorflow:guid: \n"
          ],
          "name": "stdout"
        },
        {
          "output_type": "stream",
          "text": [
            "INFO:tensorflow:guid: \n"
          ],
          "name": "stderr"
        },
        {
          "output_type": "stream",
          "text": [
            "INFO:tensorflow:tokens: [CLS] Ф ##У ##Т ##Б ##О ##Л - М ##есс ##и получил рекорд ##ный шест ##ой \" Золотой м ##яч \" [SEP]\n"
          ],
          "name": "stdout"
        },
        {
          "output_type": "stream",
          "text": [
            "INFO:tensorflow:tokens: [CLS] Ф ##У ##Т ##Б ##О ##Л - М ##есс ##и получил рекорд ##ный шест ##ой \" Золотой м ##яч \" [SEP]\n"
          ],
          "name": "stderr"
        },
        {
          "output_type": "stream",
          "text": [
            "INFO:tensorflow:input_ids: 101 529 16859 20411 18683 18002 32476 118 521 110612 10191 16308 46979 11092 54675 11292 107 63314 553 65891 107 102 0 0 0 0 0 0 0 0 0 0 0 0 0 0 0 0 0 0 0 0 0 0 0 0 0 0 0 0 0 0 0 0 0 0 0 0 0 0 0 0 0 0 0 0 0 0 0 0 0 0 0 0 0 0 0 0 0 0 0 0 0 0 0 0 0 0 0 0 0 0 0 0 0 0 0 0 0 0 0 0 0 0 0 0 0 0 0 0 0 0 0 0 0 0 0 0 0 0 0 0 0 0 0 0 0 0\n"
          ],
          "name": "stdout"
        },
        {
          "output_type": "stream",
          "text": [
            "INFO:tensorflow:input_ids: 101 529 16859 20411 18683 18002 32476 118 521 110612 10191 16308 46979 11092 54675 11292 107 63314 553 65891 107 102 0 0 0 0 0 0 0 0 0 0 0 0 0 0 0 0 0 0 0 0 0 0 0 0 0 0 0 0 0 0 0 0 0 0 0 0 0 0 0 0 0 0 0 0 0 0 0 0 0 0 0 0 0 0 0 0 0 0 0 0 0 0 0 0 0 0 0 0 0 0 0 0 0 0 0 0 0 0 0 0 0 0 0 0 0 0 0 0 0 0 0 0 0 0 0 0 0 0 0 0 0 0 0 0 0 0\n"
          ],
          "name": "stderr"
        },
        {
          "output_type": "stream",
          "text": [
            "INFO:tensorflow:input_mask: 1 1 1 1 1 1 1 1 1 1 1 1 1 1 1 1 1 1 1 1 1 1 0 0 0 0 0 0 0 0 0 0 0 0 0 0 0 0 0 0 0 0 0 0 0 0 0 0 0 0 0 0 0 0 0 0 0 0 0 0 0 0 0 0 0 0 0 0 0 0 0 0 0 0 0 0 0 0 0 0 0 0 0 0 0 0 0 0 0 0 0 0 0 0 0 0 0 0 0 0 0 0 0 0 0 0 0 0 0 0 0 0 0 0 0 0 0 0 0 0 0 0 0 0 0 0 0 0\n"
          ],
          "name": "stdout"
        },
        {
          "output_type": "stream",
          "text": [
            "INFO:tensorflow:input_mask: 1 1 1 1 1 1 1 1 1 1 1 1 1 1 1 1 1 1 1 1 1 1 0 0 0 0 0 0 0 0 0 0 0 0 0 0 0 0 0 0 0 0 0 0 0 0 0 0 0 0 0 0 0 0 0 0 0 0 0 0 0 0 0 0 0 0 0 0 0 0 0 0 0 0 0 0 0 0 0 0 0 0 0 0 0 0 0 0 0 0 0 0 0 0 0 0 0 0 0 0 0 0 0 0 0 0 0 0 0 0 0 0 0 0 0 0 0 0 0 0 0 0 0 0 0 0 0 0\n"
          ],
          "name": "stderr"
        },
        {
          "output_type": "stream",
          "text": [
            "INFO:tensorflow:segment_ids: 0 0 0 0 0 0 0 0 0 0 0 0 0 0 0 0 0 0 0 0 0 0 0 0 0 0 0 0 0 0 0 0 0 0 0 0 0 0 0 0 0 0 0 0 0 0 0 0 0 0 0 0 0 0 0 0 0 0 0 0 0 0 0 0 0 0 0 0 0 0 0 0 0 0 0 0 0 0 0 0 0 0 0 0 0 0 0 0 0 0 0 0 0 0 0 0 0 0 0 0 0 0 0 0 0 0 0 0 0 0 0 0 0 0 0 0 0 0 0 0 0 0 0 0 0 0 0 0\n"
          ],
          "name": "stdout"
        },
        {
          "output_type": "stream",
          "text": [
            "INFO:tensorflow:segment_ids: 0 0 0 0 0 0 0 0 0 0 0 0 0 0 0 0 0 0 0 0 0 0 0 0 0 0 0 0 0 0 0 0 0 0 0 0 0 0 0 0 0 0 0 0 0 0 0 0 0 0 0 0 0 0 0 0 0 0 0 0 0 0 0 0 0 0 0 0 0 0 0 0 0 0 0 0 0 0 0 0 0 0 0 0 0 0 0 0 0 0 0 0 0 0 0 0 0 0 0 0 0 0 0 0 0 0 0 0 0 0 0 0 0 0 0 0 0 0 0 0 0 0 0 0 0 0 0 0\n"
          ],
          "name": "stderr"
        },
        {
          "output_type": "stream",
          "text": [
            "INFO:tensorflow:label: 0 (id = 0)\n"
          ],
          "name": "stdout"
        },
        {
          "output_type": "stream",
          "text": [
            "INFO:tensorflow:label: 0 (id = 0)\n"
          ],
          "name": "stderr"
        },
        {
          "output_type": "stream",
          "text": [
            "INFO:tensorflow:*** Example ***\n"
          ],
          "name": "stdout"
        },
        {
          "output_type": "stream",
          "text": [
            "INFO:tensorflow:*** Example ***\n"
          ],
          "name": "stderr"
        },
        {
          "output_type": "stream",
          "text": [
            "INFO:tensorflow:guid: \n"
          ],
          "name": "stdout"
        },
        {
          "output_type": "stream",
          "text": [
            "INFO:tensorflow:guid: \n"
          ],
          "name": "stderr"
        },
        {
          "output_type": "stream",
          "text": [
            "INFO:tensorflow:tokens: [CLS] « О ##Р ##У под на ##пр ##яжение ##м Л ##уны » : ф ##ото а ##му ##рч ##ани ##на победил ##о во все ##рос ##сий ##ском конкурсе э ##нер ##ге ##тик ##ов [SEP]\n"
          ],
          "name": "stdout"
        },
        {
          "output_type": "stream",
          "text": [
            "INFO:tensorflow:tokens: [CLS] « О ##Р ##У под на ##пр ##яжение ##м Л ##уны » : ф ##ото а ##му ##рч ##ани ##на победил ##о во все ##рос ##сий ##ском конкурсе э ##нер ##ге ##тик ##ов [SEP]\n"
          ],
          "name": "stderr"
        },
        {
          "output_type": "stream",
          "text": [
            "INFO:tensorflow:input_ids: 101 208 523 18005 16859 11429 10122 35415 96412 10241 520 50881 220 131 561 19517 541 11805 85763 25281 10409 77218 10316 10439 13686 44181 99108 12154 94265 570 28588 12670 27464 10433 102 0 0 0 0 0 0 0 0 0 0 0 0 0 0 0 0 0 0 0 0 0 0 0 0 0 0 0 0 0 0 0 0 0 0 0 0 0 0 0 0 0 0 0 0 0 0 0 0 0 0 0 0 0 0 0 0 0 0 0 0 0 0 0 0 0 0 0 0 0 0 0 0 0 0 0 0 0 0 0 0 0 0 0 0 0 0 0 0 0 0 0 0 0\n"
          ],
          "name": "stdout"
        },
        {
          "output_type": "stream",
          "text": [
            "INFO:tensorflow:input_ids: 101 208 523 18005 16859 11429 10122 35415 96412 10241 520 50881 220 131 561 19517 541 11805 85763 25281 10409 77218 10316 10439 13686 44181 99108 12154 94265 570 28588 12670 27464 10433 102 0 0 0 0 0 0 0 0 0 0 0 0 0 0 0 0 0 0 0 0 0 0 0 0 0 0 0 0 0 0 0 0 0 0 0 0 0 0 0 0 0 0 0 0 0 0 0 0 0 0 0 0 0 0 0 0 0 0 0 0 0 0 0 0 0 0 0 0 0 0 0 0 0 0 0 0 0 0 0 0 0 0 0 0 0 0 0 0 0 0 0 0 0\n"
          ],
          "name": "stderr"
        },
        {
          "output_type": "stream",
          "text": [
            "INFO:tensorflow:input_mask: 1 1 1 1 1 1 1 1 1 1 1 1 1 1 1 1 1 1 1 1 1 1 1 1 1 1 1 1 1 1 1 1 1 1 1 0 0 0 0 0 0 0 0 0 0 0 0 0 0 0 0 0 0 0 0 0 0 0 0 0 0 0 0 0 0 0 0 0 0 0 0 0 0 0 0 0 0 0 0 0 0 0 0 0 0 0 0 0 0 0 0 0 0 0 0 0 0 0 0 0 0 0 0 0 0 0 0 0 0 0 0 0 0 0 0 0 0 0 0 0 0 0 0 0 0 0 0 0\n"
          ],
          "name": "stdout"
        },
        {
          "output_type": "stream",
          "text": [
            "INFO:tensorflow:input_mask: 1 1 1 1 1 1 1 1 1 1 1 1 1 1 1 1 1 1 1 1 1 1 1 1 1 1 1 1 1 1 1 1 1 1 1 0 0 0 0 0 0 0 0 0 0 0 0 0 0 0 0 0 0 0 0 0 0 0 0 0 0 0 0 0 0 0 0 0 0 0 0 0 0 0 0 0 0 0 0 0 0 0 0 0 0 0 0 0 0 0 0 0 0 0 0 0 0 0 0 0 0 0 0 0 0 0 0 0 0 0 0 0 0 0 0 0 0 0 0 0 0 0 0 0 0 0 0 0\n"
          ],
          "name": "stderr"
        },
        {
          "output_type": "stream",
          "text": [
            "INFO:tensorflow:segment_ids: 0 0 0 0 0 0 0 0 0 0 0 0 0 0 0 0 0 0 0 0 0 0 0 0 0 0 0 0 0 0 0 0 0 0 0 0 0 0 0 0 0 0 0 0 0 0 0 0 0 0 0 0 0 0 0 0 0 0 0 0 0 0 0 0 0 0 0 0 0 0 0 0 0 0 0 0 0 0 0 0 0 0 0 0 0 0 0 0 0 0 0 0 0 0 0 0 0 0 0 0 0 0 0 0 0 0 0 0 0 0 0 0 0 0 0 0 0 0 0 0 0 0 0 0 0 0 0 0\n"
          ],
          "name": "stdout"
        },
        {
          "output_type": "stream",
          "text": [
            "INFO:tensorflow:segment_ids: 0 0 0 0 0 0 0 0 0 0 0 0 0 0 0 0 0 0 0 0 0 0 0 0 0 0 0 0 0 0 0 0 0 0 0 0 0 0 0 0 0 0 0 0 0 0 0 0 0 0 0 0 0 0 0 0 0 0 0 0 0 0 0 0 0 0 0 0 0 0 0 0 0 0 0 0 0 0 0 0 0 0 0 0 0 0 0 0 0 0 0 0 0 0 0 0 0 0 0 0 0 0 0 0 0 0 0 0 0 0 0 0 0 0 0 0 0 0 0 0 0 0 0 0 0 0 0 0\n"
          ],
          "name": "stderr"
        },
        {
          "output_type": "stream",
          "text": [
            "INFO:tensorflow:label: 0 (id = 0)\n"
          ],
          "name": "stdout"
        },
        {
          "output_type": "stream",
          "text": [
            "INFO:tensorflow:label: 0 (id = 0)\n"
          ],
          "name": "stderr"
        },
        {
          "output_type": "stream",
          "text": [
            "INFO:tensorflow:Writing example 10000 of 10782\n"
          ],
          "name": "stdout"
        },
        {
          "output_type": "stream",
          "text": [
            "INFO:tensorflow:Writing example 10000 of 10782\n"
          ],
          "name": "stderr"
        },
        {
          "output_type": "stream",
          "text": [
            "INFO:tensorflow:Calling model_fn.\n"
          ],
          "name": "stdout"
        },
        {
          "output_type": "stream",
          "text": [
            "INFO:tensorflow:Calling model_fn.\n"
          ],
          "name": "stderr"
        },
        {
          "output_type": "stream",
          "text": [
            "INFO:tensorflow:Saver not created because there are no variables in the graph to restore\n"
          ],
          "name": "stdout"
        },
        {
          "output_type": "stream",
          "text": [
            "INFO:tensorflow:Saver not created because there are no variables in the graph to restore\n"
          ],
          "name": "stderr"
        },
        {
          "output_type": "stream",
          "text": [
            "INFO:tensorflow:Done calling model_fn.\n"
          ],
          "name": "stdout"
        },
        {
          "output_type": "stream",
          "text": [
            "INFO:tensorflow:Done calling model_fn.\n"
          ],
          "name": "stderr"
        },
        {
          "output_type": "stream",
          "text": [
            "INFO:tensorflow:Graph was finalized.\n"
          ],
          "name": "stdout"
        },
        {
          "output_type": "stream",
          "text": [
            "INFO:tensorflow:Graph was finalized.\n"
          ],
          "name": "stderr"
        },
        {
          "output_type": "stream",
          "text": [
            "INFO:tensorflow:Restoring parameters from /content/drive/My Drive/nlp_test/bert_checkpoints/model.ckpt-93\n"
          ],
          "name": "stdout"
        },
        {
          "output_type": "stream",
          "text": [
            "INFO:tensorflow:Restoring parameters from /content/drive/My Drive/nlp_test/bert_checkpoints/model.ckpt-93\n"
          ],
          "name": "stderr"
        },
        {
          "output_type": "stream",
          "text": [
            "INFO:tensorflow:Running local_init_op.\n"
          ],
          "name": "stdout"
        },
        {
          "output_type": "stream",
          "text": [
            "INFO:tensorflow:Running local_init_op.\n"
          ],
          "name": "stderr"
        },
        {
          "output_type": "stream",
          "text": [
            "INFO:tensorflow:Done running local_init_op.\n"
          ],
          "name": "stdout"
        },
        {
          "output_type": "stream",
          "text": [
            "INFO:tensorflow:Done running local_init_op.\n"
          ],
          "name": "stderr"
        }
      ]
    },
    {
      "cell_type": "code",
      "metadata": {
        "id": "ERkTE8-7oQLZ",
        "colab_type": "code",
        "outputId": "96cd32bf-cb9d-423f-e82e-5abf7d6faaca",
        "colab": {
          "base_uri": "https://localhost:8080/",
          "height": 1000
        }
      },
      "source": [
        "predictions"
      ],
      "execution_count": 54,
      "outputs": [
        {
          "output_type": "execute_result",
          "data": {
            "text/plain": [
              "[('Уралкуз” изготовил рекордное количество осей',\n",
              "  array([-0.09516227, -2.399375  ], dtype=float32),\n",
              "  'Negative'),\n",
              " ('Отключение Ирана от интернета выявило сильные и слабые стороны его «суверенизации»',\n",
              "  array([-0.0847003, -2.510687 ], dtype=float32),\n",
              "  'Negative'),\n",
              " ('Во Владивостоке количество наружной рекламы достигло колоссальных оборотов',\n",
              "  array([-0.09446942, -2.4063423 ], dtype=float32),\n",
              "  'Negative'),\n",
              " ('ФУТБОЛ-Месси получил рекордный шестой \"Золотой мяч\"',\n",
              "  array([-0.11035949, -2.2586849 ], dtype=float32),\n",
              "  'Negative'),\n",
              " ('«ОРУ под напряжением Луны»: фото амурчанина победило во всероссийском конкурсе энергетиков',\n",
              "  array([-0.13075027, -2.099129  ], dtype=float32),\n",
              "  'Negative'),\n",
              " ('В Ленобласти ограничили количество \"однушек\" в новых домах',\n",
              "  array([-0.08875741, -2.4658995 ], dtype=float32),\n",
              "  'Negative'),\n",
              " ('Адресная травля инвалида-пенсионера',\n",
              "  array([-0.07792412, -2.5907288 ], dtype=float32),\n",
              "  'Negative'),\n",
              " ('Башкирия потратит на новогоднее оформление рекордную сумму',\n",
              "  array([-0.08460939, -2.5117168 ], dtype=float32),\n",
              "  'Negative'),\n",
              " ('Об особенностях новой программы развития регионов рассказал глава МНЭ РК',\n",
              "  array([-0.07963078, -2.5699055 ], dtype=float32),\n",
              "  'Negative'),\n",
              " ('Бессмыслица со смыслом. В Пятом театре очередная премьера',\n",
              "  array([-0.07784703, -2.5916805 ], dtype=float32),\n",
              "  'Negative'),\n",
              " ('В Москве поймали безработного, возившего с собой оружие',\n",
              "  array([-0.07503776, -2.6270475 ], dtype=float32),\n",
              "  'Negative'),\n",
              " ('Япония в октябре вновь сократила выпуск медной продукции',\n",
              "  array([-0.09303071, -2.4209807 ], dtype=float32),\n",
              "  'Negative'),\n",
              " ('Комментариев нет',\n",
              "  array([-0.0707238, -2.6841266], dtype=float32),\n",
              "  'Negative'),\n",
              " ('О железной дороге глазами детей',\n",
              "  array([-0.06266978, -2.8010468 ], dtype=float32),\n",
              "  'Negative'),\n",
              " ('В Главном управлении проведено общее собрание коллектива, посвященное Дню юриста',\n",
              "  array([-0.07456708, -2.6331084 ], dtype=float32),\n",
              "  'Negative'),\n",
              " ('Грант маме на бизнес',\n",
              "  array([-0.07931578, -2.5737138 ], dtype=float32),\n",
              "  'Negative'),\n",
              " ('О снежных навесах и наледи на крыше можно сообщить по телефону 112',\n",
              "  array([-0.07638374, -2.609934  ], dtype=float32),\n",
              "  'Negative'),\n",
              " ('Представители Алтайского края участвуют в завершающих тестах дистанционного этапа конкурса управленцев «Лидеры России»',\n",
              "  array([-0.11146175, -2.2492867 ], dtype=float32),\n",
              "  'Negative'),\n",
              " ('В\\xa0Барнауле начнут принимать документы на\\xa0должность мэра',\n",
              "  array([-0.08811666, -2.4728284 ], dtype=float32),\n",
              "  'Negative'),\n",
              " ('Стало известно, где в Сыктывкаре откроют бесплатные катки',\n",
              "  array([-0.10973073, -2.26409   ], dtype=float32),\n",
              "  'Negative'),\n",
              " ('Признан виновным',\n",
              "  array([-0.06716302, -2.7340264 ], dtype=float32),\n",
              "  'Negative'),\n",
              " ('«Дочка» «Газпрома» выкупит еще одного подрядчика из топ-10',\n",
              "  array([-0.11202186, -2.244549  ], dtype=float32),\n",
              "  'Negative'),\n",
              " ('«Резерв России» пополнили волгодонские пловцы',\n",
              "  array([-0.10101335, -2.342584  ], dtype=float32),\n",
              "  'Negative'),\n",
              " ('Суд приговорил к 7 годам колонии замдиректора дома престарелых в Челябинске за взятку',\n",
              "  array([-0.09870385, -2.3645778 ], dtype=float32),\n",
              "  'Negative'),\n",
              " ('Молодой житель Башкирии осужден за попытку сбыта крупной партии наркотиков',\n",
              "  array([-0.09629623, -2.3880882 ], dtype=float32),\n",
              "  'Negative'),\n",
              " ('Новое исследование предсказало голод для 90% мирового населения',\n",
              "  array([-0.07441858, -2.6350288 ], dtype=float32),\n",
              "  'Negative'),\n",
              " ('В Болгарии заявили, что надеются построить \"Балканский поток\" до конца 2020 года',\n",
              "  array([-0.08966327, -2.45619   ], dtype=float32),\n",
              "  'Negative'),\n",
              " ('«УКС\\xa0города Иркутска» проектирует новые дома на\\xa0улице Лыткина',\n",
              "  array([-0.14068107, -2.0307755 ], dtype=float32),\n",
              "  'Negative'),\n",
              " ('\"Татнефть\" в январе-ноябре увеличила добычу нефти на 1,6% — до 26,97 млн тонн',\n",
              "  array([-0.10862485, -2.2736762 ], dtype=float32),\n",
              "  'Negative'),\n",
              " ('Как\\xa0театрально-музейный комплекс вписали в\\xa0тело Владивостока',\n",
              "  array([-0.10137966, -2.3391442 ], dtype=float32),\n",
              "  'Negative'),\n",
              " ('Включение эмиссионных ценных бумаг эмитента в список ценных бумаг, допущенных к торгам российским организатором торговли: Общество с ограниченной ответственностью «ДОМ.РФ Ипотечный агент»',\n",
              "  array([-0.11146623, -2.2492487 ], dtype=float32),\n",
              "  'Negative'),\n",
              " ('За высокое качество',\n",
              "  array([-0.06637955, -2.7453728 ], dtype=float32),\n",
              "  'Negative'),\n",
              " ('2019: Завершение модернизации системы обеспечения информационной безопасности',\n",
              "  array([-0.09342579, -2.4169376 ], dtype=float32),\n",
              "  'Negative'),\n",
              " ('В Бурятии трехлетней девочке, забытой в сугробе, не грозит ампутация',\n",
              "  array([-0.07275575, -2.6568043 ], dtype=float32),\n",
              "  'Negative'),\n",
              " ('Заявление ФБР о приложении FaceApp раскрывает схему работы властей США - эксперт',\n",
              "  array([-0.1130451, -2.2359586], dtype=float32),\n",
              "  'Negative'),\n",
              " ('В Еврейской АО живут трудоголики, при этом мало зарабатывают',\n",
              "  array([-0.07431611, -2.6363554 ], dtype=float32),\n",
              "  'Negative'),\n",
              " ('Инспекторы ПДН\\xa0рассказывают астраханским школьникам о\\xa0вреде никотиновых смесей',\n",
              "  array([-0.09270415, -2.4243362 ], dtype=float32),\n",
              "  'Negative'),\n",
              " ('«Группа Агроком» готова простить «Ростову» часть долга',\n",
              "  array([-0.11764443, -2.1983342 ], dtype=float32),\n",
              "  'Negative'),\n",
              " ('Проект «День онкологической безопасности» будет продолжен в 2020 году',\n",
              "  array([-0.11004953, -2.2613444 ], dtype=float32),\n",
              "  'Negative'),\n",
              " ('Компания \"Балтика\" поделилась передовыми решениями в сфере логистики на форуме',\n",
              "  array([-0.11972823, -2.1817977 ], dtype=float32),\n",
              "  'Negative'),\n",
              " ('В Москве задержали \"современного Раскольникова\": Мужчина взялся за топор из-за квартиры',\n",
              "  array([-0.12163682, -2.1669176 ], dtype=float32),\n",
              "  'Negative'),\n",
              " ('Минэкологии края сообщает о многократном превышении загрязнения рек золотодобывающей компанией',\n",
              "  array([-0.08891764, -2.464174  ], dtype=float32),\n",
              "  'Negative'),\n",
              " ('Захарова прокомментировала слова Зеленского о «потерявшихся» жителях ДНР',\n",
              "  array([-0.10021661, -2.3501108 ], dtype=float32),\n",
              "  'Negative'),\n",
              " ('Госкорпорация «Росатом» станет совладельцем группы «Дело» Шишкарева',\n",
              "  array([-0.10486402, -2.3070645 ], dtype=float32),\n",
              "  'Negative'),\n",
              " ('Гимнастка покорила Сеть эффектным прыжком в воду',\n",
              "  array([-0.08086033, -2.5551894 ], dtype=float32),\n",
              "  'Negative'),\n",
              " ('ПОДРОБНОСТИ. Теперь ближе...',\n",
              "  array([-0.08949139, -2.4580247 ], dtype=float32),\n",
              "  'Negative'),\n",
              " ('ВМС США могут получить подлодки с аналогом \"Авангарда\"',\n",
              "  array([-0.10387018, -2.3160992 ], dtype=float32),\n",
              "  'Negative'),\n",
              " ('Бесперебойное питание сегодня: инженер компании Schneider Electric прочитал лекции студентам МТУСИ',\n",
              "  array([-0.10425123, -2.3126242 ], dtype=float32),\n",
              "  'Negative'),\n",
              " ('ООО \"Газпром трансгаз Саратов\" поддержало Всероссийские соревнования по ММА',\n",
              "  array([-0.14867224, -1.9794265 ], dtype=float32),\n",
              "  'Negative'),\n",
              " ('Организатор финансовых пирамид в Хакасии осужден на семь лет',\n",
              "  array([-0.11837753, -2.1924813 ], dtype=float32),\n",
              "  'Negative'),\n",
              " ('Новосибирск: события 3 декабря',\n",
              "  array([-0.0922379, -2.4291487], dtype=float32),\n",
              "  'Negative'),\n",
              " ('Строящийся промышленный парк «Черняховск» обеспечили стабильным энергоснабжением',\n",
              "  array([-0.11139307, -2.2498698 ], dtype=float32),\n",
              "  'Negative'),\n",
              " ('Почти полмиллиона детей пострадали из-за конфликта на Донбассе',\n",
              "  array([-0.08683852, -2.4868097 ], dtype=float32),\n",
              "  'Negative'),\n",
              " ('\"Нефтяная революция\" Америки подошла к финалу: Bloomberg заявил об ошибке ОПЕК',\n",
              "  array([-0.10087305, -2.3439052 ], dtype=float32),\n",
              "  'Negative'),\n",
              " ('«Дух Америки» показала Меланья Трамп в новогоднем украшении Белого дома',\n",
              "  array([-0.08810749, -2.4729276 ], dtype=float32),\n",
              "  'Negative'),\n",
              " ('Выпускники Сахалина пройдут испытание творчеством',\n",
              "  array([-0.08461487, -2.511654  ], dtype=float32),\n",
              "  'Negative'),\n",
              " ('В ОПЕК предсказали конец \"золотого века\" сланцевой нефти в США',\n",
              "  array([-0.09326334, -2.4185975 ], dtype=float32),\n",
              "  'Negative'),\n",
              " ('Водители Южно-Уральского ПМЭС стали лучшими на соревнованиях профессионального мастерства филиала ФСК ЕЭС - МЭС Урала.',\n",
              "  array([-0.15532318, -1.9389036 ], dtype=float32),\n",
              "  'Negative'),\n",
              " ('Трамп остался доволен докладом по \"липовому импичменту\"',\n",
              "  array([-0.0798835, -2.5668616], dtype=float32),\n",
              "  'Negative'),\n",
              " ('В Москве состоится торжественная церемония презентации основных событий и мероприятий «Года Памяти и Славы»',\n",
              "  array([-0.08774983, -2.4768193 ], dtype=float32),\n",
              "  'Negative'),\n",
              " ('В атмосфере нетерпимости',\n",
              "  array([-0.05748615, -2.8848157 ], dtype=float32),\n",
              "  'Negative'),\n",
              " ('МИД Кубы назвал ложью заявления США о влиянии Гаваны на протесты в Латинской Америке',\n",
              "  array([-0.0908589, -2.4435332], dtype=float32),\n",
              "  'Negative'),\n",
              " ('В Петербурге 220 спасателей тушат мощный пожар в ангаре',\n",
              "  array([-0.07964455, -2.569739  ], dtype=float32),\n",
              "  'Negative'),\n",
              " ('Посол РФ в Монголии: Транзит по Улан-Баторской ЖД продолжает расти',\n",
              "  array([-0.10062741, -2.3462229 ], dtype=float32),\n",
              "  'Negative'),\n",
              " ('Современный маркетинг: расчет на ленивых клиентов',\n",
              "  array([-0.06977449, -2.6971714 ], dtype=float32),\n",
              "  'Negative'),\n",
              " ('Забег по скандинавской ходьбе',\n",
              "  array([-0.09024291, -2.4500327 ], dtype=float32),\n",
              "  'Negative'),\n",
              " ('При крупном пожаре в ангаре в Петербурге никто не пострадал – МЧС',\n",
              "  array([-0.08582748, -2.4980235 ], dtype=float32),\n",
              "  'Negative'),\n",
              " ('ЛНА потребовала от СБ ООН повлиять на вмешательство Турции в дела Ливии',\n",
              "  array([-0.08281508, -2.5322676 ], dtype=float32),\n",
              "  'Negative'),\n",
              " ('В Кунгуре прошёл студенческий конкурс талантов «Новая волна-2019»',\n",
              "  array([-0.11795871, -2.1958206 ], dtype=float32),\n",
              "  'Negative'),\n",
              " ('Молодые ученые укрепляют продовольственную безопасность России',\n",
              "  array([-0.06971734, -2.6979618 ], dtype=float32),\n",
              "  'Negative'),\n",
              " ('Новый хирургический корпус открылся в Красноярске',\n",
              "  array([-0.1318515, -2.0912807], dtype=float32),\n",
              "  'Negative'),\n",
              " ('Архангельский филиал СОГАЗ-Мед провел информационную встречу для будущих мам',\n",
              "  array([-0.12919566, -2.1103294 ], dtype=float32),\n",
              "  'Negative'),\n",
              " ('На НТВ стартовали съемки военного сериала «Алеша»',\n",
              "  array([-0.12017252, -2.1783113 ], dtype=float32),\n",
              "  'Negative'),\n",
              " ('Дело обвиняемого в сбыте наркотиков экс-полицейского в Челябинске направлено в суд',\n",
              "  array([-0.11148734, -2.2490697 ], dtype=float32),\n",
              "  'Negative'),\n",
              " ('2,5 часа в прямом эфире. Губернатор Дмитрий Артюхов ответил на вопросы ямальцев',\n",
              "  array([-0.10120072, -2.3408234 ], dtype=float32),\n",
              "  'Negative'),\n",
              " ('В Сосновке открылся 3D-кинотеатр',\n",
              "  array([-0.14271137, -2.0174384 ], dtype=float32),\n",
              "  'Negative'),\n",
              " ('«Газпром Арена». Гашение марочного блока',\n",
              "  array([-0.13206452, -2.08977   ], dtype=float32),\n",
              "  'Negative'),\n",
              " ('И вновь \"герои\" майдана',\n",
              "  array([-0.08538352, -2.50299   ], dtype=float32),\n",
              "  'Negative'),\n",
              " ('В пяти регионах России раскрыли группировку наркоторговцев',\n",
              "  array([-0.09180603, -2.433629  ], dtype=float32),\n",
              "  'Negative'),\n",
              " ('В Калининградской области дожди смывают соль и песок с дорог, но дорожные службы продолжают их сыпать',\n",
              "  array([-0.09601437, -2.3908806 ], dtype=float32),\n",
              "  'Negative'),\n",
              " ('Студенты Алтайского института культуры приняли участие в международном танцевальном конкурсе в г. Пекине',\n",
              "  array([-0.11740754, -2.2002332 ], dtype=float32),\n",
              "  'Negative'),\n",
              " ('Кемеровской ёлкой заинтересовался антикоррупционный комитет и отставки в областной администрации: топ новостей за 2 декабря',\n",
              "  array([-0.10130446, -2.3398492 ], dtype=float32),\n",
              "  'Negative'),\n",
              " ('Сотрудничать, а не бояться',\n",
              "  array([-0.06741612, -2.7303903 ], dtype=float32),\n",
              "  'Negative'),\n",
              " ('Бесплодной жительнице Сибири дали возможность родить врачи Красноярска',\n",
              "  array([-0.08670987, -2.488229  ], dtype=float32),\n",
              "  'Negative'),\n",
              " ('В АлтГУ стартует турслет молодежи и студентов «Яркая Зима Алтая»',\n",
              "  array([-0.11433167, -2.2252727 ], dtype=float32),\n",
              "  'Negative'),\n",
              " ('«МФЦ 2.0: от идеи к реализации»',\n",
              "  array([-0.10737213, -2.28466   ], dtype=float32),\n",
              "  'Negative'),\n",
              " ('В Минздраве рассказали о состоянии пострадавших при крушении моста в Оренбурге',\n",
              "  array([-0.10246345, -2.3290436 ], dtype=float32),\n",
              "  'Negative'),\n",
              " ('Василий Орлов и Алексей Миллер обсудили программу газификации региона',\n",
              "  array([-0.10240921, -2.3295467 ], dtype=float32),\n",
              "  'Negative'),\n",
              " ('Назван виновник катастрофы SSJ-100 в Шереметьево',\n",
              "  array([-0.12399396, -2.1488783 ], dtype=float32),\n",
              "  'Negative'),\n",
              " ('На Кубани задержали подозреваемого в насилии над найденной в выгребной яме девочкой',\n",
              "  array([-0.10724181, -2.2858105 ], dtype=float32),\n",
              "  'Negative'),\n",
              " ('В Улан-Удэ прибыл министр внутренних дел России',\n",
              "  array([-0.11062719, -2.2563932 ], dtype=float32),\n",
              "  'Negative'),\n",
              " ('«Сафмар» тянет газ на себя // Группа добивается снижения цены для своего проекта в Белоруссии',\n",
              "  array([-0.10156448, -2.337414  ], dtype=float32),\n",
              "  'Negative'),\n",
              " ('Утверждено обвинительное заключение по уголовному делу в отношении начальника уголовного розыска Приморья Андрея Миляева.',\n",
              "  array([-0.07694253, -2.6029215 ], dtype=float32),\n",
              "  'Negative'),\n",
              " ('Александр Васильев проводит работу по обращению граждан',\n",
              "  array([-0.09368341, -2.4143097 ], dtype=float32),\n",
              "  'Negative'),\n",
              " ('«Силу Сибири» подключили к энергоснабжению',\n",
              "  array([-0.08133432, -2.5495791 ], dtype=float32),\n",
              "  'Negative'),\n",
              " ('Второй человек, пробывший в австралийской пустыне почти две недели, найден живым - ТВ',\n",
              "  array([-0.07872889, -2.5808506 ], dtype=float32),\n",
              "  'Negative'),\n",
              " ('Все заболевшие после вспышки инфекции в биробиджанском лицее дети выписаны из больниц',\n",
              "  array([-0.07510831, -2.626143  ], dtype=float32),\n",
              "  'Negative'),\n",
              " ('В Хабаровском крае установили предельный рост коммунальных платежей — не более 4%',\n",
              "  array([-0.09387053, -2.4124064 ], dtype=float32),\n",
              "  'Negative'),\n",
              " ('Конкурс проектов по информационной безопасности для образовательных организаций УР в рамках проекта «ИТ-вектор образования»',\n",
              "  array([-0.11900331, -2.1875153 ], dtype=float32),\n",
              "  'Negative'),\n",
              " ('Прокуратура в судебном порядке потребовала обеспечить инвалида 1 группы необходимым лекарственным препаратом',\n",
              "  array([-0.06758873, -2.7279186 ], dtype=float32),\n",
              "  'Negative'),\n",
              " ('Завершено расследование по делу о крушении Superjet в «Шереметьево» - СМИ',\n",
              "  array([-0.12219705, -2.1625967 ], dtype=float32),\n",
              "  'Negative'),\n",
              " ('Информация о корпоративных действиях, полученная Депозитарием',\n",
              "  array([-0.07033154, -2.6894946 ], dtype=float32),\n",
              "  'Negative'),\n",
              " ('Выводим на чистую воду',\n",
              "  array([-0.06859144, -2.7136872 ], dtype=float32),\n",
              "  'Negative'),\n",
              " ('В Улан-Удэ восьмиклассник украл барсетку из машины',\n",
              "  array([-0.11544773, -2.2161062 ], dtype=float32),\n",
              "  'Negative'),\n",
              " ('Мэрия Великого Новгорода ответила через «Вечевой колокол», почему нельзя отремонтировать 150 метров дороги',\n",
              "  array([-0.10666027, -2.2909632 ], dtype=float32),\n",
              "  'Negative'),\n",
              " ('Виновник \"гейзеров\" из сточных вод на Волге у Нижнего Новгорода оштрафован на 150 тыс руб',\n",
              "  array([-0.12654725, -2.129746  ], dtype=float32),\n",
              "  'Negative'),\n",
              " ('За псевдо-расследование о Костине Навальному перечислили почти 5 млн рублей',\n",
              "  array([-0.09893193, -2.3623812 ], dtype=float32),\n",
              "  'Negative'),\n",
              " ('\"Они придут на нашу поляну и съедят нас\". Кого боится Герман Греф',\n",
              "  array([-0.08505347, -2.506701  ], dtype=float32),\n",
              "  'Negative'),\n",
              " ('Разумков объявил о выходе Скороход и Полякова из фракции \"Слуга народа\"',\n",
              "  array([-0.12149251, -2.1680338 ], dtype=float32),\n",
              "  'Negative'),\n",
              " ('Очередное расширенное оперативное совещание прошло в администрации округа 2 декабря',\n",
              "  array([-0.11308417, -2.2356317 ], dtype=float32),\n",
              "  'Negative'),\n",
              " ('«Хитон-Пласт 2» получит господдержу по проекту создания автокомпонентов',\n",
              "  array([-0.146772, -1.991364], dtype=float32),\n",
              "  'Negative'),\n",
              " ('ФБР увидело «угрозу» в российских приложениях для смартфонов',\n",
              "  array([-0.08372097, -2.5218346 ], dtype=float32),\n",
              "  'Negative'),\n",
              " ('\"Государство потеряло людей\": Захарова призвала Зеленского гарантировать права жителям Донбасса',\n",
              "  array([-0.09397514, -2.4113448 ], dtype=float32),\n",
              "  'Negative'),\n",
              " ('В ОПЕК предрекли завершение «золотого века» добычи сланцевой нефти США',\n",
              "  array([-0.09689605, -2.3821735 ], dtype=float32),\n",
              "  'Negative'),\n",
              " ('Ирина Кожанова выбрала победителей деловой игры \"Мой выбор 2019\"',\n",
              "  array([-0.12872915, -2.1137183 ], dtype=float32),\n",
              "  'Negative'),\n",
              " ('СК назвал насилие над сестрами Хачатурян смягчающим обстоятельством',\n",
              "  array([-0.08893946, -2.46394   ], dtype=float32),\n",
              "  'Negative'),\n",
              " ('Детский хоспис «Дом с маяком» получил грант из бюджета Москвы',\n",
              "  array([-0.11314571, -2.2351184 ], dtype=float32),\n",
              "  'Negative'),\n",
              " ('Депутат — правительству: Признайте, что не смогли выполнить работу по внедрению суда присяжных заседателей',\n",
              "  array([-0.07151719, -2.6733634 ], dtype=float32),\n",
              "  'Negative'),\n",
              " ('Глава «Молдовагаз» объяснил, что такое реверс газа для Молдовы',\n",
              "  array([-0.10323142, -2.3219543 ], dtype=float32),\n",
              "  'Negative'),\n",
              " ('Глава Приморья оказался успешным блогером',\n",
              "  array([-0.08495251, -2.507839  ], dtype=float32),\n",
              "  'Negative'),\n",
              " ('Посвящение первокурсников ИУАТ',\n",
              "  array([-0.11768565, -2.1980035 ], dtype=float32),\n",
              "  'Negative'),\n",
              " ('К 2025 году 25% ювелирных украшений будут продаваться онлайн',\n",
              "  array([-0.0771604, -2.600201 ], dtype=float32),\n",
              "  'Negative'),\n",
              " ('Еда приходит одна: половина россиян питается неправильно',\n",
              "  array([-0.0645787, -2.7719867], dtype=float32),\n",
              "  'Negative'),\n",
              " ('Фондовые торги в России открылись в минусе',\n",
              "  array([-0.11300869, -2.236263  ], dtype=float32),\n",
              "  'Negative'),\n",
              " ('Капитальные вложения',\n",
              "  array([-0.06733645, -2.7315335 ], dtype=float32),\n",
              "  'Negative'),\n",
              " ('Активист Майдана пожаловался на отношение к нему жителей Германии',\n",
              "  array([-0.10307464, -2.3233962 ], dtype=float32),\n",
              "  'Negative'),\n",
              " ('Завод \"Электрокабель\" получил сертификат на кабели для гермозоны атомных станций.',\n",
              "  array([-0.12230287, -2.1617832 ], dtype=float32),\n",
              "  'Negative'),\n",
              " ('Нас накрывает генетический шторм - об опасностях в современных цивилизационных тенденциях (Видео)',\n",
              "  array([-0.07919552, -2.5751715 ], dtype=float32),\n",
              "  'Negative'),\n",
              " ('«Танки Соммера». История русского немца, ставшего Героем Советского Союза',\n",
              "  array([-0.10191572, -2.3341346 ], dtype=float32),\n",
              "  'Negative'),\n",
              " ('Муки выбора: почему Таджикистан не спешит вступить в ЕАЭС и чем это грозит',\n",
              "  array([-0.08115177, -2.5517356 ], dtype=float32),\n",
              "  'Negative'),\n",
              " ('Фильтруем шум',\n",
              "  array([-0.07711516, -2.6007645 ], dtype=float32),\n",
              "  'Negative'),\n",
              " ('Аэропорт \"Шереметьево\" проверят после сообщения о минировании',\n",
              "  array([-0.10900173, -2.2703972 ], dtype=float32),\n",
              "  'Negative'),\n",
              " ('Трамваи «Лев» и «Львенок» поступят в Пермь до конца года',\n",
              "  array([-0.11884688, -2.1887546 ], dtype=float32),\n",
              "  'Negative'),\n",
              " ('Владислав Пинаев встретился с коллективом НТИИМ',\n",
              "  array([-0.13551518, -2.0656643 ], dtype=float32),\n",
              "  'Negative'),\n",
              " ('В Мексике за один день убили 127 человек',\n",
              "  array([-0.07545139, -2.6217546 ], dtype=float32),\n",
              "  'Negative'),\n",
              " ('Тренировки - залог победы. Кубок главы Ревды по дартсу завоевали заводчане',\n",
              "  array([-0.0914559, -2.4372783], dtype=float32),\n",
              "  'Negative'),\n",
              " ('Подрыв патрулю не помеха',\n",
              "  array([-0.07709926, -2.600964  ], dtype=float32),\n",
              "  'Negative'),\n",
              " ('«Мы идём по пути объединения». Муниципальное «Тагил-ТВ» возглавила директор «Телекона» Ирина Пудовкина',\n",
              "  array([-0.12126382, -2.169806  ], dtype=float32),\n",
              "  'Negative'),\n",
              " ('Борис Чухлов: Джикия и Жиго бились, но Дзюба их переиграл',\n",
              "  array([-0.09621546, -2.3888872 ], dtype=float32),\n",
              "  'Negative'),\n",
              " ('Крупные суммы отправили мошенникам жители Абакана',\n",
              "  array([-0.07774347, -2.59296   ], dtype=float32),\n",
              "  'Negative'),\n",
              " ('Новогодние праздники с дополненной реальностью пообещали ставропольцам',\n",
              "  array([-0.07173957, -2.6703682 ], dtype=float32),\n",
              "  'Negative'),\n",
              " ('Знаменитый маяк во\\xa0Владивостоке предлагают оградить от\\xa0туристов и\\xa0вандалов',\n",
              "  array([-0.11879808, -2.1891413 ], dtype=float32),\n",
              "  'Negative'),\n",
              " ('Выручка ТАНТК ИМ. Г. М. Бериева за 9 месяцев сократилась в 1,3 раза',\n",
              "  array([-0.108355 , -2.2760313], dtype=float32),\n",
              "  'Negative'),\n",
              " ('Москва придумала способ легализации неисполнения соглашения ОПЕК+',\n",
              "  array([-0.08095862, -2.554023  ], dtype=float32),\n",
              "  'Negative'),\n",
              " ('Аэропорт Кургана согласовал «ЮТэйр» слоты в\\xa0Сургут и\\xa0Ханты-Мансийск',\n",
              "  array([-0.14003564, -2.0350592 ], dtype=float32),\n",
              "  'Negative'),\n",
              " ('На юге Петербурга в декабре откроется первый оптовый магазин «Магнит»',\n",
              "  array([-0.11415228, -2.2267554 ], dtype=float32),\n",
              "  'Negative'),\n",
              " ('Эксперты от Краслесинвеста',\n",
              "  array([-0.13837865, -2.0461533 ], dtype=float32),\n",
              "  'Negative'),\n",
              " ('Коммерсантъ Граждане гарантируют. Пенсионным фондам нашли источник компенсации расходов',\n",
              "  array([-0.08979765, -2.454759  ], dtype=float32),\n",
              "  'Negative'),\n",
              " ('Ракету с \"Прогресс МС-13\" установили на стартовом столе Байконура',\n",
              "  array([-0.14232619, -2.0199525 ], dtype=float32),\n",
              "  'Negative'),\n",
              " ('Нетерпимость к коррупции',\n",
              "  array([-0.0660262, -2.7505348], dtype=float32),\n",
              "  'Negative'),\n",
              " ('Безграмотная мошенница обманывала хабаровских пенсионеров',\n",
              "  array([-0.07206485, -2.6660056 ], dtype=float32),\n",
              "  'Negative'),\n",
              " ('Финский премьер собрался уйти в отставку после скандала вокруг забастовки почты',\n",
              "  array([-0.10341665, -2.3202522 ], dtype=float32),\n",
              "  'Negative'),\n",
              " ('Арбитраж купит у \"Элвиса\" черную иномарку по максимальной цене',\n",
              "  array([-0.09465206, -2.4045005 ], dtype=float32),\n",
              "  'Negative'),\n",
              " ('Информационная встреча',\n",
              "  array([-0.0836383, -2.522781 ], dtype=float32),\n",
              "  'Negative'),\n",
              " ('Кулеба объяснил, почему Зеленского не пригласили на саммит НАТО',\n",
              "  array([-0.08611888, -2.4947777 ], dtype=float32),\n",
              "  'Negative'),\n",
              " ('Дождик в декабре. Кому надо опасаться аномально теплой зимы?',\n",
              "  array([-0.07141875, -2.6746912 ], dtype=float32),\n",
              "  'Negative'),\n",
              " ('Суд Петербурга 17 декабря вновь изучит спор об исполнительных листах по долгам Кехмана',\n",
              "  array([-0.09976012, -2.3544517 ], dtype=float32),\n",
              "  'Negative'),\n",
              " ('nan', array([-0.09373985, -2.413736  ], dtype=float32), 'Negative'),\n",
              " ('Министерство здравоохранения Башкирии не поддержало планы московского ООО \"ПремиумСтрой-Инвест\" по строительству в Уфе современного реабилитационного центра',\n",
              "  array([-0.14912862, -1.9765842 ], dtype=float32),\n",
              "  'Negative'),\n",
              " ('С начала года в Башкирии жертвами аварий стали 422 человека',\n",
              "  array([-0.09115527, -2.440423  ], dtype=float32),\n",
              "  'Negative'),\n",
              " ('До аэропорта Челябинска запустят скоростные поезда',\n",
              "  array([-0.09929198, -2.3589256 ], dtype=float32),\n",
              "  'Negative'),\n",
              " ('\"Променял страну на пиццу\": Пользователи припомнили \"обиженному\" на СМИ Горбачёву предательство России',\n",
              "  array([-0.10190571, -2.334228  ], dtype=float32),\n",
              "  'Negative'),\n",
              " ('Старт ракеты “Рокот” со спутниками “Гонец-М” запланирован на 26 декабря',\n",
              "  array([-0.09365323, -2.4146173 ], dtype=float32),\n",
              "  'Negative'),\n",
              " ('Американцы пошли ва-банк: «Северный поток-2» остановят к Рождеству - «Политика»',\n",
              "  array([-0.09531768, -2.3978198 ], dtype=float32),\n",
              "  'Negative'),\n",
              " ('В Перми более ста рыбаков вышли на опасный лед у Камской ГЭС',\n",
              "  array([-0.11701578, -2.203384  ], dtype=float32),\n",
              "  'Negative'),\n",
              " ('Ставок больше нет? Почему ипотека дешевеет, но ее никто не берет',\n",
              "  array([-0.06926084, -2.7043066 ], dtype=float32),\n",
              "  'Negative'),\n",
              " ('В Курской области долгострой достраивают, но проблемы пока остаются',\n",
              "  array([-0.07889812, -2.5787876 ], dtype=float32),\n",
              "  'Negative'),\n",
              " ('Изменен порядок ввода в гражданский оборот лекарственных препаратов для медицинского применения',\n",
              "  array([-0.0898226, -2.4544938], dtype=float32),\n",
              "  'Negative'),\n",
              " ('Россети запустили первую систему накопления электроэнергии в Центральном федеральном округе',\n",
              "  array([-0.12147636, -2.1681592 ], dtype=float32),\n",
              "  'Negative'),\n",
              " ('Роман Кузнецов стал серебряным призером чемпионата Европы по тхэквондо',\n",
              "  array([-0.11502609, -2.219558  ], dtype=float32),\n",
              "  'Negative'),\n",
              " ('nan', array([-0.09891929, -2.362503  ], dtype=float32), 'Negative'),\n",
              " ('Через голодовки и... самосуд',\n",
              "  array([-0.07452592, -2.6336398 ], dtype=float32),\n",
              "  'Negative'),\n",
              " ('В декабре \"Глобус\" запускает новую бонусную программу',\n",
              "  array([-0.11405794, -2.2275357 ], dtype=float32),\n",
              "  'Negative'),\n",
              " ('3 декабря: три праздника в Украине, день ангела, календарь, приметы',\n",
              "  array([-0.07402012, -2.6401992 ], dtype=float32),\n",
              "  'Negative'),\n",
              " ('Антитеррористический центр СНГ собрал 4 тыс. фото обвиняемых в терроризме',\n",
              "  array([-0.09747205, -2.37653   ], dtype=float32),\n",
              "  'Negative'),\n",
              " ('Вместе расти и развиваться',\n",
              "  array([-0.05800352, -2.876113  ], dtype=float32),\n",
              "  'Negative'),\n",
              " ('Доступную информацию о землетрясениях предоставляет жителям Сахалина номинант премии «Звезда Дальнего Востока»',\n",
              "  array([-0.10599336, -2.296907  ], dtype=float32),\n",
              "  'Negative'),\n",
              " ('Надпись на поле вблизи Митино видна со спутника',\n",
              "  array([-0.0909168, -2.4429245], dtype=float32),\n",
              "  'Negative'),\n",
              " ('Под влияние снежного циклона попадут ещё несколько районов Камчатки',\n",
              "  array([-0.09533577, -2.3976388 ], dtype=float32),\n",
              "  'Negative'),\n",
              " ('Удача и лотерейный билет',\n",
              "  array([-0.08797442, -2.4743743 ], dtype=float32),\n",
              "  'Negative'),\n",
              " ('В Ереване облили краской памятник Грибоедову',\n",
              "  array([-0.10033232, -2.3490143 ], dtype=float32),\n",
              "  'Negative'),\n",
              " ('Татарстан получил отсрочку по выплате долга перед федеральным центром',\n",
              "  array([-0.08293611, -2.5308666 ], dtype=float32),\n",
              "  'Negative'),\n",
              " ('Акции протеста с точки зрения юриста: милосердие вне закона',\n",
              "  array([-0.06352542, -2.7879093 ], dtype=float32),\n",
              "  'Negative'),\n",
              " ('США\\xa0пока не\\xa0смогли погасить задолженность перед ООН',\n",
              "  array([-0.07268703, -2.6577148 ], dtype=float32),\n",
              "  'Negative'),\n",
              " ('Энергоблок №6 Нововоронежской АЭС отключен от сети для проведения ремонтных работ',\n",
              "  array([-0.14306045, -2.0151653 ], dtype=float32),\n",
              "  'Negative'),\n",
              " ('«Ростелеком» дарит месяц подписки на популярные фильмы и сериалы в Wink',\n",
              "  array([-0.12298597, -2.1565483 ], dtype=float32),\n",
              "  'Negative'),\n",
              " ('LX Всероссийская Образовательная Интернет Сессия для врачей',\n",
              "  array([-0.09951659, -2.356777  ], dtype=float32),\n",
              "  'Negative'),\n",
              " ('Уважаемые юристы! Поздравляем Вас с профессиональным праздником!',\n",
              "  array([-0.06970689, -2.6981065 ], dtype=float32),\n",
              "  'Negative'),\n",
              " ('Итоги: эксперты назвали пятнадцать главных событий 2019 года',\n",
              "  array([-0.15108189, -1.9645231 ], dtype=float32),\n",
              "  'Negative'),\n",
              " ('Морское сообщение между Сахалином и материком нарушено из-за циклона в Татарском проливе',\n",
              "  array([-0.11208931, -2.2439806 ], dtype=float32),\n",
              "  'Negative'),\n",
              " ('Индексы РТС и Мосбиржи по итогам дня снизились на 0,39-0,48%',\n",
              "  array([-0.09320101, -2.4192352 ], dtype=float32),\n",
              "  'Negative'),\n",
              " ('\"Иволга\" подросла',\n",
              "  array([-0.0916827, -2.4349122], dtype=float32),\n",
              "  'Negative'),\n",
              " ('Новым ректором БГУ может стать Ендон Гармаев',\n",
              "  array([-0.12456267, -2.1445813 ], dtype=float32),\n",
              "  'Negative'),\n",
              " ('Следствие назвало виновника катастрофы SSJ 100 в Шереметьево',\n",
              "  array([-0.11366285, -2.2308116 ], dtype=float32),\n",
              "  'Negative'),\n",
              " ('В бюджет Рязанской области поступили дополнительные 762 миллиона рублей',\n",
              "  array([-0.1029001, -2.325005 ], dtype=float32),\n",
              "  'Negative'),\n",
              " ('Экс-президент США Джимми Картер вновь попал в больницу',\n",
              "  array([-0.10163211, -2.3367817 ], dtype=float32),\n",
              "  'Negative'),\n",
              " ('Мэрия Великого Новгорода ответила через «Вечевой колокол», почему нельзя отремонтировать 150 метров дороги',\n",
              "  array([-0.10060778, -2.3464074 ], dtype=float32),\n",
              "  'Negative'),\n",
              " ('Межрайонная ИФНС России № 3 по РХ напоминает о необходимости своевременной уплаты страховых взносов.',\n",
              "  array([-0.10167077, -2.33642   ], dtype=float32),\n",
              "  'Negative'),\n",
              " ('Глава города Заречного Олег Климанов поздравил юристов и ветеранов юридической службы с профессиональным праздником',\n",
              "  array([-0.12276383, -2.1582468 ], dtype=float32),\n",
              "  'Negative'),\n",
              " ('Более двух тысяч камышан проголосовали за общественную территорию для благоустройства',\n",
              "  array([-0.08839944, -2.4697633 ], dtype=float32),\n",
              "  'Negative'),\n",
              " ('В\\xa0Кирове выяснили причину плохой уборки города от\\xa0снега',\n",
              "  array([-0.08130751, -2.5498953 ], dtype=float32),\n",
              "  'Negative'),\n",
              " ('Жителя Хабаровска остановили за превышение скорости, а он оказался вором',\n",
              "  array([-0.07469232, -2.6314912 ], dtype=float32),\n",
              "  'Negative'),\n",
              " ('Пешеход вышел на дорогу и попал под колеса КамАЗа под Салехардом',\n",
              "  array([-0.09556083, -2.3953927 ], dtype=float32),\n",
              "  'Negative'),\n",
              " ('Российские мобильные приложения признали угрозой для США',\n",
              "  array([-0.08182225, -2.5438378 ], dtype=float32),\n",
              "  'Negative'),\n",
              " ('3 декабря экскурсии на производство ООО «КНАУКФ ГИПС» и ООО «Новый дом» в Красногорске',\n",
              "  array([-0.20591113, -1.6815003 ], dtype=float32),\n",
              "  'Negative'),\n",
              " ('Посол РФ в Монголии: Товарооборот растет, в этом году уже на 13%',\n",
              "  array([-0.09722428, -2.3789525 ], dtype=float32),\n",
              "  'Negative'),\n",
              " ('На Дону стоимость земельного сертификата установлена выше среднероссийской',\n",
              "  array([-0.09218975, -2.429647  ], dtype=float32),\n",
              "  'Negative'),\n",
              " ('В ОПЭК считают, что \"золотой век\" сланцевой нефти США проходит',\n",
              "  array([-0.09899035, -2.3618202 ], dtype=float32),\n",
              "  'Negative'),\n",
              " ('Началось строительство нового корпуса авиатехникума',\n",
              "  array([-0.11730195, -2.2010813 ], dtype=float32),\n",
              "  'Negative'),\n",
              " ('Из-за контрабанды в I полугодии нефтетрейдеры не будут покупать оставшиеся в индикативном балансе 60 тыс. тонн бензина, - Ассоциация нефтетрейдеров',\n",
              "  array([-0.112576 , -2.2398868], dtype=float32),\n",
              "  'Negative'),\n",
              " ('Танкам предложили защиту',\n",
              "  array([-0.07803769, -2.5893292 ], dtype=float32),\n",
              "  'Negative'),\n",
              " ('Рада у вівторок планує ухвалити законопроєкт про ДБР',\n",
              "  array([-0.094514 , -2.4058926], dtype=float32),\n",
              "  'Negative'),\n",
              " ('Новый выпуск: Эмитент China State Construction International Holdings разместил еврооблигации (XS2084426514) на сумму USD 500.0 млн',\n",
              "  array([-0.13631207, -2.0601907 ], dtype=float32),\n",
              "  'Negative'),\n",
              " ('«Сафмар» тянет газ на себя // Группа добивается снижения цены для своего проекта в Белоруссии',\n",
              "  array([-0.09687701, -2.3823605 ], dtype=float32),\n",
              "  'Negative'),\n",
              " ('«Газпром» начал первые поставку газа по трубопроводу «Сила Сибири» в Китай armtorg.ru',\n",
              "  array([-0.1505375, -1.9678677], dtype=float32),\n",
              "  'Negative'),\n",
              " ('В ОПЕК предсказали конец «золотого века» добычи сланцевой нефти в США',\n",
              "  array([-0.1094474, -2.2665362], dtype=float32),\n",
              "  'Negative'),\n",
              " ('Многокилометровые пробки парализовали движение в Иркутске утром 3 декабря',\n",
              "  array([-0.09879511, -2.3636987 ], dtype=float32),\n",
              "  'Negative'),\n",
              " ('Palit выводит на рынок видеокарты GeForce GTX 1650 SUPER в исполнении mini-ITX',\n",
              "  array([-0.1268262, -2.127681 ], dtype=float32),\n",
              "  'Negative'),\n",
              " ('В Тюменской области стартует программа газификации на 7 млрд',\n",
              "  array([-0.10889237, -2.2713475 ], dtype=float32),\n",
              "  'Negative'),\n",
              " ('ФБК рассказал о самолете и яхте телеведущей Наили Аскер-заде - они стоят восемь миллиардов рублей',\n",
              "  array([-0.11527002, -2.2175593 ], dtype=float32),\n",
              "  'Negative'),\n",
              " ('Ученые выявили ряд осложнений при лазерном лечении варикоза',\n",
              "  array([-0.06728819, -2.7322252 ], dtype=float32),\n",
              "  'Negative'),\n",
              " ('Путин снова отложил выплату компенсаций по советским вкладам',\n",
              "  array([-0.08447366, -2.5132546 ], dtype=float32),\n",
              "  'Negative'),\n",
              " ('Гидрометцентр пообещал москвичам метель на этой неделе',\n",
              "  array([-0.07918021, -2.575358  ], dtype=float32),\n",
              "  'Negative'),\n",
              " ('Жизнь для детей',\n",
              "  array([-0.08337446, -2.5258102 ], dtype=float32),\n",
              "  'Negative'),\n",
              " ('Александр Траутвейн провел личный прием граждан в Косихинском районе',\n",
              "  array([-0.13986029, -2.0362263 ], dtype=float32),\n",
              "  'Negative'),\n",
              " ('В Заксобрание на экскурсию',\n",
              "  array([-0.1370862, -2.0549057], dtype=float32),\n",
              "  'Negative'),\n",
              " ('«Ведомости»: для помощи «Единой России» на выборы в Госдуму могут допустить больше малых партий',\n",
              "  array([-0.09599379, -2.391085  ], dtype=float32),\n",
              "  'Negative'),\n",
              " ('Якутия вошла в десятку регионов с самыми высокими зарплатами',\n",
              "  array([-0.08208826, -2.5407236 ], dtype=float32),\n",
              "  'Negative'),\n",
              " ('Ждут с лыжами и сноубордами',\n",
              "  array([-0.06369712, -2.7852948 ], dtype=float32),\n",
              "  'Negative'),\n",
              " ('Восторг «Нафтогаза» - уныния нет, ещё есть шпион и велосипед',\n",
              "  array([-0.09108823, -2.441125  ], dtype=float32),\n",
              "  'Negative'),\n",
              " ('Зрители подходили к Нине Дорошиной со словами: «Людк, а, Людк!»',\n",
              "  array([-0.08739882, -2.480654  ], dtype=float32),\n",
              "  'Negative'),\n",
              " ('Трое жителей Самары задержаны при перевозке 2 кг наркотиков',\n",
              "  array([-0.13611774, -2.0615222 ], dtype=float32),\n",
              "  'Negative'),\n",
              " ('Почти 70 жителей Воскресенского района оказались отрезанными от дороги из-за аномального паводка на Ветлуге',\n",
              "  array([-0.09592351, -2.3917823 ], dtype=float32),\n",
              "  'Negative'),\n",
              " ('Миронова поблагодарила за поддержку, актриса Ольга Лерман сыграет Вяльбе в биографическом фильме. Обзор соцсетей биатлонистов и лыжников',\n",
              "  array([-0.11847029, -2.1917431 ], dtype=float32),\n",
              "  'Negative'),\n",
              " ('Ожидается установка скрубберов на 36% танкеров VLCC до конца 2020 года',\n",
              "  array([-0.12379448, -2.1503913 ], dtype=float32),\n",
              "  'Negative'),\n",
              " ('Мордовский филиал СОГАЗ-Мед принял участие в акции «Коробка храбрости»',\n",
              "  array([-0.14585873, -1.9971598 ], dtype=float32),\n",
              "  'Negative'),\n",
              " ('Пензенский АО «Поручитель» заканчивает год с хорошими показателями',\n",
              "  array([-0.09796602, -2.3717175 ], dtype=float32),\n",
              "  'Negative'),\n",
              " ('Ущерб от крушения SSJ-100 в «Шереметьево» оценили в 1,5 млрд рублей',\n",
              "  array([-0.10662716, -2.2912571 ], dtype=float32),\n",
              "  'Negative'),\n",
              " ('\"Готовы глотать обиды?\": Немцы не постеснялись кулаками вбить правду воевавшему в Донбассе активисту Майдана',\n",
              "  array([-0.09252865, -2.4261448 ], dtype=float32),\n",
              "  'Negative'),\n",
              " ('Банкротство СЗПУ: предприятия ОПК смогут прикупить в Саратове оборудование, застройщики — землю у горпарка',\n",
              "  array([-0.11105186, -2.25277   ], dtype=float32),\n",
              "  'Negative'),\n",
              " ('Сотрудник брянской спецсвязи выстрелил в каждого из коллег по два раза',\n",
              "  array([-0.08471771, -2.5104904 ], dtype=float32),\n",
              "  'Negative'),\n",
              " ('«ОТЭК» решил не отапливать бомбоубежища',\n",
              "  array([-0.10048597, -2.3475592 ], dtype=float32),\n",
              "  'Negative'),\n",
              " ('Симферополь встал: зафиксирован «красный» уровень пробок',\n",
              "  array([-0.10395721, -2.3153043 ], dtype=float32),\n",
              "  'Negative'),\n",
              " ('Гуманитарный форум \"От знания к действию\" в РАН может стать регулярным - Чубарьян',\n",
              "  array([-0.12280295, -2.157947  ], dtype=float32),\n",
              "  'Negative'),\n",
              " ('Установлены личности недобросовестных покупателей в Абакане',\n",
              "  array([-0.08573294, -2.4990778 ], dtype=float32),\n",
              "  'Negative'),\n",
              " ('СИБУР открывает голосование за проекты грантового конкурса программы «Формула хороших дел» в Тобольске',\n",
              "  array([-0.13709067, -2.0548756 ], dtype=float32),\n",
              "  'Negative'),\n",
              " ('Следователи назвали виновного в крушении SSJ-100 в Шереметьево',\n",
              "  array([-0.11284844, -2.2376032 ], dtype=float32),\n",
              "  'Negative'),\n",
              " ('В Кирове наградили лучших юристов региона',\n",
              "  array([-0.111254 , -2.2510507], dtype=float32),\n",
              "  'Negative'),\n",
              " ('Трое детей погибли при падении автобуса с моста в Забайкалье, уточнили экстренные службы',\n",
              "  array([-0.08843709, -2.4693568 ], dtype=float32),\n",
              "  'Negative'),\n",
              " ('Новосибирец «в воспитательных целях» до смерти забил пятилетнюю падчерицу',\n",
              "  array([-0.07829368, -2.5861802 ], dtype=float32),\n",
              "  'Negative'),\n",
              " ('Назван единственный виновник в деле о сгоревшем SSJ100 в Шереметьеве - заявление СК',\n",
              "  array([-0.11675975, -2.205449  ], dtype=float32),\n",
              "  'Negative'),\n",
              " ('Мошенник, представившись \"сыном\", обманул жительницу Якутии',\n",
              "  array([-0.08612753, -2.4946804 ], dtype=float32),\n",
              "  'Negative'),\n",
              " ('Гражданская война остается темой для научных споров',\n",
              "  array([-0.07540563, -2.6223397 ], dtype=float32),\n",
              "  'Negative'),\n",
              " ('В Башкортостане могут наладить производство биоэтанола',\n",
              "  array([-0.09852962, -2.3662586 ], dtype=float32),\n",
              "  'Negative'),\n",
              " ('Ямальцам не удалось подняться на ступень пьедестала',\n",
              "  array([-0.07722132, -2.5994425 ], dtype=float32),\n",
              "  'Negative'),\n",
              " ('Старт ракеты «Рокот» со\\xa0спутниками «Гонец-М» запланирован на\\xa026\\xa0декабря',\n",
              "  array([-0.10871755, -2.2728686 ], dtype=float32),\n",
              "  'Negative'),\n",
              " ('АНОНСЫ', array([-0.10548791, -2.3014395 ], dtype=float32), 'Negative'),\n",
              " ('БЫКОВСКУЮ ЗАДЕРЖАЛИ «ЗА ГОРДОСТЬ ВЛАСТЕЙ». ПРОЕКТ ПО УТИЛИЗАЦИИ МЕДИЦИНСКИХОТХОДОВ, С ДЕЯТЕЛЬНОСТЬЮ КОТОРОГО СВЯЗЫВАЮТ ЗАДЕРЖАНИЕ МИНИСТРА ЗДРАВООХРАНЕНИЯ,ВХОДИЛ В СОТНЮ ГУБЕРНАТОРСКИХ ПРОЕКТОВ.',\n",
              "  array([-0.12662834, -2.129145  ], dtype=float32),\n",
              "  'Negative'),\n",
              " ('Суд арестовал около десяти миллионов рублей бывшего полпреда Ишаева',\n",
              "  array([-0.10192606, -2.334038  ], dtype=float32),\n",
              "  'Negative'),\n",
              " ('Возле екатеринбургского бара произошла поножовщина',\n",
              "  array([-0.08899999, -2.463289  ], dtype=float32),\n",
              "  'Negative'),\n",
              " ('Пенсионерка найдена мертвой в\\xa0кладовке в\\xa0центре Москвы',\n",
              "  array([-0.0922591, -2.4289286], dtype=float32),\n",
              "  'Negative'),\n",
              " ('В Енисейском экологическом форуме приняли участие депутаты Красноярского Горсовета',\n",
              "  array([-0.12757012, -2.1221964 ], dtype=float32),\n",
              "  'Negative'),\n",
              " ('Сенат США одобрил назначение Д. Бруйетта на пост министра энергетики',\n",
              "  array([-0.12426698, -2.1468134 ], dtype=float32),\n",
              "  'Negative'),\n",
              " ('Ярославец, пострадавший от взрыва газа имеет ожоги 90% тела',\n",
              "  array([-0.08151817, -2.5474114 ], dtype=float32),\n",
              "  'Negative'),\n",
              " ('Железнодорожники будут штрафовать нарушителей и ставить их на учет в полицию',\n",
              "  array([-0.0736636, -2.644853 ], dtype=float32),\n",
              "  'Negative'),\n",
              " ('Лекция о патриархе алтайского дизайна и художнике книги В.А. Раменском',\n",
              "  array([-0.10417508, -2.3133178 ], dtype=float32),\n",
              "  'Negative'),\n",
              " ('Летчик-Герой России объяснил, почему командир самолета виновен в крушении SSJ в Шереметьево',\n",
              "  array([-0.09424976, -2.4085617 ], dtype=float32),\n",
              "  'Negative'),\n",
              " ('Эрдоган: Россия является одним из главных партнёров Турции',\n",
              "  array([-0.08478233, -2.5097601 ], dtype=float32),\n",
              "  'Negative'),\n",
              " ('Обращение к Лукашенко от 640 семей: «Обещанных страховых выплат половина дольщиков не получила»',\n",
              "  array([-0.07728587, -2.5986376 ], dtype=float32),\n",
              "  'Negative'),\n",
              " ('ГНС опровергла заявление первого вице-мэра Бишкека о том, что у половины бутиков нет патентов',\n",
              "  array([-0.10772818, -2.281525  ], dtype=float32),\n",
              "  'Negative'),\n",
              " ('Четвёртого СПИК пока в регионе не будет',\n",
              "  array([-0.08950251, -2.4579055 ], dtype=float32),\n",
              "  'Negative'),\n",
              " ('Депутат Госдумы призвал уланудэнцев «стучать», чтобы сделать город чище',\n",
              "  array([-0.07585271, -2.6166484 ], dtype=float32),\n",
              "  'Negative'),\n",
              " ('Авторы из Ростова пишут в интернет-журнал для инвалидов «Отражение»',\n",
              "  array([-0.09864196, -2.3651738 ], dtype=float32),\n",
              "  'Negative'),\n",
              " ('В Слуге народа определились с заменой оскандалившемуся Яременко',\n",
              "  array([-0.08409585, -2.517552  ], dtype=float32),\n",
              "  'Negative'),\n",
              " ('Сибирские ученые придумали «умный» источник питания для самолетов в сложных климатических условиях',\n",
              "  array([-0.07834284, -2.585576  ], dtype=float32),\n",
              "  'Negative'),\n",
              " ('Флюорограф в Искитиме работает',\n",
              "  array([-0.11889853, -2.188345  ], dtype=float32),\n",
              "  'Negative'),\n",
              " ('Шесть пострадавших в ДТП с автобусом в Забайкалье находятся в тяжелом состоянии',\n",
              "  array([-0.10448739, -2.3104773 ], dtype=float32),\n",
              "  'Negative'),\n",
              " ('Инвесторы поддержали рубль',\n",
              "  array([-0.08466952, -2.5110362 ], dtype=float32),\n",
              "  'Negative'),\n",
              " ('Власти Новочеркасска будут уговаривать последнего врача-инфекциониста в городе вернуться на работу',\n",
              "  array([-0.09469955, -2.4040225 ], dtype=float32),\n",
              "  'Negative'),\n",
              " ('Первая леди США показала рождественский интерьер Белого дома',\n",
              "  array([-0.08617357, -2.4941697 ], dtype=float32),\n",
              "  'Negative'),\n",
              " ('Дружить, так регионами. Сахалинцы укрепляют международные связи',\n",
              "  array([-0.0747005, -2.6313865], dtype=float32),\n",
              "  'Negative'),\n",
              " ('Финляндия, Чехия и Швеция - 28 игроков КХЛ на Кубке Первого Канала',\n",
              "  array([-0.11900172, -2.1875277 ], dtype=float32),\n",
              "  'Negative'),\n",
              " ('Цензуры.net', array([-0.09605163, -2.3905106 ], dtype=float32), 'Negative'),\n",
              " ('В РФ нет достоверной информации о заготовке, обороте и экспорте древесины - Счетная палата',\n",
              "  array([-0.10037254, -2.3486326 ], dtype=float32),\n",
              "  'Negative'),\n",
              " ('На Ямале столкнулись пассажирский автобус и \"КамАЗ\", есть пострадавшие',\n",
              "  array([-0.09963075, -2.3556862 ], dtype=float32),\n",
              "  'Negative'),\n",
              " ('Обществу нужна реальная и ясная программа развития страны, - активисты',\n",
              "  array([-0.06993189, -2.694995  ], dtype=float32),\n",
              "  'Negative'),\n",
              " ('Руководителей двух крупнейших сельхозпредприятий Омской области наградили',\n",
              "  array([-0.12706612, -2.125908  ], dtype=float32),\n",
              "  'Negative'),\n",
              " ('В районе Дворца спорта им. Ивана Ярыгина изменится схема движения транспорта',\n",
              "  array([-0.1307281, -2.099288 ], dtype=float32),\n",
              "  'Negative'),\n",
              " ('На общем собрании Думы утвержден бюджет Томска на 2020 год и плановый период 2021 и 2022 года',\n",
              "  array([-0.11488869, -2.2206862 ], dtype=float32),\n",
              "  'Negative'),\n",
              " ('НА ПОЛИГОНЕ ЦНИИТОЧМАШ ЭКСПЕРТЫ ОБСУДИЛИ ВОПРОСЫ РАЗВИТИЯ ОРУЖЕЙНОЙ ОТРАСЛИ',\n",
              "  array([-0.12307862, -2.15584   ], dtype=float32),\n",
              "  'Negative'),\n",
              " ('«Росатом» станет совладельцем группы «Дело» Шишкарева',\n",
              "  array([-0.0969786, -2.3813624], dtype=float32),\n",
              "  'Negative'),\n",
              " ('ОПЕК считает, что добыча сланцевой нефти в США начнет замедляться в ближайшее время',\n",
              "  array([-0.08517554, -2.5053267 ], dtype=float32),\n",
              "  'Negative'),\n",
              " ('СУЭК получила Национальную премию в области импортозамещения',\n",
              "  array([-0.11650822, -2.207482  ], dtype=float32),\n",
              "  'Negative'),\n",
              " ('Utair предоставила в суд «левые» документы. Рассмотрение процедуры банкротства снова перенесли',\n",
              "  array([-0.09067851, -2.445431  ], dtype=float32),\n",
              "  'Negative'),\n",
              " ('Датский уголок 3 декабря',\n",
              "  array([-0.09037143, -2.448673  ], dtype=float32),\n",
              "  'Negative'),\n",
              " ('Газ. Почему загадочно улыбается Путин.',\n",
              "  array([-0.0876023, -2.4784293], dtype=float32),\n",
              "  'Negative'),\n",
              " ('Газопровод «Сила Сибири» начал работу',\n",
              "  array([-0.11400944, -2.227937  ], dtype=float32),\n",
              "  'Negative'),\n",
              " ('nan', array([-0.083477 , -2.5246322], dtype=float32), 'Negative'),\n",
              " ('Корпорация МСП провела выездную стратегическую сессию в Калининград',\n",
              "  array([-0.14169508, -2.0240893 ], dtype=float32),\n",
              "  'Negative'),\n",
              " ('Электрички в\\xa0Приморском крае переходят на\\xa0зимний режим работы',\n",
              "  array([-0.09419931, -2.4090722 ], dtype=float32),\n",
              "  'Negative'),\n",
              " ('Институт лингвистики и международных коммуникаций ЮУрГУ проводит конференцию «Новый взгляд-4»',\n",
              "  array([-0.1399202, -2.0358276], dtype=float32),\n",
              "  'Negative'),\n",
              " ('Время скользить!',\n",
              "  array([-0.06613746, -2.748906  ], dtype=float32),\n",
              "  'Negative'),\n",
              " ('«Адмирал» не забросил ни одной шайбы и проиграл московскому «Спартаку» во Владивостоке — 0:2 (Ф',\n",
              "  array([-0.09295423, -2.4217656 ], dtype=float32),\n",
              "  'Negative'),\n",
              " ('КПРФ ударит флешмобом по партии власти',\n",
              "  array([-0.0794358, -2.5722613], dtype=float32),\n",
              "  'Negative'),\n",
              " ('В Главном управлении проведено общее собрание коллектива, посвященное Дню юриста',\n",
              "  array([-0.08254861, -2.5353587 ], dtype=float32),\n",
              "  'Negative'),\n",
              " ('Трамп назвал условия, при которых будет готов отчитаться перед Конгрессом',\n",
              "  array([-0.07681625, -2.6045015 ], dtype=float32),\n",
              "  'Negative'),\n",
              " ('nan', array([-0.10472897, -2.3082874 ], dtype=float32), 'Negative'),\n",
              " ('Артем Дзюба — голый король',\n",
              "  array([-0.09237454, -2.427735  ], dtype=float32),\n",
              "  'Negative'),\n",
              " ('Иван Бабошкин празднует день рождения',\n",
              "  array([-0.09830048, -2.3684745 ], dtype=float32),\n",
              "  'Negative'),\n",
              " ('Чиновники готовят большую распродажу России',\n",
              "  array([-0.09344218, -2.4167693 ], dtype=float32),\n",
              "  'Negative'),\n",
              " ('Какую погоду ждать ижевчанам 3\\xa0декабря?',\n",
              "  array([-0.08967755, -2.4560382 ], dtype=float32),\n",
              "  'Negative'),\n",
              " ('Легенда N 312',\n",
              "  array([-0.09613782, -2.3896558 ], dtype=float32),\n",
              "  'Negative'),\n",
              " ('Власти Чувашии озаботились проблемой обмеления Суры',\n",
              "  array([-0.09329744, -2.4182482 ], dtype=float32),\n",
              "  'Negative'),\n",
              " ('В США скончался историк и лауреат Пулитцеровской премии Роберт Мэсси',\n",
              "  array([-0.09775977, -2.373724  ], dtype=float32),\n",
              "  'Negative'),\n",
              " ('Bloomberg', array([-0.08711041, -2.483818  ], dtype=float32), 'Negative'),\n",
              " ('Прокуратура Каргатского района проверила исполнение жилищного законодательства при проведении капитального ремонта общего имущества многоквартирного дома.',\n",
              "  array([-0.11031913, -2.2590308 ], dtype=float32),\n",
              "  'Negative'),\n",
              " ('Источник рассказал о сроках закладки в Керчи российских \"Мистралей\"',\n",
              "  array([-0.12449709, -2.145076  ], dtype=float32),\n",
              "  'Negative'),\n",
              " ('В гибели «Суперджета» обвинили пилота',\n",
              "  array([-0.09157436, -2.436042  ], dtype=float32),\n",
              "  'Negative'),\n",
              " ('Денег дольщиков не хватило для заочного ареста // Суд отказался избрать меру пресечения петербургским застройщикам',\n",
              "  array([-0.08346252, -2.5247986 ], dtype=float32),\n",
              "  'Negative'),\n",
              " ('Энергетики модернизируют теплостанцию в Зеленограде',\n",
              "  array([-0.11641856, -2.2082078 ], dtype=float32),\n",
              "  'Negative'),\n",
              " ('«Аэрофлот» пожаловался на рост стоимости аэропортовых тарифов и керосина',\n",
              "  array([-0.10188977, -2.334376  ], dtype=float32),\n",
              "  'Negative'),\n",
              " ('В Доволенском районе открылся новый спортзал',\n",
              "  array([-0.13067171, -2.0996912 ], dtype=float32),\n",
              "  'Negative'),\n",
              " ('Образование для детей с ограниченными возможностями',\n",
              "  array([-0.07770972, -2.5933785 ], dtype=float32),\n",
              "  'Negative'),\n",
              " ('«Непродуманные региональные инициативы делают легальный рынок уязвимым»',\n",
              "  array([-0.07557961, -2.6201205 ], dtype=float32),\n",
              "  'Negative'),\n",
              " ('Москвичи больше узнают о Сахалинской области',\n",
              "  array([-0.09512075, -2.3997915 ], dtype=float32),\n",
              "  'Negative'),\n",
              " ('Мадуро наградил российского посла орденом Франсиско Миранды',\n",
              "  array([-0.13312915, -2.082262  ], dtype=float32),\n",
              "  'Negative'),\n",
              " ('Перевозки пассажиров на СвЖД в ноябре выросли на 1,3%',\n",
              "  array([-0.10403264, -2.3146162 ], dtype=float32),\n",
              "  'Negative'),\n",
              " ('Колесами в небо: под Тулой девушка не справилась с управлением &#34;Шевроле&#34;',\n",
              "  array([-0.08398253, -2.5188437 ], dtype=float32),\n",
              "  'Negative'),\n",
              " ('\"Тренер передаёт нам дух победы\"',\n",
              "  array([-0.08692551, -2.4858522 ], dtype=float32),\n",
              "  'Negative'),\n",
              " ('nan', array([-0.09080338, -2.4441168 ], dtype=float32), 'Negative'),\n",
              " ('В Мексике началась третья ежегодная неделя российского кино',\n",
              "  array([-0.0973545, -2.3776782], dtype=float32),\n",
              "  'Negative'),\n",
              " ('Системы денежных переводов приостанавливают работу с Таджикистаном',\n",
              "  array([-0.09377882, -2.4133394 ], dtype=float32),\n",
              "  'Negative'),\n",
              " ('Хабаровчанин пригласил «любовника» жены в гости и попытался его убить',\n",
              "  array([-0.09360319, -2.4151268 ], dtype=float32),\n",
              "  'Negative'),\n",
              " ('Онлайн на потребу',\n",
              "  array([-0.06416377, -2.7782261 ], dtype=float32),\n",
              "  'Negative'),\n",
              " ('Следователи назвали виновного в аварии Superjet в Шереметьево',\n",
              "  array([-0.12435836, -2.1461227 ], dtype=float32),\n",
              "  'Negative'),\n",
              " ('Строительство теплицы',\n",
              "  array([-0.08143993, -2.5483336 ], dtype=float32),\n",
              "  'Negative'),\n",
              " ('Рязанского пенсионера осудили за совращение двух мальчиков',\n",
              "  array([-0.08579509, -2.4983842 ], dtype=float32),\n",
              "  'Negative'),\n",
              " ('Соответствует международным стандартам',\n",
              "  array([-0.06654821, -2.7429178 ], dtype=float32),\n",
              "  'Negative'),\n",
              " ('Россиян оставили без советских вкладов еще на несколько лет',\n",
              "  array([-0.08444003, -2.5136373 ], dtype=float32),\n",
              "  'Negative'),\n",
              " ('Снежный покров в Москве продержится до четверга',\n",
              "  array([-0.09898765, -2.3618457 ], dtype=float32),\n",
              "  'Negative'),\n",
              " ('За первые пять минут торгов курс доллара США понизился до 64,1461 руб.',\n",
              "  array([-0.1062706, -2.2944314], dtype=float32),\n",
              "  'Negative'),\n",
              " ('До семи лет лишения свободы грозит подозреваемым в грабеже жителям Обнинска',\n",
              "  array([-0.07888182, -2.5789866 ], dtype=float32),\n",
              "  'Negative'),\n",
              " ('Центральный парк Красноярска ждёт преображение',\n",
              "  array([-0.08072113, -2.5568442 ], dtype=float32),\n",
              "  'Negative'),\n",
              " ('Прожиточный минимум за III квартал 2019 года',\n",
              "  array([-0.09773901, -2.373926  ], dtype=float32),\n",
              "  'Negative'),\n",
              " ('Western Union, Contact и «Близко» приостановили переводы в Таджикистан',\n",
              "  array([-0.11368082, -2.230662  ], dtype=float32),\n",
              "  'Negative'),\n",
              " ('НАТО без России // Сергей Строкань об эволюции отношений Москвы с Североатлантическим альянсом',\n",
              "  array([-0.11710612, -2.2026565 ], dtype=float32),\n",
              "  'Negative'),\n",
              " ('Экс-врио главы Бердска Андрей Михайлов возглавит Новосибирский район',\n",
              "  array([-0.12234907, -2.1614282 ], dtype=float32),\n",
              "  'Negative'),\n",
              " ('Месяц до старта: что может помешать запуску системы обязательного социального медицинского страхования?',\n",
              "  array([-0.06707518, -2.7352917 ], dtype=float32),\n",
              "  'Negative'),\n",
              " ('Главную ёлку Абакана соберут из тысяч хвойных веток',\n",
              "  array([-0.09083386, -2.4437964 ], dtype=float32),\n",
              "  'Negative'),\n",
              " ('НАБУ проводит обыски в связи с вымогательством за закрытие дела в ГБР',\n",
              "  array([-0.10548501, -2.3014657 ], dtype=float32),\n",
              "  'Negative'),\n",
              " ('Компания REHAU получила диплом «За надежное партнерство» от ведущего девелопера Москвы',\n",
              "  array([-0.10562017, -2.3002517 ], dtype=float32),\n",
              "  'Negative'),\n",
              " ('С рельсов на самолет и паром',\n",
              "  array([-0.06217197, -2.8087764 ], dtype=float32),\n",
              "  'Negative'),\n",
              " ('Следствие по делу о крушении в Шереметьево SSJ-100 завершено - адвокат',\n",
              "  array([-0.084165 , -2.5167642], dtype=float32),\n",
              "  'Negative'),\n",
              " ('Минздрав предупредил о противопоказаниях к прививкам',\n",
              "  array([-0.07575203, -2.6179261 ], dtype=float32),\n",
              "  'Negative'),\n",
              " ('Расследование дела о катастрофе Суперджета в Шереметьево завершено',\n",
              "  array([-0.11472619, -2.222021  ], dtype=float32),\n",
              "  'Negative'),\n",
              " ('Общероссийский день приёма граждан в Думе города Сургута',\n",
              "  array([-0.11064821, -2.2562132 ], dtype=float32),\n",
              "  'Negative'),\n",
              " ('Ивановская прокуратура взялась за управляющие компании',\n",
              "  array([-0.10921785, -2.2685232 ], dtype=float32),\n",
              "  'Negative'),\n",
              " ('\"А мне соточку?\": \"Вечный холостяк\" Батрутдинов назвал главную проблему современных девушек',\n",
              "  array([-0.10332043, -2.3211355 ], dtype=float32),\n",
              "  'Negative'),\n",
              " ('Тедеско - лучшее, что случилось со \"Спартаком\" после чемпионства. Зеленов - о критике тренера красно-белых',\n",
              "  array([-0.0825755, -2.5350454], dtype=float32),\n",
              "  'Negative'),\n",
              " ('В Элисте осуждён экс-заместитель сити-менеджера: прокуратура недовольна',\n",
              "  array([-0.07991608, -2.5664697 ], dtype=float32),\n",
              "  'Negative'),\n",
              " ('На Алтае наказали пассажира, курившего на борту самолета',\n",
              "  array([-0.07067259, -2.6848254 ], dtype=float32),\n",
              "  'Negative'),\n",
              " ('Премьер-министр Монголии прибыл с визитом в РФ',\n",
              "  array([-0.09552877, -2.3957121 ], dtype=float32),\n",
              "  'Negative'),\n",
              " ('\"Золотой век\" сланцевой добычи в США завершается, но до падения еще далеко - эксперты',\n",
              "  array([-0.10528792, -2.3032384 ], dtype=float32),\n",
              "  'Negative'),\n",
              " ('Следователи назвали виновного в авиакатастрофе самолёта SSJ-100',\n",
              "  array([-0.09688144, -2.3823166 ], dtype=float32),\n",
              "  'Negative'),\n",
              " ('Имущество «Казанского вертолетного завода» хотят продать за 2 млрд рублей',\n",
              "  array([-0.11384254, -2.22932   ], dtype=float32),\n",
              "  'Negative'),\n",
              " ('Рогозин вручил астронавту NASA Нику Хейгу орден Мужества',\n",
              "  array([-0.11799187, -2.1955557 ], dtype=float32),\n",
              "  'Negative'),\n",
              " ('Тайсон признан лучшим футболистом Украины в 2019 году',\n",
              "  array([-0.10730477, -2.2852547 ], dtype=float32),\n",
              "  'Negative'),\n",
              " ('В Роскомнадзоре объяснили блокировку одного из крупнейших фотобанков Shutterstock',\n",
              "  array([-0.12594382, -2.1342301 ], dtype=float32),\n",
              "  'Negative'),\n",
              " ('Андрей Михайлов станет Главой Новосибирского района',\n",
              "  array([-0.11796994, -2.1957312 ], dtype=float32),\n",
              "  'Negative'),\n",
              " ('Перспективы рынка красной икры в Россиий',\n",
              "  array([-0.0815375, -2.5471838], dtype=float32),\n",
              "  'Negative'),\n",
              " ('Хорошая новость для жителей Пригорска',\n",
              "  array([-0.08932743, -2.4597774 ], dtype=float32),\n",
              "  'Negative'),\n",
              " ('В Петербурге загорелся ангар с химическими удобрениями',\n",
              "  array([-0.07893602, -2.5783257 ], dtype=float32),\n",
              "  'Negative'),\n",
              " ('Ожидаемые события на 3 декабря',\n",
              "  array([-0.07813438, -2.5881376 ], dtype=float32),\n",
              "  'Negative'),\n",
              " ('Состоялась рабочая встреча Председателя Правления ПАО \"Газпром\" Алексея Миллера и губернатора Амурской области Василия Орлова.',\n",
              "  array([-0.13334367, -2.0807564 ], dtype=float32),\n",
              "  'Negative'),\n",
              " ('На основе тульского ЗРК \"Панцирь\" создадут боевого робота',\n",
              "  array([-0.11490984, -2.2205122 ], dtype=float32),\n",
              "  'Negative'),\n",
              " ('Министр ЖКХ Сахалинской области покинул пост',\n",
              "  array([-0.09742901, -2.3769505 ], dtype=float32),\n",
              "  'Negative'),\n",
              " ('В Брюсселе – договор о 10 млн евро на подготовительные работы в проекте Harmony Link',\n",
              "  array([-0.11778431, -2.1972141 ], dtype=float32),\n",
              "  'Negative'),\n",
              " ('Datsun не намерен покидать российский рынок и обещает новинки',\n",
              "  array([-0.08259701, -2.5347955 ], dtype=float32),\n",
              "  'Negative'),\n",
              " ('Рынок акций РФ почти не меняется в начале сессии',\n",
              "  array([-0.09827974, -2.3686745 ], dtype=float32),\n",
              "  'Negative'),\n",
              " ('Монголия присоединилась к странам, на рынки которых поступает российский газ',\n",
              "  array([-0.08907283, -2.462507  ], dtype=float32),\n",
              "  'Negative'),\n",
              " ('Эрдоган назвал Россию одним из главных партнеров Турции',\n",
              "  array([-0.0886097, -2.4674919], dtype=float32),\n",
              "  'Negative'),\n",
              " ('Новым ректором БГУ может стать Ендон Гармаев',\n",
              "  array([-0.12304574, -2.1560912 ], dtype=float32),\n",
              "  'Negative'),\n",
              " ('nan', array([-0.08661903, -2.4892333 ], dtype=float32), 'Negative'),\n",
              " ('Шахтинский пансионат для престарелых и инвалидов совместно с «Шахтинскими известиями» реализует нацпроект «Демография»',\n",
              "  array([-0.10490309, -2.306711  ], dtype=float32),\n",
              "  'Negative'),\n",
              " ('Трамп: Зеленский своими словами &#34;закрыл&#34; дело об импичменте',\n",
              "  array([-0.0804607, -2.5599477], dtype=float32),\n",
              "  'Negative'),\n",
              " ('ОБЩЕСТВО С ОГРАНИЧЕННОЙ ОТВЕТСТВЕННОСТЬЮ «НОВГОРОДНЕФТЕПРОДУКТ»',\n",
              "  array([-0.1193487, -2.184787 ], dtype=float32),\n",
              "  'Negative'),\n",
              " ('Возгорание на Троицкой ГРЭС оперативно ликвидировано',\n",
              "  array([-0.11675328, -2.2055013 ], dtype=float32),\n",
              "  'Negative'),\n",
              " ('БЖД запустила мобильное приложение «БЧ. Мой поезд» для оформления билетов',\n",
              "  array([-0.11027269, -2.259429  ], dtype=float32),\n",
              "  'Negative'),\n",
              " ('В\\xa0Челябинске шестой день ищут девочку-подростка',\n",
              "  array([-0.09662432, -2.384848  ], dtype=float32),\n",
              "  'Negative'),\n",
              " ('Министр внутренних дел России встретится с главой Бурятии',\n",
              "  array([-0.09960604, -2.3559217 ], dtype=float32),\n",
              "  'Negative'),\n",
              " ('В Тюменской области стартует программа газификации на 7 млрд',\n",
              "  array([-0.12702653, -2.1262004 ], dtype=float32),\n",
              "  'Negative'),\n",
              " ('Москвич подорвался на петарде у психдиспансера',\n",
              "  array([-0.09825942, -2.3688717 ], dtype=float32),\n",
              "  'Negative'),\n",
              " ('Дизайн-код для Саратова. Как изменятся улицы областного центра?',\n",
              "  array([-0.08645625, -2.491034  ], dtype=float32),\n",
              "  'Negative'),\n",
              " ('Директор «Телекона» Ирина Пудовкина возглавила «Тагил-ТВ»',\n",
              "  array([-0.12404197, -2.1485152 ], dtype=float32),\n",
              "  'Negative'),\n",
              " ('Глава МОК созывает олимпийским саммит. Он поддержит Россию?',\n",
              "  array([-0.07767652, -2.593789  ], dtype=float32),\n",
              "  'Negative'),\n",
              " ('Дни рождения 3 декабря',\n",
              "  array([-0.08608913, -2.4951081 ], dtype=float32),\n",
              "  'Negative'),\n",
              " ('Прогноз и ставка на матч Элитцур Явне - Элитцур Кирьят-Ата 03-го декабря 2019 года',\n",
              "  array([-0.10271832, -2.3266845 ], dtype=float32),\n",
              "  'Negative'),\n",
              " ('Рейсовый автобус опрокинулся в Белгородской области, два человека пострадали',\n",
              "  array([-0.09959342, -2.356043  ], dtype=float32),\n",
              "  'Negative'),\n",
              " ('Минздрав Узбекистана проверит роддом после видеообращения матери, потерявшей ребенка',\n",
              "  array([-0.08356407, -2.5236328 ], dtype=float32),\n",
              "  'Negative'),\n",
              " ('Bloomberg узнал о конце «золотого века» сланцевой нефти в США',\n",
              "  array([-0.08111362, -2.552187  ], dtype=float32),\n",
              "  'Negative'),\n",
              " ('Управление социальной защиты информирует',\n",
              "  array([-0.07820053, -2.5873246 ], dtype=float32),\n",
              "  'Negative'),\n",
              " ('Фонд \"Навстречу переменам\" открыл школу социального предпринимательства на YouTube',\n",
              "  array([-0.13004334, -2.1042044 ], dtype=float32),\n",
              "  'Negative'),\n",
              " ('Путин подбодрил «Газпром» запуском газопровода «Сила Сибири»',\n",
              "  array([-0.12609264, -2.1331227 ], dtype=float32),\n",
              "  'Negative'),\n",
              " ('Мультимодальность с начала года',\n",
              "  array([-0.07229853, -2.662883  ], dtype=float32),\n",
              "  'Negative'),\n",
              " ('Снег с дождем: ситуацию на дорогах Ростовской области отслеживают метеоспутники',\n",
              "  array([-0.09498373, -2.4011652 ], dtype=float32),\n",
              "  'Negative'),\n",
              " ('Экс-депутату Рады Мосийчуку предъявили обвинение в нападении на посольство России в Киеве',\n",
              "  array([-0.12074067, -2.1738732 ], dtype=float32),\n",
              "  'Negative'),\n",
              " ('ЦБ может ввести повышательный коэффициент риска для ипотечных кредитов, - Аналитики\\xa0\"ВТБ Капитал\",',\n",
              "  array([-0.10883848, -2.2718158 ], dtype=float32),\n",
              "  'Negative'),\n",
              " ('Ученые планируют улучшить качество фотографий черных дыр в 30 раз',\n",
              "  array([-0.09714153, -2.3797643 ], dtype=float32),\n",
              "  'Negative'),\n",
              " ('Россиянам хотят выдать удостоверения с графой &#34;национальность&#34;',\n",
              "  array([-0.0777566, -2.5927987], dtype=float32),\n",
              "  'Negative'),\n",
              " ('На слушаниях в Екатеринбурге горожане одобрили новую схему теплоснабжения',\n",
              "  array([-0.08217534, -2.5397067 ], dtype=float32),\n",
              "  'Negative'),\n",
              " ('Тонкий лёд таит опасность',\n",
              "  array([-0.07219228, -2.664301  ], dtype=float32),\n",
              "  'Negative'),\n",
              " ('В Кричевском районе при пожаре погиб мужчина',\n",
              "  array([-0.11026885, -2.2594614 ], dtype=float32),\n",
              "  'Negative'),\n",
              " ('Расхитителей ливневок в Хабаровске поймали на превышении скорости',\n",
              "  array([-0.11993846, -2.1801467 ], dtype=float32),\n",
              "  'Negative'),\n",
              " ('Пишем письма Деду Морозу',\n",
              "  array([-0.07596022, -2.6152854 ], dtype=float32),\n",
              "  'Negative'),\n",
              " ('ФБР назвало \"контрразведывательной угрозой\" российские мобильные приложения',\n",
              "  array([-0.07944769, -2.5721169 ], dtype=float32),\n",
              "  'Negative'),\n",
              " ('Сети дома, где произошел взрыв газа, проверят специалисты \"Газпром межрегионгазБелгород\"',\n",
              "  array([-0.10928807, -2.2679148 ], dtype=float32),\n",
              "  'Negative'),\n",
              " ('Стала известна причина обрушения моста в\\xa0Оренбурге',\n",
              "  array([-0.10204802, -2.3329017 ], dtype=float32),\n",
              "  'Negative'),\n",
              " ('Великая Польша «от моря до моря» в мечтах и реальности',\n",
              "  array([-0.08527111, -2.5042524 ], dtype=float32),\n",
              "  'Negative'),\n",
              " ('Рогозин рассказал Путину о строительстве космодрома «Восточный» - Корпорация \"Человек\"',\n",
              "  array([-0.10353274, -2.3191872 ], dtype=float32),\n",
              "  'Negative'),\n",
              " ('Фотофакт', array([-0.09516259, -2.3993726 ], dtype=float32), 'Negative'),\n",
              " ('Суд приговорил троих жителей Приангарья к лишению свободы за кражу 2 тонн нефрита',\n",
              "  array([-0.09188835, -2.4327729 ], dtype=float32),\n",
              "  'Negative'),\n",
              " ('Полузащитника «Зенита»-2 включили в самых талантливых молодых игроков в мире',\n",
              "  array([-0.08547064, -2.5020127 ], dtype=float32),\n",
              "  'Negative'),\n",
              " ('Медведь съел человека: режим ЧС ввели в Мамско-Чуйском районе в Приангарье',\n",
              "  array([-0.10844281, -2.2752633 ], dtype=float32),\n",
              "  'Negative'),\n",
              " ('Импорт фармсубстанций в Россию за 9 месяцев 2019 года превысил объём поставок за весь 2018 год',\n",
              "  array([-0.13723117, -2.0539196 ], dtype=float32),\n",
              "  'Negative'),\n",
              " ('Отряды особого значения',\n",
              "  array([-0.06838795, -2.7165582 ], dtype=float32),\n",
              "  'Negative'),\n",
              " ('Отправление переводов до 15 тыс. рублей по почте хотят упростить',\n",
              "  array([-0.07874046, -2.5807102 ], dtype=float32),\n",
              "  'Negative'),\n",
              " ('Сами высекли себя',\n",
              "  array([-0.07095613, -2.6809626 ], dtype=float32),\n",
              "  'Negative'),\n",
              " ('В Доволенском районе открылся новый спортзал',\n",
              "  array([-0.14739034, -1.9874613 ], dtype=float32),\n",
              "  'Negative'),\n",
              " ('Глава США прилетел в Лондон',\n",
              "  array([-0.07728742, -2.5986187 ], dtype=float32),\n",
              "  'Negative'),\n",
              " ('Прививка бесплатна: в Петрозаводск привезли новый вид вакцины против гриппа',\n",
              "  array([-0.09401019, -2.410989  ], dtype=float32),\n",
              "  'Negative'),\n",
              " ('В Хабаровске наконец достроили «Казачью гору»',\n",
              "  array([-0.09065194, -2.445712  ], dtype=float32),\n",
              "  'Negative'),\n",
              " ('РуссНефть и Саратовнефтегаз: реализация благотворительной программы',\n",
              "  array([-0.08277524, -2.5327284 ], dtype=float32),\n",
              "  'Negative'),\n",
              " ('Saxo Bank опубликовал «шокирующие прогнозы» на 2020 год',\n",
              "  array([-0.10405111, -2.3144479 ], dtype=float32),\n",
              "  'Negative'),\n",
              " ('В Оренбурге подорожал проезд в автобусах',\n",
              "  array([-0.10654315, -2.2920039 ], dtype=float32),\n",
              "  'Negative'),\n",
              " ('Роскачество проверило мобильные приложения для заказа такси',\n",
              "  array([-0.06743363, -2.730138  ], dtype=float32),\n",
              "  'Negative'),\n",
              " ('Получить ипотеку станет сложнее',\n",
              "  array([-0.05411875, -2.943513  ], dtype=float32),\n",
              "  'Negative'),\n",
              " ('Байкальская правда. Кристальная честность чиновников: сохранение озера, поддержка пострадавших от паводков и \"майские указы\" президента',\n",
              "  array([-0.10302915, -2.323816  ], dtype=float32),\n",
              "  'Negative'),\n",
              " ('Активист Майдана сбежал в Германию и столкнулся с «адом»',\n",
              "  array([-0.08650413, -2.490503  ], dtype=float32),\n",
              "  'Negative'),\n",
              " ('Лукойл. Преодолели уровень 6150 руб.',\n",
              "  array([-0.08191913, -2.5427027 ], dtype=float32),\n",
              "  'Negative'),\n",
              " ('Установлены личности всех погибших в ДТП с автобусом в Забайкалье',\n",
              "  array([-0.10402404, -2.314695  ], dtype=float32),\n",
              "  'Negative'),\n",
              " ('Компания «Фридом Финанс» нацелилась на\\xa0акции Санкт-Петербургской биржи',\n",
              "  array([-0.14170791, -2.0240052 ], dtype=float32),\n",
              "  'Negative'),\n",
              " ('Шесть пострадавших в ДТП с автобусом в Забайкалье находятся в тяжёлом состоянии',\n",
              "  array([-0.10110311, -2.3417404 ], dtype=float32),\n",
              "  'Negative'),\n",
              " ('Спортивная дорога',\n",
              "  array([-0.07744939, -2.5966048 ], dtype=float32),\n",
              "  'Negative'),\n",
              " ('Первый в России',\n",
              "  array([-0.08745147, -2.480079  ], dtype=float32),\n",
              "  'Negative'),\n",
              " ('Реестр учета граждан, имеющих трех и более детей, и, имеющих право на бесплатное предоставление в собственность земельных участков для индивидуального жилищного строительства на 3 декабря 2019 года',\n",
              "  array([-0.11661611, -2.2066088 ], dtype=float32),\n",
              "  'Negative'),\n",
              " ('Внук Яшина рассказал о встрече с лучшим вратарем 2019 года',\n",
              "  array([-0.11808859, -2.1947834 ], dtype=float32),\n",
              "  'Negative'),\n",
              " ('Галина Буевич приняла участие в памятном мероприятии, посвященном Дню Неизвестного Солдата',\n",
              "  array([-0.10489246, -2.3068073 ], dtype=float32),\n",
              "  'Negative'),\n",
              " ('Спасение не по-детски',\n",
              "  array([-0.08080613, -2.555834  ], dtype=float32),\n",
              "  'Negative'),\n",
              " ('Дюмин отреагировал на «обезвоживание» жителей Ялты',\n",
              "  array([-0.08969008, -2.4559047 ], dtype=float32),\n",
              "  'Negative'),\n",
              " ('ЗЕЛЕНСКИЙ ПОРУЧИЛ ДИВЕРСИФИЦИРОВАТЬ ПОСТАВКИ ТОПЛИВА И ОБЕСПЕЧИТЬ ТРАНЗИТ ГАЗА',\n",
              "  array([-0.12271238, -2.1586406 ], dtype=float32),\n",
              "  'Negative'),\n",
              " ('В Якутии полицейские в преддверии Дня Героев Отечества организовали для ребят экскурсию в Спасский мужской монастырь',\n",
              "  array([-0.1387332, -2.043768 ], dtype=float32),\n",
              "  'Negative'),\n",
              " ('Общежитие', array([-0.07119007, -2.6777852 ], dtype=float32), 'Negative'),\n",
              " ('Назван виновник катастрофы SSJ-100\\xa0в\\xa0Шереметьево',\n",
              "  array([-0.11076336, -2.2552302 ], dtype=float32),\n",
              "  'Negative'),\n",
              " ('Инициативное бюджетирование',\n",
              "  array([-0.07344796, -2.647678  ], dtype=float32),\n",
              "  'Negative'),\n",
              " ('17 человек погибли в результате ожесточенных столкновений на юге столицы Ливии',\n",
              "  array([-0.10268605, -2.3269825 ], dtype=float32),\n",
              "  'Negative'),\n",
              " ('Около 10 крупных военных учений пройдут в регионах Поволжья в 2020 году',\n",
              "  array([-0.09065891, -2.4456375 ], dtype=float32),\n",
              "  'Negative'),\n",
              " ('Боровичская межрайонная прокуратура подготовила памятку для заемщика',\n",
              "  array([-0.1055306, -2.3010552], dtype=float32),\n",
              "  'Negative'),\n",
              " ('ЦБ РФ повысил курс доллара на вторник до 64,41 рубля',\n",
              "  array([-0.08300523, -2.5300672 ], dtype=float32),\n",
              "  'Negative'),\n",
              " ('Цена российского газа в Европе рухнула до минимума за 15 лет',\n",
              "  array([-0.09679791, -2.3831387 ], dtype=float32),\n",
              "  'Negative'),\n",
              " ('США пригрозили Франции пошлинами на товары в размере $2,4 млрд',\n",
              "  array([-0.09676967, -2.3834164 ], dtype=float32),\n",
              "  'Negative'),\n",
              " ('Экс-замгубернатора Кузбасса Елена Малышева удалила свой аккаунт в соцсетях',\n",
              "  array([-0.13431303, -2.0739868 ], dtype=float32),\n",
              "  'Negative'),\n",
              " ('График уборки улиц в Ачинске на 3 декабря',\n",
              "  array([-0.10740317, -2.284387  ], dtype=float32),\n",
              "  'Negative'),\n",
              " ('На Кубани будут судить мужчину, посадившего сына на цепь',\n",
              "  array([-0.07173935, -2.6703713 ], dtype=float32),\n",
              "  'Negative'),\n",
              " ('Икону, написанную на греческой горе Афон, привезли в Ростовскую область',\n",
              "  array([-0.10036262, -2.3487265 ], dtype=float32),\n",
              "  'Negative'),\n",
              " ('В Бурятии пройдет \"День инвестора - 2019\"',\n",
              "  array([-0.11030739, -2.2591307 ], dtype=float32),\n",
              "  'Negative'),\n",
              " ('«Мы разные, но мы равные»: дошкольные учреждения города Чебоксары присоединились к празднованию Международного дня инвалидов',\n",
              "  array([-0.1153124, -2.2172124], dtype=float32),\n",
              "  'Negative'),\n",
              " ('ГФИ Самарской области Владимира Купцова признали платежеспособным',\n",
              "  array([-0.10856079, -2.274234  ], dtype=float32),\n",
              "  'Negative'),\n",
              " ('Сергей Морозов пригласил ульяновцев поговорить напрямую',\n",
              "  array([-0.10336236, -2.32075   ], dtype=float32),\n",
              "  'Negative'),\n",
              " ('«Протащить одного монополиста\\xa0— это\\xa0неправильно». Мусорная тактика Смольного толкает город в\\xa0бюрократический ступор?',\n",
              "  array([-0.07565887, -2.6191115 ], dtype=float32),\n",
              "  'Negative'),\n",
              " ('Путин подписал закон о внесении изменений в федеральный бюджет на 2019 год',\n",
              "  array([-0.11155494, -2.2484972 ], dtype=float32),\n",
              "  'Negative'),\n",
              " ('Борьба с перекупщиками выходит на государственный уровень',\n",
              "  array([-0.07299315, -2.6536648 ], dtype=float32),\n",
              "  'Negative'),\n",
              " ('Утро в Хабаровске: 47 ДТП, порыв на водоводе холодной воды, небольшой снежок, 15°С',\n",
              "  array([-0.09841727, -2.3673444 ], dtype=float32),\n",
              "  'Negative'),\n",
              " ('В горящем ангаре в Петербурге, предположительно, хранятся химические удобрения',\n",
              "  array([-0.08937311, -2.4592886 ], dtype=float32),\n",
              "  'Negative'),\n",
              " ('В России количество ДТП с такси увеличилось на 60% с начала года',\n",
              "  array([-0.10870654, -2.2729645 ], dtype=float32),\n",
              "  'Negative'),\n",
              " ('«Кондуктор увидела справку, но сказала платить». Когда по дороге из школы домой ребенку нужен билет',\n",
              "  array([-0.08454081, -2.5124936 ], dtype=float32),\n",
              "  'Negative'),\n",
              " ('Динамо Сассари - Манреса (03 декабря), ставки и коэффициенты',\n",
              "  array([-0.09762949, -2.3749933 ], dtype=float32),\n",
              "  'Negative'),\n",
              " ('Агентство по страхованию вкладов намерено весной 2020 года погасить обязательства перед вкладчиками лишенного лицензии банка \"Ассоциация\"',\n",
              "  array([-0.09477806, -2.4032326 ], dtype=float32),\n",
              "  'Negative'),\n",
              " ('Иркутскэнергосбыт предупредил клиентов о возможном появлении компаний-клонов',\n",
              "  array([-0.10014942, -2.3507483 ], dtype=float32),\n",
              "  'Negative'),\n",
              " ('Златан определился: швед вновь будет играть за \"Милан\"',\n",
              "  array([-0.07924442, -2.574579  ], dtype=float32),\n",
              "  'Negative'),\n",
              " ('Курс доллара снизился до 64,16 рубля',\n",
              "  array([-0.09080882, -2.44406   ], dtype=float32),\n",
              "  'Negative'),\n",
              " ('Есть контракт',\n",
              "  array([-0.06527591, -2.7615929 ], dtype=float32),\n",
              "  'Negative'),\n",
              " ('АвтоВАЗ запустил серийное производство обновленной Lada 4?4.',\n",
              "  array([-0.1264356, -2.1305742], dtype=float32),\n",
              "  'Negative'),\n",
              " ('В преддверии старта акции \"Наши дети\" на елках Гродненской области включат иллюминацию',\n",
              "  array([-0.12369294, -2.1511621 ], dtype=float32),\n",
              "  'Negative'),\n",
              " ('До5ор. О прошлом и будущем древнего щенка, найденного в Якутии',\n",
              "  array([-0.09769166, -2.3743868 ], dtype=float32),\n",
              "  'Negative'),\n",
              " ('Анатомия госпереворота',\n",
              "  array([-0.06937817, -2.7026708 ], dtype=float32),\n",
              "  'Negative'),\n",
              " ('В Смоленской области отремонтировали около 100 километров дорог',\n",
              "  array([-0.10203263, -2.3330448 ], dtype=float32),\n",
              "  'Negative'),\n",
              " ('Вызов принят!',\n",
              "  array([-0.06609216, -2.7495701 ], dtype=float32),\n",
              "  'Negative'),\n",
              " ('Любовь к\\xa0борщу с\\xa0пампушками—красоте не\\xa0помеха. Откровения модели плюс сайз',\n",
              "  array([-0.08438908, -2.5142145 ], dtype=float32),\n",
              "  'Negative'),\n",
              " ('В Воронеже полицейские провели спортивный фестиваль',\n",
              "  array([-0.09925064, -2.3593214 ], dtype=float32),\n",
              "  'Negative'),\n",
              " ('Эрдоган заявил, что отношения Турции с РФ не являются альтернативой отношениям с НАТО',\n",
              "  array([-0.12497547, -2.1414747 ], dtype=float32),\n",
              "  'Negative'),\n",
              " ('После снегопада на уборку дорог в Чувашской Республике вышло 278 единиц спецтехники',\n",
              "  array([-0.13385662, -2.077168  ], dtype=float32),\n",
              "  'Negative'),\n",
              " ('В Магнитогорске рабочая молодежь обсудила развитие движения',\n",
              "  array([-0.10060693, -2.346416  ], dtype=float32),\n",
              "  'Negative'),\n",
              " ('В Перми более ста рыбаков подвергли жизнь опасности, выйдя на тонкий лёд',\n",
              "  array([-0.07774104, -2.592991  ], dtype=float32),\n",
              "  'Negative'),\n",
              " ('Информация управления по физической культуре и спорту',\n",
              "  array([-0.08728652, -2.4818845 ], dtype=float32),\n",
              "  'Negative'),\n",
              " ('nan', array([-0.07782166, -2.5919933 ], dtype=float32), 'Negative'),\n",
              " ('Туроператоры подтверждают значительный рост Черногории',\n",
              "  array([-0.08795936, -2.4745376 ], dtype=float32),\n",
              "  'Negative'),\n",
              " ('В Усолье разыскивается автолюбитель, сбивший 74-летнюю пенсионерку',\n",
              "  array([-0.0955656, -2.3953452], dtype=float32),\n",
              "  'Negative'),\n",
              " ('Дорожники Петропавловска перешли в круглосуточный режим работы',\n",
              "  array([-0.1153891, -2.216585 ], dtype=float32),\n",
              "  'Negative'),\n",
              " ('Мурманчане из-за снегопада опаздывают на работу',\n",
              "  array([-0.09466594, -2.40436   ], dtype=float32),\n",
              "  'Negative'),\n",
              " ('Проведение конкурса по продаже муниципального имущества',\n",
              "  array([-0.08804647, -2.4735904 ], dtype=float32),\n",
              "  'Negative'),\n",
              " ('Захарова: Киеву надо обеспечить права жителям Донбасса, чтобы вернуть их лояльность',\n",
              "  array([-0.08352251, -2.5241091 ], dtype=float32),\n",
              "  'Negative'),\n",
              " ('Краткий обзор деятельности ЕДДС за ноябрь 2019 года',\n",
              "  array([-0.09443732, -2.406666  ], dtype=float32),\n",
              "  'Negative'),\n",
              " ('СКР\\xa0определил виновного в\\xa0крушении SSJ-100\\xa0в\\xa0Шереметьево',\n",
              "  array([-0.11152178, -2.2487783 ], dtype=float32),\n",
              "  'Negative'),\n",
              " ('В бюджет Рязанской области поступили дополнительные 762 миллиона рублей',\n",
              "  array([-0.09463275, -2.4046953 ], dtype=float32),\n",
              "  'Negative'),\n",
              " ('МЭР: темпы роста поребкредитования снизились после введения ПДН',\n",
              "  array([-0.07838781, -2.585025  ], dtype=float32),\n",
              "  'Negative'),\n",
              " ('Путин запустил газопровод «Сила Сибири»',\n",
              "  array([-0.14286308, -2.0164502 ], dtype=float32),\n",
              "  'Negative'),\n",
              " ('Следователи назвали виновного в катастрофе мурманского рейса',\n",
              "  array([-0.09891854, -2.3625097 ], dtype=float32),\n",
              "  'Negative'),\n",
              " ('Новый маршрут электробуса свяжет Киевский вокзал и станцию метро \"Озерная\"',\n",
              "  array([-0.12348308, -2.152758  ], dtype=float32),\n",
              "  'Negative'),\n",
              " ('Популярное медицинское учреждение Приморья лишилось главного врача',\n",
              "  array([-0.08929604, -2.4601135 ], dtype=float32),\n",
              "  'Negative'),\n",
              " ('Энтони и Адетокунбо признаны лучшими игроками недели в НБА',\n",
              "  array([-0.10202026, -2.33316   ], dtype=float32),\n",
              "  'Negative'),\n",
              " ('Из Тюмени запустят новый авиарейс в Якутию',\n",
              "  array([-0.11541544, -2.2163699 ], dtype=float32),\n",
              "  'Negative'),\n",
              " ('На базе завода «Кристалл» появится Центр обучения обработке алмазов',\n",
              "  array([-0.12463823, -2.1440115 ], dtype=float32),\n",
              "  'Negative'),\n",
              " ('В Оренбурге планируют построить мусороперерабатывающий завод',\n",
              "  array([-0.11398912, -2.2281058 ], dtype=float32),\n",
              "  'Negative'),\n",
              " ('В США оценили значение «Силы Сибири» для российско-китайских отношений',\n",
              "  array([-0.08594716, -2.4966884 ], dtype=float32),\n",
              "  'Negative'),\n",
              " ('Землетрясение произошло на полуострове Святой Нос на Байкале',\n",
              "  array([-0.08977389, -2.4550116 ], dtype=float32),\n",
              "  'Negative'),\n",
              " ('Медиагруппа ARMTORG. Матвеева В.И. Патенты трубопроводной арматуры 2019',\n",
              "  array([-0.12240992, -2.160961  ], dtype=float32),\n",
              "  'Negative'),\n",
              " ('nan', array([-0.09179853, -2.433707  ], dtype=float32), 'Negative'),\n",
              " ('Курт Фрэйзер: «Грубец и Смит дают «Куньлуню» шансы на победу в каждом равном матче»',\n",
              "  array([-0.08847658, -2.468929  ], dtype=float32),\n",
              "  'Negative'),\n",
              " ('Солид Банк принял участие во встрече с резидентами ТОР и СПВ Хабаровского края',\n",
              "  array([-0.12138176, -2.168892  ], dtype=float32),\n",
              "  'Negative'),\n",
              " ('Конкурс \"Лучшая новогодняя елочная игрушка\"',\n",
              "  array([-0.096003 , -2.3909929], dtype=float32),\n",
              "  'Negative'),\n",
              " ('105 лет исполнилось Варламовской школе',\n",
              "  array([-0.10290709, -2.324941  ], dtype=float32),\n",
              "  'Negative'),\n",
              " ('«РЖД Логистика» провела успешную перевозку первого транзитного контейнера из Европы в Японию',\n",
              "  array([-0.13835706, -2.0462987 ], dtype=float32),\n",
              "  'Negative'),\n",
              " ('«Открытие Брокер»: Фондовый рынок отметил падением открытие трубопровода \"Сила Сибири\"',\n",
              "  array([-0.10833703, -2.2761877 ], dtype=float32),\n",
              "  'Negative'),\n",
              " ('Экосистема выходит на село',\n",
              "  array([-0.09097624, -2.4423008 ], dtype=float32),\n",
              "  'Negative'),\n",
              " ('«И нет конца Есенинскому чуду»',\n",
              "  array([-0.09531714, -2.397826  ], dtype=float32),\n",
              "  'Negative'),\n",
              " ('Росмолодежь осуществляет мечты - студенты ТувГУ выступили с завершающим спектаклем в рамках федерального проекта',\n",
              "  array([-0.13608976, -2.061714  ], dtype=float32),\n",
              "  'Negative'),\n",
              " ('Предвыборный штаб Д. Трампа не будет выдавать аккредитации журналистам Bloomberg News',\n",
              "  array([-0.12487457, -2.142233  ], dtype=float32),\n",
              "  'Negative'),\n",
              " ('Четверо погибших и 15 пострадавших обнаружены на месте аварии автобуса в Казахстане',\n",
              "  array([-0.10322378, -2.3220239 ], dtype=float32),\n",
              "  'Negative'),\n",
              " ('nan', array([-0.07823537, -2.5868957 ], dtype=float32), 'Negative'),\n",
              " ('Ответственные за ремонт сквера в Екатеринбурге пожаловались на «негатив»',\n",
              "  array([-0.1167642, -2.205413 ], dtype=float32),\n",
              "  'Negative'),\n",
              " ('ООО \"Триал-Инвест\" сообщает о старте открытых торгов по реализации принадлежащего ООО \"Ейская мануфактура\" земельного участка в Ейске',\n",
              "  array([-0.13746955, -2.0523002 ], dtype=float32),\n",
              "  'Negative'),\n",
              " ('Один из\\xa0подсудимых по\\xa0делу Lurk пожаловался на\\xa0администрацию СИЗО',\n",
              "  array([-0.12496243, -2.1415725 ], dtype=float32),\n",
              "  'Negative'),\n",
              " ('Активист майдана рассказал о превратившем его жизнь в ад переезде в Германию',\n",
              "  array([-0.07831021, -2.5859768 ], dtype=float32),\n",
              "  'Negative'),\n",
              " ('В Пскове протестуют против строительства автозаправки у стен монастыря',\n",
              "  array([-0.12033065, -2.1770737 ], dtype=float32),\n",
              "  'Negative'),\n",
              " ('Частный дом в КБР, где произошел взрыв, был газифицирован самовольно - компания',\n",
              "  array([-0.09210158, -2.4305606 ], dtype=float32),\n",
              "  'Negative'),\n",
              " ('20 тонн хурмы из Кыргызстана запретили ввезти в Россию',\n",
              "  array([-0.10263366, -2.3274677 ], dtype=float32),\n",
              "  'Negative'),\n",
              " ('В США выпустили 123-страничный доклад в защиту Трампа по импичменту',\n",
              "  array([-0.09551522, -2.3958468 ], dtype=float32),\n",
              "  'Negative'),\n",
              " ('Уникальные каменные изваяния возьмут под охрану в Хакасии',\n",
              "  array([-0.10050149, -2.3474128 ], dtype=float32),\n",
              "  'Negative'),\n",
              " ('Операторы просят внести поправки в закон о \"суверенном Рунете\"',\n",
              "  array([-0.06796447, -2.7225606 ], dtype=float32),\n",
              "  'Negative'),\n",
              " ('Экосистема выходит на село',\n",
              "  array([-0.08311922, -2.5287516 ], dtype=float32),\n",
              "  'Negative'),\n",
              " ('ПРЕДСТОИТ ПЯТИЛЕТКА ЗАКУПКИ ТРАКТОРОВ И КОМБАЙНОВ',\n",
              "  array([-0.11227206, -2.2424407 ], dtype=float32),\n",
              "  'Negative'),\n",
              " ('Дайджест зарубежных СМИ – 3 декабря: возвращение пошлин США и тайфун на Филиппинах',\n",
              "  array([-0.09026066, -2.4498446 ], dtype=float32),\n",
              "  'Negative'),\n",
              " ('Удостоверения личности предлагают упорядочить и добавить еще один документ',\n",
              "  array([-0.06515563, -2.7633777 ], dtype=float32),\n",
              "  'Negative'),\n",
              " ('Исторические даты.',\n",
              "  array([-0.08301204, -2.5299883 ], dtype=float32),\n",
              "  'Negative'),\n",
              " ('Медведев подписал распоряжение о продлении моратория на ЭРА-ГЛОНАСС для Дальнего Востока',\n",
              "  array([-0.11749827, -2.1995056 ], dtype=float32),\n",
              "  'Negative'),\n",
              " ('«IT-куб» откроют для детей Воронежской области',\n",
              "  array([-0.10246947, -2.3289874 ], dtype=float32),\n",
              "  'Negative'),\n",
              " ('Полезные советы',\n",
              "  array([-0.06643645, -2.7445443 ], dtype=float32),\n",
              "  'Negative'),\n",
              " ('В Москве 11 декабря пройдет финальный этап всероссийского форума «Мой бизнес»',\n",
              "  array([-0.13544689, -2.0661345 ], dtype=float32),\n",
              "  'Negative'),\n",
              " ('Следствие признало командира корабля виновным в катастрофе Superjet в Шереметьево',\n",
              "  array([-0.0954825, -2.3961742], dtype=float32),\n",
              "  'Negative'),\n",
              " ('Прорывных идей нет: вице-премьер Украины оценил проект &#34;нормандского коммюнике&#34;',\n",
              "  array([-0.08137004, -2.5491579 ], dtype=float32),\n",
              "  'Negative'),\n",
              " ('«Кудесить» будут ежегодно. В этом году лучшими стали новоуренгойцы',\n",
              "  array([-0.08705009, -2.4844804 ], dtype=float32),\n",
              "  'Negative'),\n",
              " ('В Ульяновской области аварийный комиссар местной фирмы признан виновным в попытке реализовать более 3,1 кг синтетических наркотиков',\n",
              "  array([-0.11413781, -2.226875  ], dtype=float32),\n",
              "  'Negative'),\n",
              " ('Администрация Перми закупит девять трамваев за 462 млн рублей',\n",
              "  array([-0.12284407, -2.1576328 ], dtype=float32),\n",
              "  'Negative'),\n",
              " ('Карабулакская городская газета',\n",
              "  array([-0.10273133, -2.3265643 ], dtype=float32),\n",
              "  'Negative'),\n",
              " ('Жители Сахалина и Курил могут узнать о землетрясениях в регионе',\n",
              "  array([-0.08409618, -2.517548  ], dtype=float32),\n",
              "  'Negative'),\n",
              " ('Обзор вопросов, поступивших в ОПФР по Ростовской области в октябре 2019 года',\n",
              "  array([-0.1166908, -2.2060053], dtype=float32),\n",
              "  'Negative'),\n",
              " ('Гололёд на дорогах заставил екатеринбуржцев стоять в пробках',\n",
              "  array([-0.09444556, -2.4065828 ], dtype=float32),\n",
              "  'Negative'),\n",
              " ('Серийного поджигателя машин задержали в Братске',\n",
              "  array([-0.14316168, -2.0145075 ], dtype=float32),\n",
              "  'Negative'),\n",
              " ('Кафе на месте кладбища – плохая идея. Почему новое здание на Троицкой обещает стать скандальным',\n",
              "  array([-0.1025875, -2.327894 ], dtype=float32),\n",
              "  'Negative'),\n",
              " ('Северо-восток США\\xa0замело: в\\xa0Нью-Йорке объявлено чрезвычайное положение',\n",
              "  array([-0.08428828, -2.515361  ], dtype=float32),\n",
              "  'Negative'),\n",
              " ('В столичном планетарии можно будет отправить письмо Деду Морозу',\n",
              "  array([-0.06664602, -2.7414985 ], dtype=float32),\n",
              "  'Negative'),\n",
              " ('День юриста в Управлении Минюста России по Республике Хакасия',\n",
              "  array([-0.0957761, -2.393248 ], dtype=float32),\n",
              "  'Negative'),\n",
              " ('Еще не летал и взлетит без пилота',\n",
              "  array([-0.06509308, -2.764308  ], dtype=float32),\n",
              "  'Negative'),\n",
              " ('О нарушении требований Технического регламента Таможенного союза на территории Ростовской области',\n",
              "  array([-0.08747037, -2.4798717 ], dtype=float32),\n",
              "  'Negative'),\n",
              " ('Биржи США снижаются на обострении противоречий с Китаем - данные торгов',\n",
              "  array([-0.10958587, -2.2653391 ], dtype=float32),\n",
              "  'Negative'),\n",
              " ('В гибели «Суперджета» обвинили пилота',\n",
              "  array([-0.08234081, -2.537776  ], dtype=float32),\n",
              "  'Negative'),\n",
              " ('«Аэрофлот» против птиц: Орнитолог оценил инициативу авиакомпании',\n",
              "  array([-0.10673431, -2.2903047 ], dtype=float32),\n",
              "  'Negative'),\n",
              " ('Под Белгородом перевернулся пассажирский автобус',\n",
              "  array([-0.09658244, -2.3852606 ], dtype=float32),\n",
              "  'Negative'),\n",
              " ('В квартире в центре Москвы обнаружили тело психически больной пенсионерки',\n",
              "  array([-0.0724735, -2.660552 ], dtype=float32),\n",
              "  'Negative'),\n",
              " ('nan', array([-0.08930498, -2.4600189 ], dtype=float32), 'Negative'),\n",
              " ('На Камчатке назначен новый министр ЖКХ и энергетики',\n",
              "  array([-0.11563167, -2.214604  ], dtype=float32),\n",
              "  'Negative'),\n",
              " ('Новокузнечане передали в приют для животных три центнера кормов',\n",
              "  array([-0.08013748, -2.563813  ], dtype=float32),\n",
              "  'Negative'),\n",
              " ('В Воронежской области высадят яблоневый сад на 500 га',\n",
              "  array([-0.09158437, -2.435937  ], dtype=float32),\n",
              "  'Negative'),\n",
              " ('В Бурятии из-за угрозы взрыва эвакуровали вокзал',\n",
              "  array([-0.08725026, -2.482283  ], dtype=float32),\n",
              "  'Negative'),\n",
              " ('От раздельного сбора к городу без отходов',\n",
              "  array([-0.07079111, -2.6832092 ], dtype=float32),\n",
              "  'Negative'),\n",
              " ('Проверка страхового фонда семян Новосибирской области',\n",
              "  array([-0.10127947, -2.340084  ], dtype=float32),\n",
              "  'Negative'),\n",
              " ('Зима утверждает в Петербурге «красные» пробки. ЗСД затормозили неловкие водители',\n",
              "  array([-0.092622 , -2.4251823], dtype=float32),\n",
              "  'Negative'),\n",
              " ('Президент России подписал закон о предустановке отечественного ПО на цифровую технику',\n",
              "  array([-0.07583701, -2.6168478 ], dtype=float32),\n",
              "  'Negative'),\n",
              " ('\"Рейнджерс\" Панарина проиграл \"Вегасу\" в матче НХЛ',\n",
              "  array([-0.11048993, -2.2575674 ], dtype=float32),\n",
              "  'Negative'),\n",
              " ('Запуск газопровода \"Сила Сибири\" в Китай прошел загадочно',\n",
              "  array([-0.138921 , -2.0425062], dtype=float32),\n",
              "  'Negative'),\n",
              " ('Свердловчане должны по кредитам около 100 миллиардов рублей',\n",
              "  array([-0.08720765, -2.4827497 ], dtype=float32),\n",
              "  'Negative'),\n",
              " ('Руководители спортивных федераций Прибайкалья направили президенту РФ письмо в поддержку Сергея Левченко',\n",
              "  array([-0.11042033, -2.2581635 ], dtype=float32),\n",
              "  'Negative'),\n",
              " ('Индекс роста коммунальных платежей установили в Хабаровском крае',\n",
              "  array([-0.10225178, -2.331007  ], dtype=float32),\n",
              "  'Negative'),\n",
              " ('Погрузка на сети РЖД в ноябре рухнула на 1.7%',\n",
              "  array([-0.10985313, -2.2630346 ], dtype=float32),\n",
              "  'Negative'),\n",
              " ('Власти Челябинской области увеличат число субсидированных авиарейсов',\n",
              "  array([-0.10589354, -2.2978003 ], dtype=float32),\n",
              "  'Negative'),\n",
              " ('Месси выиграл рекордный шестой \"Золотой мяч\". Алисон стал первым обладателем приза имени Льва Яшина',\n",
              "  array([-0.10345728, -2.3198788 ], dtype=float32),\n",
              "  'Negative'),\n",
              " ('Новосибирцы разработали «умный» источник питания для самолётов в Арктике',\n",
              "  array([-0.09179918, -2.4337    ], dtype=float32),\n",
              "  'Negative'),\n",
              " ('Как проверить начисления по услуге «обращение с ТКО» и куда обращаться с вопросами в Орехово-Зуеве',\n",
              "  array([-0.09047706, -2.447556  ], dtype=float32),\n",
              "  'Negative'),\n",
              " ('Бурк-ан-Брес - Роанн (03-го декабря 2019 года), ставки и коэффициенты',\n",
              "  array([-0.09495392, -2.4014654 ], dtype=float32),\n",
              "  'Negative'),\n",
              " ('Музыкальная часть XIII Международного Рождественского фестиваля искусств откроется в Новосибирской филармонии концертом камерного ансамбля «Солисты Москвы» под управлением Юрия Башмета',\n",
              "  array([-0.14980483, -1.9723899 ], dtype=float32),\n",
              "  'Negative'),\n",
              " ('Адвокат заявил о завершении дела в отношении пилота SSJ-100 Евдокимова',\n",
              "  array([-0.10727972, -2.2854762 ], dtype=float32),\n",
              "  'Negative'),\n",
              " ('Глава ВФВ Шевченко обсудил с генсеком Федерации волейбола Китая подготовку к ЧМ-2022',\n",
              "  array([-0.1188202, -2.1889658], dtype=float32),\n",
              "  'Negative'),\n",
              " ('Ник Нерс и Фрэнк Вогель – лучшие тренеры ноября',\n",
              "  array([-0.09115908, -2.4403822 ], dtype=float32),\n",
              "  'Negative'),\n",
              " ('В Барселоне испанец сознался в убийстве россиянки',\n",
              "  array([-0.08243686, -2.536658  ], dtype=float32),\n",
              "  'Negative'),\n",
              " ('Безальтернативные турбины // Кировский завод поставит установки для новых ледоколов Балтийского завода',\n",
              "  array([-0.11095243, -2.2536175 ], dtype=float32),\n",
              "  'Negative'),\n",
              " ('И не надо «ля-ля»! Это «бла-бла» всем уже надоело: губернатор пригрозил мэру прокуратурой и повысил свой федеральный рейтинг',\n",
              "  array([-0.06852321, -2.7146494 ], dtype=float32),\n",
              "  'Negative'),\n",
              " ('Орусия менен Кытай 400 млрд долларга бааланган газ т т г н ишке киргизди',\n",
              "  array([-0.09620008, -2.38904   ], dtype=float32),\n",
              "  'Negative'),\n",
              " ('За нацпроекты ответишь',\n",
              "  array([-0.0782325, -2.586931 ], dtype=float32),\n",
              "  'Negative'),\n",
              " ('Не стой над плитой - Экология',\n",
              "  array([-0.07227003, -2.663263  ], dtype=float32),\n",
              "  'Negative'),\n",
              " ('Дороги Киева от снега чистят почти 200 единиц спецтехники',\n",
              "  array([-0.10009108, -2.351303  ], dtype=float32),\n",
              "  'Negative'),\n",
              " ('«Огород - круглый год»: участники проекта «Ученые будущего» собрали умные теплицы для выращивания растений',\n",
              "  array([-0.09024694, -2.4499896 ], dtype=float32),\n",
              "  'Negative'),\n",
              " ('Туристский клуб АлтГУ проведет слет молодежи и студентов «Яркая Зима Алтая» с восхождением на высшую точку Алтайского края',\n",
              "  array([-0.1409269, -2.02915  ], dtype=float32),\n",
              "  'Negative'),\n",
              " ('Следователи установили виновного в крушении Superjet в «Шереметьево»',\n",
              "  array([-0.08066691, -2.557489  ], dtype=float32),\n",
              "  'Negative'),\n",
              " ('Кадровые изменения произошли в тульском минздраве',\n",
              "  array([-0.06774314, -2.7257125 ], dtype=float32),\n",
              "  'Negative'),\n",
              " ('NM Espresso: где Додон хочет построить еще два аэропорта, зачем Украине долг Молдовы за газ, и где Плахотнюк просит убежище',\n",
              "  array([-0.15232395, -1.9569412 ], dtype=float32),\n",
              "  'Negative'),\n",
              " ('Уральский миллиардер сделал себе трон из миллиона долларов. Новинку уже смогли посмотреть многие жители одного из регионов УрФО...',\n",
              "  array([-0.08842093, -2.4695315 ], dtype=float32),\n",
              "  'Negative'),\n",
              " ('Власти продлили программу льготного автокредитования на прежних условиях.',\n",
              "  array([-0.06204167, -2.81081   ], dtype=float32),\n",
              "  'Negative'),\n",
              " ('В Центре фотографии братьев Люмьер откроют выставку работ Родченко из частной коллекции',\n",
              "  array([-0.1330969, -2.082488 ], dtype=float32),\n",
              "  'Negative'),\n",
              " ('nan', array([-0.09334783, -2.417733  ], dtype=float32), 'Negative'),\n",
              " ('В\\xa0Омске к\\xa0Новому году установят огромные световые композиции',\n",
              "  array([-0.10067451, -2.3457775 ], dtype=float32),\n",
              "  'Negative'),\n",
              " ('Почему стоит запретить «детское шампанское»',\n",
              "  array([-0.07005316, -2.6933231 ], dtype=float32),\n",
              "  'Negative'),\n",
              " ('Аевит Эвалар: инструкция по применению, классификация, статьи » Энцикломедия',\n",
              "  array([-0.09539419, -2.397055  ], dtype=float32),\n",
              "  'Negative'),\n",
              " ('Школа социального предпринимательства',\n",
              "  array([-0.07889878, -2.5787795 ], dtype=float32),\n",
              "  'Negative'),\n",
              " ('Владимир Загайнов: \"Престиж профессии врача уходит под давлением факторов, которые составляют угрозу\"',\n",
              "  array([-0.09325737, -2.4186583 ], dtype=float32),\n",
              "  'Negative'),\n",
              " ('nan', array([-0.10091001, -2.3435574 ], dtype=float32), 'Negative'),\n",
              " ('400-Й МАТЧ В ИСТОРИИ',\n",
              "  array([-0.0928807, -2.4225202], dtype=float32),\n",
              "  'Negative'),\n",
              " ('nan', array([-0.08060236, -2.5582573 ], dtype=float32), 'Negative'),\n",
              " ('Новосибирцец нашел в магазине булочку с плесенью',\n",
              "  array([-0.08776993, -2.4766    ], dtype=float32),\n",
              "  'Negative'),\n",
              " ('C 1 января 2020 года субъекты микро- и малого бизнеса в Казахстане будут освобождены от уплаты налогов и от проверок сроком на 3 года, - Мамин',\n",
              "  array([-0.11445745, -2.2242348 ], dtype=float32),\n",
              "  'Negative'),\n",
              " ('Utair не дают продать активы',\n",
              "  array([-0.06613322, -2.748968  ], dtype=float32),\n",
              "  'Negative'),\n",
              " ('\"ИКС Холдинг\", CyberSystems и CyberGate создают СП',\n",
              "  array([-0.16184086, -1.9009709 ], dtype=float32),\n",
              "  'Negative'),\n",
              " ('Новые светофоры заработали в центре Петрозаводска',\n",
              "  array([-0.11917401, -2.1861656 ], dtype=float32),\n",
              "  'Negative'),\n",
              " ('ВТБ разместит 4 декабря однодневные бонды серии КС-3-335 на 75 млрд рублей',\n",
              "  array([-0.1322779, -2.08826  ], dtype=float32),\n",
              "  'Negative'),\n",
              " ('Со скидкой на Новый год // Россияне готовятся к праздникам на распродажах',\n",
              "  array([-0.09458037, -2.4052231 ], dtype=float32),\n",
              "  'Negative'),\n",
              " ('Губернатор Чукотки вручит выпускникам вузов страны стипендии',\n",
              "  array([-0.11116377, -2.2518184 ], dtype=float32),\n",
              "  'Negative'),\n",
              " ('БАДы прибавили в цене // Дешевые добавки уходят из аптек',\n",
              "  array([-0.0829993, -2.530136 ], dtype=float32),\n",
              "  'Negative'),\n",
              " ('Вашингтон Уизардс - Орландо Мэджик (04 декабря), ставки и коэффициенты',\n",
              "  array([-0.10569128, -2.299613  ], dtype=float32),\n",
              "  'Negative'),\n",
              " ('Сетевая компания привлечена к административной ответственности за срыв начала отопительного сезона',\n",
              "  array([-0.09529167, -2.3980803 ], dtype=float32),\n",
              "  'Negative'),\n",
              " ('ЭТП предлагают обновить требования к операторам площадок для госзакупок',\n",
              "  array([-0.09686045, -2.3825238 ], dtype=float32),\n",
              "  'Negative'),\n",
              " ('Глава \"Аэрофлота\" обвинил российские аэропорты в повышении цен на услуги',\n",
              "  array([-0.11510843, -2.2188828 ], dtype=float32),\n",
              "  'Negative'),\n",
              " ('Бургер из гороха и арбузный кофе. В Белгороде показали продукты будущего',\n",
              "  array([-0.08937813, -2.459236  ], dtype=float32),\n",
              "  'Negative'),\n",
              " ('Суд арестовал около десяти миллионов рублей бывшего полпреда ДФО',\n",
              "  array([-0.09299269, -2.4213705 ], dtype=float32),\n",
              "  'Negative'),\n",
              " ('Публичные слушания',\n",
              "  array([-0.07668631, -2.6061306 ], dtype=float32),\n",
              "  'Negative'),\n",
              " ('Покушение на Соболева: \"Правый сектор\" опровергает причастность Гергерта к движению',\n",
              "  array([-0.09665301, -2.3845649 ], dtype=float32),\n",
              "  'Negative'),\n",
              " ('Суд арестовал около десяти миллионов рублей бывшего полпреда Ишаева',\n",
              "  array([-0.10135111, -2.3394125 ], dtype=float32),\n",
              "  'Negative'),\n",
              " ('nan', array([-0.09523001, -2.3986974 ], dtype=float32), 'Negative'),\n",
              " ('Два плавдока передали судоремонтному заводу Черноморского флота в Севастополе',\n",
              "  array([-0.12516029, -2.1400878 ], dtype=float32),\n",
              "  'Negative'),\n",
              " ('Елочные базары в Курске начнут работать с середины декабря',\n",
              "  array([-0.10842078, -2.2754567 ], dtype=float32),\n",
              "  'Negative'),\n",
              " ('Рынок акций РФ открылся снижением индексов РТС и МосБиржи на 0,1-0,2%',\n",
              "  array([-0.14692824, -1.9903756 ], dtype=float32),\n",
              "  'Negative'),\n",
              " ('Налог GAFA может повысить пошлины на импорт из Франции в США на 100%',\n",
              "  array([-0.10627628, -2.2943807 ], dtype=float32),\n",
              "  'Negative'),\n",
              " ('Медведев обсудит с премьер-министром Монголии двустороннее сотрудничество',\n",
              "  array([-0.09997081, -2.3524466 ], dtype=float32),\n",
              "  'Negative'),\n",
              " ('Томичи участвуют во Всероссийском форуме приёмных семей',\n",
              "  array([-0.12250517, -2.1602292 ], dtype=float32),\n",
              "  'Negative'),\n",
              " ('Пенсионным фондам нашли источник компенсации расходов',\n",
              "  array([-0.06967019, -2.6986156 ], dtype=float32),\n",
              "  'Negative'),\n",
              " ('В Екатеринбурге автомобиль протаранил ехавшую на вызов к ребёнку машину скорой',\n",
              "  array([-0.0863469, -2.4922452], dtype=float32),\n",
              "  'Negative'),\n",
              " ('Убийца MacBook Air от Redmi поступит в продажу на следующей неделе',\n",
              "  array([-0.08364521, -2.522702  ], dtype=float32),\n",
              "  'Negative'),\n",
              " ('«Управление основанное на данных - CHIEF DATA OFFICER в органах власти»',\n",
              "  array([-0.07553618, -2.6206741 ], dtype=float32),\n",
              "  'Negative'),\n",
              " ('В США заявили, что российские приложения могут нести «угрозу»',\n",
              "  array([-0.08032496, -2.5615685 ], dtype=float32),\n",
              "  'Negative'),\n",
              " ('Сотрудники ГИБДД и РЖД провели совместную операцию в Куяре',\n",
              "  array([-0.14097287, -2.0288465 ], dtype=float32),\n",
              "  'Negative'),\n",
              " ('МЧС\\xa0объявило штормовое предупреждение в\\xa0море у\\xa0западного побережья Сахалина',\n",
              "  array([-0.0998721, -2.3533847], dtype=float32),\n",
              "  'Negative'),\n",
              " ('Инвестора вернули на лесную дорогу',\n",
              "  array([-0.08874421, -2.4660406 ], dtype=float32),\n",
              "  'Negative'),\n",
              " ('Сыновья Лукашенко в ОАЭ, прохожие-спасатели, прогноз на зиму и самые красивые елки - все за вчера',\n",
              "  array([-0.09796385, -2.3717382 ], dtype=float32),\n",
              "  'Negative'),\n",
              " ('Сельчанам станет проще сдавать нормативы ГТО',\n",
              "  array([-0.07664037, -2.6067064 ], dtype=float32),\n",
              "  'Negative'),\n",
              " ('Продавцам снюса и насвая может грозить уголовное наказание',\n",
              "  array([-0.05877739, -2.863243  ], dtype=float32),\n",
              "  'Negative'),\n",
              " ('nan', array([-0.09111195, -2.4408762 ], dtype=float32), 'Negative'),\n",
              " ('1 декабря на набережной открылся новый мультицентр \"Контора пароходства\".',\n",
              "  array([-0.10574469, -2.2991345 ], dtype=float32),\n",
              "  'Negative'),\n",
              " ('В компании SOCAR назначен новый вице-президент',\n",
              "  array([-0.10442854, -2.311012  ], dtype=float32),\n",
              "  'Negative'),\n",
              " ('В омском отделении Сбербанка вновь сменилось руководство',\n",
              "  array([-0.10255781, -2.328169  ], dtype=float32),\n",
              "  'Negative'),\n",
              " ('Мантуров оценил возможность удорожания гаджетов из-за закона о российском софте',\n",
              "  array([-0.07811332, -2.5883963 ], dtype=float32),\n",
              "  'Negative'),\n",
              " ('Смольный уперся в землю: власти снова обсуждают возможный разрыв контракта с «Метростроем»',\n",
              "  array([-0.07357821, -2.64597   ], dtype=float32),\n",
              "  'Negative'),\n",
              " ('Украинские силовики заявили о 5 обстрелах в Донбассе за сутки',\n",
              "  array([-0.09214398, -2.430121  ], dtype=float32),\n",
              "  'Negative'),\n",
              " ('За неделю сжиженный газ на АЗС подорожал на 0,3 грн/л – UPECO (Украина).',\n",
              "  array([-0.09062439, -2.4460022 ], dtype=float32),\n",
              "  'Negative'),\n",
              " ('Совещание с представителями Северо-Кавказкой железной дороги-филиалом ОАО «РЖД» по актуальным вопросам',\n",
              "  array([-0.12577775, -2.1354682 ], dtype=float32),\n",
              "  'Negative'),\n",
              " ('Хабаровчанин стал победителем Первенства мира по всестилевому карате',\n",
              "  array([-0.11251209, -2.2404227 ], dtype=float32),\n",
              "  'Negative'),\n",
              " ('Мнение ученого: транспортной схеме Владивостока нужна экспертиза Минтранса или Минстроя',\n",
              "  array([-0.13660973, -2.058154  ], dtype=float32),\n",
              "  'Negative'),\n",
              " ('Шестун попрощался с детьми',\n",
              "  array([-0.06624802, -2.7472901 ], dtype=float32),\n",
              "  'Negative'),\n",
              " ('Знакомая экс-полковника Захарченко стала фигурантом дела о незаконной банковской деятельности',\n",
              "  array([-0.09625173, -2.388528  ], dtype=float32),\n",
              "  'Negative'),\n",
              " ('Стало известно, что войдет в подарки для алтайских школьников',\n",
              "  array([-0.07873186, -2.5808156 ], dtype=float32),\n",
              "  'Negative'),\n",
              " ('Воробьев анонсировал строительство новых дорожных объектов',\n",
              "  array([-0.09883939, -2.3632712 ], dtype=float32),\n",
              "  'Negative'),\n",
              " ('Четыре новые площадки ТОР могут появиться в Якутии',\n",
              "  array([-0.12575315, -2.135652  ], dtype=float32),\n",
              "  'Negative'),\n",
              " ('На \"АвтоВАЗе\" начали производство обновленной Lada 4x4 - «Автоновости»',\n",
              "  array([-0.14027512, -2.0334678 ], dtype=float32),\n",
              "  'Negative'),\n",
              " ('Аддитивные технологии – перспектива судостроения',\n",
              "  array([-0.09830491, -2.3684318 ], dtype=float32),\n",
              "  'Negative'),\n",
              " ('Дальневосточное управление Ростехнадзора информирует об аварии, по которой завершено расследование',\n",
              "  array([-0.09461226, -2.404901  ], dtype=float32),\n",
              "  'Negative'),\n",
              " ('Поставка Россией Сербии комплексов \"Панцирь\" завершится в ближайшие месяцы - посол в РФ',\n",
              "  array([-0.12875232, -2.1135504 ], dtype=float32),\n",
              "  'Negative'),\n",
              " ('Обзор: Энергетическое сотрудничество между Китаем и Россией вышло на новый уровень',\n",
              "  array([-0.07431002, -2.6364348 ], dtype=float32),\n",
              "  'Negative'),\n",
              " ('Спикер Рады уверен, что на Украине живет только один народ',\n",
              "  array([-0.10531421, -2.3030014 ], dtype=float32),\n",
              "  'Negative'),\n",
              " ('Приглашаем журналистов принять участие в региональном этапе Всероссийского конкурса «Экономическое возрождение России» по итогам 2019 года.',\n",
              "  array([-0.13287126, -2.0840745 ], dtype=float32),\n",
              "  'Negative'),\n",
              " ('МТС назвал ТОП-6 торговых центров Иркутска по следам «Черной пятницы»',\n",
              "  array([-0.11106296, -2.2526755 ], dtype=float32),\n",
              "  'Negative'),\n",
              " ('Адвокат заявил о завершении дела в отношении пилота SSJ-100 Евдокимова',\n",
              "  array([-0.09819275, -2.3695173 ], dtype=float32),\n",
              "  'Negative'),\n",
              " ('Глобальная катастрофа: ученые предсказали голод по всей Земле',\n",
              "  array([-0.06350987, -2.7881474 ], dtype=float32),\n",
              "  'Negative'),\n",
              " ('Минздрав региона принял оперативные меры для организации работы флюорографа в Искитиме',\n",
              "  array([-0.10527816, -2.3033264 ], dtype=float32),\n",
              "  'Negative'),\n",
              " ('Какие объекты откроют в Островце до конца года',\n",
              "  array([-0.09099223, -2.442132  ], dtype=float32),\n",
              "  'Negative'),\n",
              " ('Основные новости дня на 10:45 мск, вторник, 3 декабря',\n",
              "  array([-0.09506677, -2.4003325 ], dtype=float32),\n",
              "  'Negative'),\n",
              " ('Доллар дешевеет в начале торгов на \"МосБирже\"',\n",
              "  array([-0.11894679, -2.1879632 ], dtype=float32),\n",
              "  'Negative'),\n",
              " ('Владельцам старых «Мазд» бесплатно заменят задние фонари',\n",
              "  array([-0.10393196, -2.315535  ], dtype=float32),\n",
              "  'Negative'),\n",
              " ('Анна Минькова провела селекторное совещание по сдаче соцобъектов',\n",
              "  array([-0.22736418, -1.5927314 ], dtype=float32),\n",
              "  'Negative'),\n",
              " ('Премиальное жилье по ипотеке покупают чаще',\n",
              "  array([-0.07857142, -2.5827749 ], dtype=float32),\n",
              "  'Negative'),\n",
              " ('Директора омского ДРСУ-2 оштрафовали на 300 тысяч рублей',\n",
              "  array([-0.13416272, -2.0750334 ], dtype=float32),\n",
              "  'Negative'),\n",
              " ('В Новокуйбышевске нашли 200 незаконных построек в охранных зонах теплосете',\n",
              "  array([-0.11101121, -2.253116  ], dtype=float32),\n",
              "  'Negative'),\n",
              " ('Итоги всероссийской акции Стоп ВИЧ/СПИД подвели в Хабаровском крае',\n",
              "  array([-0.11968  , -2.1821766], dtype=float32),\n",
              "  'Negative'),\n",
              " ('Компания En+ Group объединила управление автопарком из 3000 транспортных средств с помощью «1С»',\n",
              "  array([-0.12721172, -2.1248343 ], dtype=float32),\n",
              "  'Negative'),\n",
              " ('Приглашение для СМИ',\n",
              "  array([-0.0783747, -2.5851858], dtype=float32),\n",
              "  'Negative'),\n",
              " ('Нихао! Ноябрьские газовики запустили «Силу Сибири» в Якутии',\n",
              "  array([-0.11522806, -2.2179027 ], dtype=float32),\n",
              "  'Negative'),\n",
              " ('Над районами не властвует. Транспортные компании «Властелин» заявили о прекращении межмуниципальных перевозок',\n",
              "  array([-0.08739161, -2.480734  ], dtype=float32),\n",
              "  'Negative'),\n",
              " ('Арбитражный суд Амурской области принял иск ПАО \"Восточный экспресс банк\" к \"Эвизон Холдингз Лимитед\" и Майклу Калви о возмещении причиненных корпорации убытков в размере 8,8 млрд рублей',\n",
              "  array([-0.186265 , -1.7722721], dtype=float32),\n",
              "  'Negative'),\n",
              " ('Аукционы ОФЗ: Минфин может вновь выбрать выпуск с короткой дюрацией, - Максим\\xa0Коровин, старший стратег \"ВТБ Капитал\"',\n",
              "  array([-0.13085611, -2.0983713 ], dtype=float32),\n",
              "  'Negative'),\n",
              " ('Безопасность доступна всем',\n",
              "  array([-0.07131197, -2.6761348 ], dtype=float32),\n",
              "  'Negative'),\n",
              " ('В Москве вырос спрос на жилье без прописки',\n",
              "  array([-0.08664122, -2.488987  ], dtype=float32),\n",
              "  'Negative'),\n",
              " ('Следователи назвали виновного в крушении самолета в Шереметьево, в котором погиб 41 человек',\n",
              "  array([-0.08582966, -2.497999  ], dtype=float32),\n",
              "  'Negative'),\n",
              " ('Redmi K30 позирует на официальной картинке в новом цвете',\n",
              "  array([-0.10545164, -2.3017654 ], dtype=float32),\n",
              "  'Negative'),\n",
              " ('От проблем не застрахован никто. Объясняем, почему ходить к психотерапевту - не стыдно',\n",
              "  array([-0.07133905, -2.6757689 ], dtype=float32),\n",
              "  'Negative'),\n",
              " ('К Azimut Hotels присоединяется ярославский отель',\n",
              "  array([-0.13856632, -2.0448892 ], dtype=float32),\n",
              "  'Negative'),\n",
              " ('СМИ: корейцы начали выпуск конкурента BMW X5 (фото)',\n",
              "  array([-0.1091797, -2.268853 ], dtype=float32),\n",
              "  'Negative'),\n",
              " ('«Машину разорвало на части»: в Ростове автомобиль врезался в столб',\n",
              "  array([-0.08100018, -2.5535307 ], dtype=float32),\n",
              "  'Negative'),\n",
              " ('Город Бузулук определили как самое привлекательное в инвестиционном плане муниципальное образование Оренбургской области',\n",
              "  array([-0.09164768, -2.435277  ], dtype=float32),\n",
              "  'Negative'),\n",
              " ('ЖК «Царицыно»: выданы первые ключи от квартир в одном из корпусов',\n",
              "  array([-0.11813647, -2.1944013 ], dtype=float32),\n",
              "  'Negative'),\n",
              " ('Более 130 тысяч рублей задолжала тюменская компания своим сотрудникам',\n",
              "  array([-0.0810979, -2.552373 ], dtype=float32),\n",
              "  'Negative'),\n",
              " ('Чтить ли орфографию?',\n",
              "  array([-0.07101531, -2.6801565 ], dtype=float32),\n",
              "  'Negative'),\n",
              " ('«Мы сами строим свою жизнь».Инвалидность не преграда для достижения счастья',\n",
              "  array([-0.06466944, -2.7706265 ], dtype=float32),\n",
              "  'Negative'),\n",
              " ('Обида курильщицы: большинство нарушений в детской больнице Златоуста не подтвердилось',\n",
              "  array([-0.09489927, -2.4020138 ], dtype=float32),\n",
              "  'Negative'),\n",
              " ('В Красногорске сдан еще один дом Urban Group | Новости загородной недвижимости Москвы на Cottage.ru',\n",
              "  array([-0.15258525, -1.9553542 ], dtype=float32),\n",
              "  'Negative'),\n",
              " ('В последнюю субботу осени чебоксарские специалисты ЖКХ вышли в очередной рейд.',\n",
              "  array([-0.09442908, -2.4067488 ], dtype=float32),\n",
              "  'Negative'),\n",
              " ('Следователи установили виновного в гибели Superjet в мае этого года',\n",
              "  array([-0.08439872, -2.5141058 ], dtype=float32),\n",
              "  'Negative'),\n",
              " ('СВФУ: Студенты-северяне нуждаются в господдержке',\n",
              "  array([-0.08938434, -2.4591696 ], dtype=float32),\n",
              "  'Negative'),\n",
              " ('Гулявшая по морозу девушка в сланцах удивила новокузнечан',\n",
              "  array([-0.08901874, -2.463088  ], dtype=float32),\n",
              "  'Negative'),\n",
              " ('Компания «Эрмизон» разработала прибор для лечения ран',\n",
              "  array([-0.11378903, -2.229764  ], dtype=float32),\n",
              "  'Negative'),\n",
              " ('Автоматизированный контроль техпроцесса позволяет сэкономить миллионы рублей',\n",
              "  array([-0.08598129, -2.4963078 ], dtype=float32),\n",
              "  'Negative'),\n",
              " ('Молочный завод выполнил требования Управления Россельхознадзора по Иркутской области и Республики Бурятия',\n",
              "  array([-0.12111755, -2.1709416 ], dtype=float32),\n",
              "  'Negative'),\n",
              " ('Новое назначение: у Высшей школы музыки сменился ректор',\n",
              "  array([-0.0772563, -2.5990057], dtype=float32),\n",
              "  'Negative'),\n",
              " ('Подписан закон, запрещающий продажу гаджетов без предустановки российского ПО',\n",
              "  array([-0.07828938, -2.5862324 ], dtype=float32),\n",
              "  'Negative'),\n",
              " ('Явка к следователю провалена // СК сообщил о розыске бывшего метростроителя Юрия Гаранина',\n",
              "  array([-0.11257356, -2.2399075 ], dtype=float32),\n",
              "  'Negative'),\n",
              " ('В Рубцовском филиале ЦДНИТТ «Наследники Ползунова» прошел региональный тур ДНК Фонда Андрея Мельниченко',\n",
              "  array([-0.15829045, -1.9214251 ], dtype=float32),\n",
              "  'Negative'),\n",
              " ('На Алтае в лесу всю ночь искали человека',\n",
              "  array([-0.07469653, -2.6314368 ], dtype=float32),\n",
              "  'Negative'),\n",
              " ('Каждый житель Гродно может стать персональным Дедом Морозом для сироты',\n",
              "  array([-0.07292588, -2.6545522 ], dtype=float32),\n",
              "  'Negative'),\n",
              " ('Потребителям тепла в Южном и Юго-Западном районах Сызрани необходимо производить оплату на счета Т Плюс',\n",
              "  array([-0.11016443, -2.260358  ], dtype=float32),\n",
              "  'Negative'),\n",
              " ('Правительство РФ за неделю предоставит ликвидности на 57 млрд руб — ЦБ',\n",
              "  array([-0.09593661, -2.3916523 ], dtype=float32),\n",
              "  'Negative'),\n",
              " ('Дождь и снег: погода в Ростовской области',\n",
              "  array([-0.08166989, -2.5456262 ], dtype=float32),\n",
              "  'Negative'),\n",
              " ('Лад по-соседски',\n",
              "  array([-0.07080177, -2.6830635 ], dtype=float32),\n",
              "  'Negative'),\n",
              " ('В Москве заочно арестован еще один участник несанкционированной акции 27 июля',\n",
              "  array([-0.11180239, -2.2464027 ], dtype=float32),\n",
              "  'Negative'),\n",
              " ('Газопровод Север - Юг в Пакистане будет, но не с Ростехом',\n",
              "  array([-0.10815677, -2.2777648 ], dtype=float32),\n",
              "  'Negative'),\n",
              " ('В Краснодаре пропала 15-летняя девочка',\n",
              "  array([-0.09171272, -2.4346006 ], dtype=float32),\n",
              "  'Negative'),\n",
              " ('«Группа Агроком» простила часть долга ФК\\xa0«Ростов»',\n",
              "  array([-0.12139379, -2.168798  ], dtype=float32),\n",
              "  'Negative'),\n",
              " ('ПЕРВАЯ КОНФЕРЕНЦИЯ SILICON MOUNTAINS ПРОЙДЕТ В ЕРЕВАНЕ ПРИ ПОДДЕРЖКЕ VIVACELL-MTS',\n",
              "  array([-0.13028657, -2.1024551 ], dtype=float32),\n",
              "  'Negative'),\n",
              " ('Проект «Сила Сибири» - дорогостоящая показуха',\n",
              "  array([-0.10485092, -2.307183  ], dtype=float32),\n",
              "  'Negative'),\n",
              " ('Что случилось за ночь. Главные новости РБК',\n",
              "  array([-0.07094692, -2.6810877 ], dtype=float32),\n",
              "  'Negative'),\n",
              " ('nan', array([-0.07517488, -2.62529   ], dtype=float32), 'Negative'),\n",
              " ('У\\xa0россиян обманом отнимают деньги с\\xa0помощью опроса',\n",
              "  array([-0.06269857, -2.8006012 ], dtype=float32),\n",
              "  'Negative'),\n",
              " ('Стала известна деловая программа \"SibWoodExpo\"-2020\" в Братске',\n",
              "  array([-0.14381407, -2.0102792 ], dtype=float32),\n",
              "  'Negative'),\n",
              " ('Сколько супербактерий насчитывает ВОЗ?',\n",
              "  array([-0.07891321, -2.578603  ], dtype=float32),\n",
              "  'Negative'),\n",
              " ('СК назвал виновных в крушении SSJ-100 в Шереметьево',\n",
              "  array([-0.10396377, -2.3152447 ], dtype=float32),\n",
              "  'Negative'),\n",
              " ('В Бразилии задержали обвиняемого в подготовке нападения на президента',\n",
              "  array([-0.114696 , -2.2222703], dtype=float32),\n",
              "  'Negative'),\n",
              " ('«Признание в любви» Районное мероприятие ко Дню матери;',\n",
              "  array([-0.08284987, -2.5318642 ], dtype=float32),\n",
              "  'Negative'),\n",
              " ('Срок хранения приморской «птички» увеличили с 15 дней до 6 месяцев',\n",
              "  array([-0.10530241, -2.3031082 ], dtype=float32),\n",
              "  'Negative'),\n",
              " ('Продажа маневрового тепловоза модели ТЭМ2 М - АО САРАТОВСТРОЙСТЕКЛО - 4 000 000 RUB',\n",
              "  array([-0.13670914, -2.0574756 ], dtype=float32),\n",
              "  'Negative'),\n",
              " ('СК установил виновника крушения SSJ100',\n",
              "  array([-0.11332571, -2.2336173 ], dtype=float32),\n",
              "  'Negative'),\n",
              " ('В Тюмени реализуют крупный инвестпроект совместно с Lufthansa',\n",
              "  array([-0.10804774, -2.2787197 ], dtype=float32),\n",
              "  'Negative'),\n",
              " ('Анджелика и король',\n",
              "  array([-0.08575067, -2.4988801 ], dtype=float32),\n",
              "  'Negative'),\n",
              " ('Обход воронежского Лосево по М4 «Дон» откроют в начале 2020 года',\n",
              "  array([-0.10563025, -2.3001606 ], dtype=float32),\n",
              "  'Negative'),\n",
              " ('Московские трамваи вышли на линию в Новокузнецке',\n",
              "  array([-0.12188727, -2.1649833 ], dtype=float32),\n",
              "  'Negative'),\n",
              " ('Компания \"РусКомПолимер\" из Ленинградской области получила 20 млн рублей от Фонда Бортника',\n",
              "  array([-0.11288102, -2.237331  ], dtype=float32),\n",
              "  'Negative'),\n",
              " ('Городская хроника: важное в\\xa0Петербурге 3\\xa0декабря\\xa02019',\n",
              "  array([-0.0970922, -2.3802476], dtype=float32),\n",
              "  'Negative'),\n",
              " ('В Прикамье нерадивая мать получила срок',\n",
              "  array([-0.0986451, -2.3651445], dtype=float32),\n",
              "  'Negative'),\n",
              " ('Волгоградских предпринимателей обучают инновационным методам управления',\n",
              "  array([-0.10921689, -2.2685306 ], dtype=float32),\n",
              "  'Negative'),\n",
              " ('Глава «Аэрофлота» обвинил 17 аэропортов в резком подорожании услуг',\n",
              "  array([-0.09566874, -2.3943162 ], dtype=float32),\n",
              "  'Negative'),\n",
              " ('NetApp Insight Moscow 2019',\n",
              "  array([-0.11771321, -2.1977835 ], dtype=float32),\n",
              "  'Negative'),\n",
              " ('Бренд Hotel Indigo сети IHG дебютирует в Москве',\n",
              "  array([-0.12064187, -2.1746433 ], dtype=float32),\n",
              "  'Negative'),\n",
              " ('Вместо рывка - Деградация',\n",
              "  array([-0.08736878, -2.480984  ], dtype=float32),\n",
              "  'Negative'),\n",
              " ('Путин отметил важную роль гуманитарной сферы в наращивании международного сотрудничества',\n",
              "  array([-0.08340418, -2.5254693 ], dtype=float32),\n",
              "  'Negative'),\n",
              " ('«Сент-Луис» выиграл 4-й матч подряд и лидирует на Западе',\n",
              "  array([-0.10573825, -2.2991917 ], dtype=float32),\n",
              "  'Negative'),\n",
              " ('ИНТЕРВЬЮ: Спецслужбы СНГ проведут в 2020 году совместные учения на Каспии',\n",
              "  array([-0.10977975, -2.2636666 ], dtype=float32),\n",
              "  'Negative'),\n",
              " ('Трубопровод «Сила Сибири» — важный фактор для сближения Москвы и Пекина',\n",
              "  array([-0.11674649, -2.205556  ], dtype=float32),\n",
              "  'Negative'),\n",
              " ('Ван Дейк – первый игрок АПЛ за 11 лет, вошедший в топ-2 рейтинга «Золотого мяча»',\n",
              "  array([-0.10519028, -2.3041182 ], dtype=float32),\n",
              "  'Negative'),\n",
              " ('3 декабря', array([-0.07174812, -2.670253  ], dtype=float32), 'Negative'),\n",
              " ('Пассажирский автобус перевернулся в Казахстане из-за гололеда',\n",
              "  array([-0.11999714, -2.1796863 ], dtype=float32),\n",
              "  'Negative'),\n",
              " ('Минздрав купит Искитиму новый флюорограф за\\xa0200 миллионов',\n",
              "  array([-0.11240652, -2.2413104 ], dtype=float32),\n",
              "  'Negative'),\n",
              " ('Вину за крушение SSJ100 в Шереметьево возложили на пилота',\n",
              "  array([-0.12086279, -2.172922  ], dtype=float32),\n",
              "  'Negative'),\n",
              " ('В Петербурге суд вынес решение по делу ДТП с «Яндекс.Такси», в котором погибли два пассажира',\n",
              "  array([-0.08994257, -2.4532187 ], dtype=float32),\n",
              "  'Negative'),\n",
              " ('Новый торговый центр построят в крупном микрорайоне Петрозаводска',\n",
              "  array([-0.12140214, -2.1687336 ], dtype=float32),\n",
              "  'Negative'),\n",
              " ('28 ноября 2019 года в г. Москве состоялся Съезд Национальной ассоциации развития местного самоуправления',\n",
              "  array([-0.12491035, -2.1419642 ], dtype=float32),\n",
              "  'Negative'),\n",
              " ('Глава Коллегии ЕЭК рассказал о планах по продвижению евразийских брендов и проектов интеграции',\n",
              "  array([-0.09382353, -2.412885  ], dtype=float32),\n",
              "  'Negative'),\n",
              " ('Супервизия для специалистов социальных служб по вопросам повышения эффективности работы с замещающими семьями',\n",
              "  array([-0.06825067, -2.7185    ], dtype=float32),\n",
              "  'Negative'),\n",
              " ('В Искитиме НСО сломался флюорограф: поликлиника получила новый аппарат',\n",
              "  array([-0.10650885, -2.2923093 ], dtype=float32),\n",
              "  'Negative'),\n",
              " ('В Каратузском районе результатом деятельности золотодобытчиков стало загрязнение рек',\n",
              "  array([-0.09833246, -2.3681645 ], dtype=float32),\n",
              "  'Negative'),\n",
              " ('Месси получил рекордный шестой «Золотой мяч»',\n",
              "  array([-0.09320232, -2.419222  ], dtype=float32),\n",
              "  'Negative'),\n",
              " ('Катастрофа SSJ 100: вина за гибель 41 человека возложена на пилота',\n",
              "  array([-0.10724588, -2.2857745 ], dtype=float32),\n",
              "  'Negative'),\n",
              " ('Зря эвакуировали вокзал в Бурятии: в Северобайкальске мужчина сообщил о ложной угрозе',\n",
              "  array([-0.11645973, -2.2078745 ], dtype=float32),\n",
              "  'Negative'),\n",
              " ('В Узбекистане три ведомства сделали три разных заявления об отравлении семьи под Ташкентом',\n",
              "  array([-0.0818551, -2.543453 ], dtype=float32),\n",
              "  'Negative'),\n",
              " ('Биологи рассказали, как правильно определить настроение кошки',\n",
              "  array([-0.0603772, -2.8371806], dtype=float32),\n",
              "  'Negative'),\n",
              " ('Парень на «семёрке» врезался в столб в Торжке, есть пострадавшие',\n",
              "  array([-0.07846166, -2.5841203 ], dtype=float32),\n",
              "  'Negative'),\n",
              " ('Пять задержанных на польско-белорусской границе тигров добрались до Испании',\n",
              "  array([-0.1439263, -2.0095541], dtype=float32),\n",
              "  'Negative'),\n",
              " ('Чукотка претендует на восемь президентских грантов',\n",
              "  array([-0.07556481, -2.6203094 ], dtype=float32),\n",
              "  'Negative'),\n",
              " ('Тысячелетнюю историю освоения Севера представят жителям Норильска',\n",
              "  array([-0.09683675, -2.3827567 ], dtype=float32),\n",
              "  'Negative'),\n",
              " ('С 1 января вырастет максимальный размер пособия по беременности и родам',\n",
              "  array([-0.06201703, -2.8111944 ], dtype=float32),\n",
              "  'Negative'),\n",
              " ('тенденция', array([-0.06830267, -2.7177634 ], dtype=float32), 'Negative'),\n",
              " ('Столкновение четырех автомобилей парализовало движение в Новосибирске',\n",
              "  array([-0.08885165, -2.464884  ], dtype=float32),\n",
              "  'Negative'),\n",
              " ('ФБР оценило угрозу от FaceApp для будущих выборов в США',\n",
              "  array([-0.09346053, -2.416582  ], dtype=float32),\n",
              "  'Negative'),\n",
              " ('Риски снаружи и внутри. Факторы риска российской экономики',\n",
              "  array([-0.06973168, -2.6977634 ], dtype=float32),\n",
              "  'Negative'),\n",
              " ('Диагноз на миллион',\n",
              "  array([-0.06902143, -2.7076504 ], dtype=float32),\n",
              "  'Negative'),\n",
              " ('Шесть новых пациентов поставлены на учет в Центре СПИД Иркутской области по итогам федеральной акции',\n",
              "  array([-0.13164648, -2.092736  ], dtype=float32),\n",
              "  'Negative'),\n",
              " ('Миллиарды гривен. Как украинцы потратили на Черную пятницу-2019 кучу денег',\n",
              "  array([-0.09225791, -2.4289415 ], dtype=float32),\n",
              "  'Negative'),\n",
              " ('В Ревде начали строить ледовый городок. Показываем, каким он будет',\n",
              "  array([-0.07420144, -2.637843  ], dtype=float32),\n",
              "  'Negative'),\n",
              " ('Российским покупателям зарубежной недвижимости усложнили жизнь',\n",
              "  array([-0.06647538, -2.7439766 ], dtype=float32),\n",
              "  'Negative'),\n",
              " ('Кадастровая палата призывает жителей края принять участие в правовом диктанте',\n",
              "  array([-0.09104078, -2.4416234 ], dtype=float32),\n",
              "  'Negative'),\n",
              " ('6 декабря в Горно-Алтайске состоится обучающий семинар Корпорации малого и среднего предпринимательства.',\n",
              "  array([-0.10801051, -2.2790458 ], dtype=float32),\n",
              "  'Negative'),\n",
              " ('За «Черную пятницу» россияне потратили в интернет-магазинах 22 млрд рублей',\n",
              "  array([-0.1186054, -2.19067  ], dtype=float32),\n",
              "  'Negative'),\n",
              " ('В Нижневартовском филиале ТИУ состоялась ярмарка выпускников',\n",
              "  array([-0.12774976, -2.1208766 ], dtype=float32),\n",
              "  'Negative'),\n",
              " ('Многомиллиардные долги тянут завод ячеистого бетона Татарии ко дну',\n",
              "  array([-0.10182356, -2.3349936 ], dtype=float32),\n",
              "  'Negative'),\n",
              " ('Хроника событий',\n",
              "  array([-0.0701433, -2.6920815], dtype=float32),\n",
              "  'Negative'),\n",
              " ('Белорецкий деревянный мост не демонтируют, рассматриваются варианты его восстановления',\n",
              "  array([-0.08903652, -2.4628966 ], dtype=float32),\n",
              "  'Negative'),\n",
              " ('В Санкт-Петербурге начинает работу Всероссийская школа молодого лидера коренных малочисленных народов Севера',\n",
              "  array([-0.08358337, -2.5234113 ], dtype=float32),\n",
              "  'Negative'),\n",
              " ('Зону для\\xa0выгула собак создадут в\\xa0овраге у\\xa0филармонии в\\xa0Костроме',\n",
              "  array([-0.12009567, -2.178913  ], dtype=float32),\n",
              "  'Negative'),\n",
              " ('«Зима в\\xa0Подмосковье» может заинтересовать около 20\\xa0млн\\xa0туристов',\n",
              "  array([-0.09378055, -2.413322  ], dtype=float32),\n",
              "  'Negative'),\n",
              " ('Курдские боевики заявили о возвращении военных США на северо-восток Сирии для расхищения нефти',\n",
              "  array([-0.09016405, -2.4508674 ], dtype=float32),\n",
              "  'Negative'),\n",
              " ('Синоптики рассказали, когда в\\xa0столице растает выпавший снежный покров',\n",
              "  array([-0.07838804, -2.5850215 ], dtype=float32),\n",
              "  'Negative'),\n",
              " ('В Якутии нашли зубы самых северных динозавров-завропод',\n",
              "  array([-0.07556845, -2.6202633 ], dtype=float32),\n",
              "  'Negative'),\n",
              " ('Аварии на газонефтяных месторождениях. Как с ними борются в Казахстане',\n",
              "  array([-0.08815476, -2.4724145 ], dtype=float32),\n",
              "  'Negative'),\n",
              " ('Фургал от лица жителей Хабаровского края выразил соболезнования в связи с гибелью людей в Забайкалье',\n",
              "  array([-0.11453868, -2.2235658 ], dtype=float32),\n",
              "  'Negative'),\n",
              " ('О проведении торжественного собрания, посвященного празднованию Дня юриста',\n",
              "  array([-0.07377633, -2.6433787 ], dtype=float32),\n",
              "  'Negative'),\n",
              " ('«Видеонаблюдение» от «Ростелекома» ускоряет Интернет в два раза',\n",
              "  array([-0.12160303, -2.1671786 ], dtype=float32),\n",
              "  'Negative'),\n",
              " ('Дело утопающих. Госкомпании назначили ответственными за\\xa0повышение производительности труда',\n",
              "  array([-0.07320712, -2.6508427 ], dtype=float32),\n",
              "  'Negative'),\n",
              " ('На одном из предприятий Бугуруслана сотрудникам задолжали 3,5 миллиона рублей',\n",
              "  array([-0.10888873, -2.2713792 ], dtype=float32),\n",
              "  'Negative'),\n",
              " ('Мобильный офис Мосэнергосбыта проведет прием клиентов в селе Былово',\n",
              "  array([-0.14182502, -2.0232353 ], dtype=float32),\n",
              "  'Negative'),\n",
              " ('В «Тамбовэнерго» за десять месяцев отремонтировали порядка 729 километров воздушных ЛЭП',\n",
              "  array([-0.12805961, -2.118606  ], dtype=float32),\n",
              "  'Negative'),\n",
              " ('ФБР назвало приложение FaceApp угрозой национальной безопасности',\n",
              "  array([-0.10155436, -2.3375082 ], dtype=float32),\n",
              "  'Negative'),\n",
              " ('Звание защитника Родины оценено по достоинству',\n",
              "  array([-0.0712004, -2.6776457], dtype=float32),\n",
              "  'Negative'),\n",
              " ('В Сочи пройдет открытая сессия по корпоративному волонтёрству Росатома',\n",
              "  array([-0.08266122, -2.5340512 ], dtype=float32),\n",
              "  'Negative'),\n",
              " ('На фестивале \"Неделя российского кино\" в Нью-Йорке покажут 18 фильмов',\n",
              "  array([-0.12930493, -2.109538  ], dtype=float32),\n",
              "  'Negative'),\n",
              " ('Решения совета директоров (наблюдательного совета): Общество с ограниченной ответственностью \"Каркаде\"',\n",
              "  array([-0.0833941, -2.5255847], dtype=float32),\n",
              "  'Negative'),\n",
              " ('Власти Челябинской области увеличат число субсидированных авиарейсов',\n",
              "  array([-0.10574158, -2.2991624 ], dtype=float32),\n",
              "  'Negative'),\n",
              " ('В Москве прошел VIII Международный форум Корпоративное волонтерство: бизнес и общество',\n",
              "  array([-0.0922666, -2.4288516], dtype=float32),\n",
              "  'Negative'),\n",
              " ('РОСТ ЕСТЬ, НО ДЕФИЦИТ ОСТАЛСЯ',\n",
              "  array([-0.10466918, -2.3088284 ], dtype=float32),\n",
              "  'Negative'),\n",
              " ('Из-за выпавшего за ночь снега Белгород встал в огромной пробке',\n",
              "  array([-0.08298954, -2.5302477 ], dtype=float32),\n",
              "  'Negative'),\n",
              " ('Венгрия решила присоединиться к российскому Евразийскому банку развития',\n",
              "  array([-0.09227172, -2.4287992 ], dtype=float32),\n",
              "  'Negative'),\n",
              " ('Эхономика : Анна Князева',\n",
              "  array([-0.09136658, -2.4382112 ], dtype=float32),\n",
              "  'Negative'),\n",
              " ('Под Лондоном авто врезалось в толпу, погиб ребенок',\n",
              "  array([-0.07799601, -2.589842  ], dtype=float32),\n",
              "  'Negative'),\n",
              " ('40 тысяч с футболиста и 14 - с артиста',\n",
              "  array([-0.08674222, -2.4878724 ], dtype=float32),\n",
              "  'Negative'),\n",
              " ('Первый успех на «ВЭБ Арене»: «Арсенал» опубликовал победное фото',\n",
              "  array([-0.11740892, -2.2002225 ], dtype=float32),\n",
              "  'Negative'),\n",
              " ('Госжилинспекция: Жильцы затопленных квартир в энгельсской Летке могут требовать возмещения ущерба',\n",
              "  array([-0.08692781, -2.4858265 ], dtype=float32),\n",
              "  'Negative'),\n",
              " ('СКР ЯНАО подтвердил факт задержания топ-менеджера «Салехардэнерго» за взятку (ФОТО)',\n",
              "  array([-0.11784004, -2.1967683 ], dtype=float32),\n",
              "  'Negative'),\n",
              " ('Предоставление услуги «Выдача охотничьих билетов единого федерального образца» на базе МАУ МФЦ Семикаракорского района.',\n",
              "  array([-0.15070453, -1.96684   ], dtype=float32),\n",
              "  'Negative'),\n",
              " ('Более 80 проектов из Хабаровского края претендуют на получение Президентских грантов',\n",
              "  array([-0.11119864, -2.2515218 ], dtype=float32),\n",
              "  'Negative'),\n",
              " ('СМИ: в Бразилии задержали подозреваемого в подготовке покушения на президента',\n",
              "  array([-0.12332419, -2.153967  ], dtype=float32),\n",
              "  'Negative'),\n",
              " ('О предоставлении регионального материнского (семейного) капитала в связи с рождением второго ребёнка',\n",
              "  array([-0.07115799, -2.6782207 ], dtype=float32),\n",
              "  'Negative'),\n",
              " ('Известная сеть продуктовых магазинов закрывается в Петрозаводске',\n",
              "  array([-0.12046171, -2.1760495 ], dtype=float32),\n",
              "  'Negative'),\n",
              " ('Бокс. Уайлдер и Фьюри проведут повторный бой',\n",
              "  array([-0.09206461, -2.4309433 ], dtype=float32),\n",
              "  'Negative'),\n",
              " ('Венгрия решила присоединиться к российскому Евразийскому банку развития',\n",
              "  array([-0.10325678, -2.3217201 ], dtype=float32),\n",
              "  'Negative'),\n",
              " ('США: ДО 25 ДЕКАБРЯ ПРИМУТ САНКЦИИ ПРОТИВ \"СЕВЕРНОГО ПОТОКА-2\"',\n",
              "  array([-0.1107337, -2.2554834], dtype=float32),\n",
              "  'Negative'),\n",
              " ('Груз стремится на восток',\n",
              "  array([-0.07265699, -2.658115  ], dtype=float32),\n",
              "  'Negative'),\n",
              " ('Обрушение моста в Оренбурге: угроза обрушения конструкций не снята',\n",
              "  array([-0.1161126, -2.2106895], dtype=float32),\n",
              "  'Negative'),\n",
              " ('Первый этап капитального ремонта школы № 2 г. Грязовца завершен',\n",
              "  array([-0.1190104, -2.18746  ], dtype=float32),\n",
              "  'Negative'),\n",
              " ('Роскомнадзор заблокировал домен одного из крупнейших фотобанков Shutterstock',\n",
              "  array([-0.14403684, -2.0088403 ], dtype=float32),\n",
              "  'Negative'),\n",
              " ('ОСОБЫЙ СЛУЧАЙ. \"МЫ НЕ ОСТАЛИСЬ ОДИН НА ОДИН СО СВОЕЙ БЕДОЙ\"',\n",
              "  array([-0.11950103, -2.1835861 ], dtype=float32),\n",
              "  'Negative'),\n",
              " ('«Заплатил за газ – и нет пени!» - стартовала предновогодняя акция от компании «Газпром межрегионгаз Краснодар»',\n",
              "  array([-0.12464644, -2.1439502 ], dtype=float32),\n",
              "  'Negative'),\n",
              " ('Венгрия заявляет о готовности к переговорам с Газпромом о новой сделке по поставкам газа',\n",
              "  array([-0.08440639, -2.514018  ], dtype=float32),\n",
              "  'Negative'),\n",
              " ('Спикер Рады заявил о единственном народе на Украине',\n",
              "  array([-0.08316375, -2.5282378 ], dtype=float32),\n",
              "  'Negative'),\n",
              " ('В Нижегородской области задержана преступная группировка',\n",
              "  array([-0.21549922, -1.6406133 ], dtype=float32),\n",
              "  'Negative'),\n",
              " ('Сергей Ситников поручил отремонтировать автомобильный мост в Буе',\n",
              "  array([-0.13990423, -2.0359335 ], dtype=float32),\n",
              "  'Negative'),\n",
              " ('Роскачество проверило приложения для заказа такси',\n",
              "  array([-0.05885269, -2.8620005 ], dtype=float32),\n",
              "  'Negative'),\n",
              " ('В Рыбинске 18-летний юноша заставил нового знакомого скинуть ему 60 тысяч',\n",
              "  array([-0.08531347, -2.503776  ], dtype=float32),\n",
              "  'Negative'),\n",
              " ('Коробка рычала: На мексиканской границе задержали посылку с необычным содержимым - видео',\n",
              "  array([-0.08726347, -2.4821377 ], dtype=float32),\n",
              "  'Negative'),\n",
              " ('«Дикси» заплатит 100 тысяч штрафа за просрочку',\n",
              "  array([-0.10709649, -2.2870955 ], dtype=float32),\n",
              "  'Negative'),\n",
              " ('Куальярелла забил 156-й гол в Серии А и делит 19-е место в истории с Манчини и Индзаги',\n",
              "  array([-0.09647593, -2.3863122 ], dtype=float32),\n",
              "  'Negative'),\n",
              " ('Рыба его мечты',\n",
              "  array([-0.06786467, -2.7239792 ], dtype=float32),\n",
              "  'Negative'),\n",
              " ('Глава города Березники стал меценатом Пермского Политеха',\n",
              "  array([-0.10688633, -2.2889562 ], dtype=float32),\n",
              "  'Negative'),\n",
              " ('Павел Завальный: «Сила Сибири» позволит России занять заметную долю газового рынка Китая',\n",
              "  array([-0.09102347, -2.441805  ], dtype=float32),\n",
              "  'Negative'),\n",
              " ('Воздушное сообщение между югом и севером Сахалина нарушено из-за метели',\n",
              "  array([-0.10394249, -2.3154383 ], dtype=float32),\n",
              "  'Negative'),\n",
              " ('Получить шенгенскую визу в Данию можно менее чем за 10 дней - посол в РФ',\n",
              "  array([-0.10980699, -2.2634325 ], dtype=float32),\n",
              "  'Negative'),\n",
              " ('В следующем году военные на территории Бурятии проведут около 80 учений',\n",
              "  array([-0.12740117, -2.1234388 ], dtype=float32),\n",
              "  'Negative'),\n",
              " ('Митрополит Антоний: каждая поместная церковь ответственна за то, что происходит в православном мире',\n",
              "  array([-0.07629748, -2.6110222 ], dtype=float32),\n",
              "  'Negative'),\n",
              " ('«Золотой мяч»: жена и дети Месси записали трогательное видео в честь лучшего футболиста мира',\n",
              "  array([-0.09868041, -2.3648033 ], dtype=float32),\n",
              "  'Negative'),\n",
              " ('К сведению подписчиков - анонс фоторепортажей',\n",
              "  array([-0.08730171, -2.481719  ], dtype=float32),\n",
              "  'Negative'),\n",
              " ('Минькова: на Кубани не хватает 1,6 тыс. педагогов',\n",
              "  array([-0.10702526, -2.2877254 ], dtype=float32),\n",
              "  'Negative'),\n",
              " ('Предельный индекс роста стоимости коммунальных услуг установлен для всех районов края',\n",
              "  array([-0.07610241, -2.6134849 ], dtype=float32),\n",
              "  'Negative'),\n",
              " ('Лекарства в России выросли в цене на 7%',\n",
              "  array([-0.08700299, -2.4849994 ], dtype=float32),\n",
              "  'Negative'),\n",
              " ('Смарт-поезда вместо тяжёлых грузовиков',\n",
              "  array([-0.0864862, -2.4907022], dtype=float32),\n",
              "  'Negative'),\n",
              " ('Приставы просят жителей помочь в поисках трёхлетнего ребёнка в Прикамье',\n",
              "  array([-0.08801699, -2.4739113 ], dtype=float32),\n",
              "  'Negative'),\n",
              " ('В Сочи рекомендовали не выходить в горы из-за ветра',\n",
              "  array([-0.08307095, -2.529308  ], dtype=float32),\n",
              "  'Negative'),\n",
              " ('В Башкирии сотрудник телефонной компании «сливал» информацию об абонентах',\n",
              "  array([-0.08243555, -2.536673  ], dtype=float32),\n",
              "  'Negative'),\n",
              " ('Рубль слегка повышается к доллару и евро на фоне дорожающей нефти',\n",
              "  array([-0.08324339, -2.5273194 ], dtype=float32),\n",
              "  'Negative'),\n",
              " ('СК назвал виновного в крушении SSJ 100 в Шереметьево',\n",
              "  array([-0.11907708, -2.1869323 ], dtype=float32),\n",
              "  'Negative'),\n",
              " ('Власти назвали предварительную причину обрушения моста в Оренбурге',\n",
              "  array([-0.09960885, -2.355895  ], dtype=float32),\n",
              "  'Negative'),\n",
              " ('Роскомнадзор ограничил доступ к некоторым страницам фотобанка Shutterstock',\n",
              "  array([-0.12436804, -2.1460497 ], dtype=float32),\n",
              "  'Negative'),\n",
              " ('В Перми более ста рыбаков вышли на опасный лёд у Камской ГЭС',\n",
              "  array([-0.1090462, -2.270011 ], dtype=float32),\n",
              "  'Negative'),\n",
              " ('285 спецмашин дорожной службы Приангарья устраняли последствия снегопада в минувшие сутки',\n",
              "  array([-0.08997754, -2.452846  ], dtype=float32),\n",
              "  'Negative'),\n",
              " ('Инженеры изобрели источник электропитания, которому не страшны 50-градусные морозы',\n",
              "  array([-0.08106405, -2.5527744 ], dtype=float32),\n",
              "  'Negative'),\n",
              " ('Пять человек пострадали при пожаре на Московском проспекте',\n",
              "  array([-0.08770648, -2.4772916 ], dtype=float32),\n",
              "  'Negative'),\n",
              " ('«Подвиг твой бессмертен»: история мемориалов Неизвестному Солдату',\n",
              "  array([-0.0877304, -2.4770308], dtype=float32),\n",
              "  'Negative'),\n",
              " ('Игроки ярославского «Локомотива» Накладал и Ильенко травмированы',\n",
              "  array([-0.11352313, -2.231974  ], dtype=float32),\n",
              "  'Negative'),\n",
              " ('Муниципальная система видеонаблюдения: в Ачинске в общегородских местах круглосуточно работают около полусотни камер фиксации',\n",
              "  array([-0.13638613, -2.059683  ], dtype=float32),\n",
              "  'Negative'),\n",
              " ('ЧИНОВНИКИ ВЕДУТ СЕБЯ С ЛЮДЬМИ БУДТО БОГИ...',\n",
              "  array([-0.0972007, -2.3791835], dtype=float32),\n",
              "  'Negative'),\n",
              " ('Япония не устояла',\n",
              "  array([-0.07002882, -2.6936593 ], dtype=float32),\n",
              "  'Negative'),\n",
              " ('Ярославские следователи сходили на хоккей с воспитанниками детского дома',\n",
              "  array([-0.08604309, -2.49562   ], dtype=float32),\n",
              "  'Negative'),\n",
              " ('Первые партии полуфиналов шахматного Гранд-тура завершились вничью',\n",
              "  array([-0.09690114, -2.3821232 ], dtype=float32),\n",
              "  'Negative'),\n",
              " ('Флюорограф в Искитиме починили',\n",
              "  array([-0.10018448, -2.3504162 ], dtype=float32),\n",
              "  'Negative'),\n",
              " ('Темпы роста потребительского кредитования в РФ замедлились в октябре до 14,2% - МЭР',\n",
              "  array([-0.08640791, -2.4915695 ], dtype=float32),\n",
              "  'Negative'),\n",
              " ('Анонс ММПЦ: Пресс-конференция, посвященная океанской экспедиции \"Паруса мира\"',\n",
              "  array([-0.11140331, -2.2497828 ], dtype=float32),\n",
              "  'Negative'),\n",
              " ('Посол РФ: Монголия продолжает изучать возможность зоны свободной торговли с ЕАЭС',\n",
              "  array([-0.08505193, -2.5067182 ], dtype=float32),\n",
              "  'Negative'),\n",
              " ('Хабаровское УФАС вмешалось в ситуацию с ГК «Торэкс» и заводом «Амурсталь»',\n",
              "  array([-0.1281929, -2.1176312], dtype=float32),\n",
              "  'Negative'),\n",
              " ('В ОПЕК считают, что \"золотой век\" сланцевой нефти в США закончился',\n",
              "  array([-0.09386456, -2.4124675 ], dtype=float32),\n",
              "  'Negative'),\n",
              " ('Почетный рубеж',\n",
              "  array([-0.07437022, -2.6356547 ], dtype=float32),\n",
              "  'Negative'),\n",
              " ('Продукцию Брянской области представят на выставке в Китае',\n",
              "  array([-0.11873223, -2.1896636 ], dtype=float32),\n",
              "  'Negative'),\n",
              " ('Заканчивается 10-летний контракт на транзит российского газа: что решит судьбу договора',\n",
              "  array([-0.09055895, -2.4466915 ], dtype=float32),\n",
              "  'Negative'),\n",
              " ('116 дольщиков заедут в свои квартиры в Сергиево-Посадском округе в первом квартале 2020 года',\n",
              "  array([-0.11498273, -2.2199137 ], dtype=float32),\n",
              "  'Negative'),\n",
              " ('\"Буду носить с гордостью\": Американский астронавт сделал личное признание о российском ордене',\n",
              "  array([-0.08998942, -2.4527206 ], dtype=float32),\n",
              "  'Negative'),\n",
              " ('СМИ назвали виновника катастрофы SSJ-100 в Шереметьево',\n",
              "  array([-0.13032937, -2.1021473 ], dtype=float32),\n",
              "  'Negative'),\n",
              " ('В Петербурге \"Яндекс.Такси\" обвинили в смерти пассажиров',\n",
              "  array([-0.1007837, -2.3447478], dtype=float32),\n",
              "  'Negative'),\n",
              " ('В Усинске наградили победителей грантового конкурса ЛУКОЙЛа',\n",
              "  array([-0.14708251, -1.989402  ], dtype=float32),\n",
              "  'Negative'),\n",
              " ('«Точка опоры». В Кургане стартовал очередной сезон профориентационного проекта',\n",
              "  array([-0.10966001, -2.2646997 ], dtype=float32),\n",
              "  'Negative'),\n",
              " ('Один долгострой и несколько торговых центров сдали во Владивостоке в 2019 году',\n",
              "  array([-0.14250371, -2.0187929 ], dtype=float32),\n",
              "  'Negative'),\n",
              " ('Авиарейс из Южно-Сахалинска в Шахтерск отменили из-за метели',\n",
              "  array([-0.10036704, -2.3486857 ], dtype=float32),\n",
              "  'Negative'),\n",
              " ('Жозеп Бартомеу: «Золотой мяч» снова достался лучшему игроку всех времен. Футбол и «Барселона» празднуют»',\n",
              "  array([-0.10970487, -2.2643127 ], dtype=float32),\n",
              "  'Negative'),\n",
              " ('В Салехарде дали бал в честь графа Комаровского',\n",
              "  array([-0.1137103, -2.2304177], dtype=float32),\n",
              "  'Negative'),\n",
              " ('Киев выразил протест Будапешту за блокировку деятельности Комиссии Украина - НАТО',\n",
              "  array([-0.11632221, -2.2089884 ], dtype=float32),\n",
              "  'Negative'),\n",
              " ('VI Межрегиональная НПК «Перспективы развития предпринимательства в молодежной среде»',\n",
              "  array([-0.11780741, -2.1970296 ], dtype=float32),\n",
              "  'Negative'),\n",
              " ('Завершено расследование катастрофы SSJ 100 в Шереметьеве, сообщил адвокат',\n",
              "  array([-0.11637994, -2.2085207 ], dtype=float32),\n",
              "  'Negative'),\n",
              " ('Проект «Атом-кутюр», реализованный Фондом «АТР АЭС», признан лучшим проектом года Госкорпорации «Росатом»',\n",
              "  array([-0.15235375, -1.9567599 ], dtype=float32),\n",
              "  'Negative'),\n",
              " ('Ваш звонок - бесплатный',\n",
              "  array([-0.06873045, -2.711731  ], dtype=float32),\n",
              "  'Negative'),\n",
              " ('С Днем юриста!',\n",
              "  array([-0.07029687, -2.6899705 ], dtype=float32),\n",
              "  'Negative'),\n",
              " ('Абхазию и Южную Осетию пытались упразднить еще при Сталине',\n",
              "  array([-0.08470764, -2.5106044 ], dtype=float32),\n",
              "  'Negative'),\n",
              " ('Суд Петербурга признал законным штраф \"Яндекс.Такси\" за введение в заблуждение пассажиров',\n",
              "  array([-0.09829973, -2.368481  ], dtype=float32),\n",
              "  'Negative'),\n",
              " ('Число погибших в ДТП с автобусом в Казахстане увеличилось до семи человек',\n",
              "  array([-0.11421311, -2.2262526 ], dtype=float32),\n",
              "  'Negative'),\n",
              " ('На дороги Петропавловска вышла снегоуборочная техника',\n",
              "  array([-0.09524398, -2.3985574 ], dtype=float32),\n",
              "  'Negative'),\n",
              " ('Тольятиазот: очередной виток конфликта',\n",
              "  array([-0.08580154, -2.498312  ], dtype=float32),\n",
              "  'Negative'),\n",
              " ('Китай ощутит «Силу Сибири»',\n",
              "  array([-0.07983354, -2.567462  ], dtype=float32),\n",
              "  'Negative'),\n",
              " ('Программа газификации Тюменской области обойдется в 7 млрд рублей',\n",
              "  array([-0.13036872, -2.101865  ], dtype=float32),\n",
              "  'Negative'),\n",
              " ('Самый длинный мост в Якутии опирается на мохсоголлохский камень',\n",
              "  array([-0.09017538, -2.4507475 ], dtype=float32),\n",
              "  'Negative'),\n",
              " ('ИНТЕРВЬЮ: В АТЦ СНГ отметили, что их прогноз о формировании новой базы ИГ в  Афганистане подтвердился',\n",
              "  array([-0.10807588, -2.2784734 ], dtype=float32),\n",
              "  'Negative'),\n",
              " ('РФЯЦ-ВНИИЭФ принял участие в Молодежном дне информирования',\n",
              "  array([-0.11931515, -2.1850512 ], dtype=float32),\n",
              "  'Negative'),\n",
              " ('rospres: Суд подтвердил изъятие у полпреда президента Виктора Ишаева 9 млн рублей, $13 тыс, 500, 2 тыс японских иен и 859 китайских юаней',\n",
              "  array([-0.10917265, -2.2689147 ], dtype=float32),\n",
              "  'Negative'),\n",
              " ('В Твери легковушки не поделили перекресток',\n",
              "  array([-0.08974545, -2.4553149 ], dtype=float32),\n",
              "  'Negative'),\n",
              " ('Университетское братство',\n",
              "  array([-0.09107865, -2.4412255 ], dtype=float32),\n",
              "  'Negative'),\n",
              " ('Сыр сварят из молока коз и овец',\n",
              "  array([-0.08011261, -2.5641105 ], dtype=float32),\n",
              "  'Negative'),\n",
              " ('В Бразилии задержали подозреваемого в подготовке покушения на президента',\n",
              "  array([-0.10962091, -2.2650366 ], dtype=float32),\n",
              "  'Negative'),\n",
              " ('ПРЕЗИДЕНТ ПОДПИСАЛ ЗАКОН О ПРЕДУСТАНОВКЕ РОССИЙСКОГО СОФТА НА УСТРОЙСТВА',\n",
              "  array([-0.10570769, -2.2994664 ], dtype=float32),\n",
              "  'Negative'),\n",
              " ('Руководители ГК «Унисто Петросталь» Владимир Оксман и Арсений Васильев украли 3 млрд рублей',\n",
              "  array([-0.11988939, -2.180532  ], dtype=float32),\n",
              "  'Negative'),\n",
              " ('Арестованы миллионы экс-губернатора Хабаровского края Виктора Ишаева',\n",
              "  array([-0.12957022, -2.1076176 ], dtype=float32),\n",
              "  'Negative'),\n",
              " ('\"Малеча оточила гостя\". Губернатор разозлил соцсети из-за детдома',\n",
              "  array([-0.07454251, -2.6334252 ], dtype=float32),\n",
              "  'Negative'),\n",
              " ('Хабаровская УФАС вмешалась в ситуацию с ГК «Торэкс» и заводом «Амурсталь»',\n",
              "  array([-0.132753 , -2.0849073], dtype=float32),\n",
              "  'Negative'),\n",
              " ('Школьница поиздевалась над\\xa0отцом кипятком перед убийством в\\xa0Омске',\n",
              "  array([-0.1106575, -2.2561336], dtype=float32),\n",
              "  'Negative'),\n",
              " ('Российские полицейские задержали членов межрегиональной банды наркоторговцев',\n",
              "  array([-0.13154626, -2.0934494 ], dtype=float32),\n",
              "  'Negative'),\n",
              " ('Навальному заплатили 5 миллионов рублей в биткоинах за фейковое «расследование» о Костине',\n",
              "  array([-0.12310034, -2.1556747 ], dtype=float32),\n",
              "  'Negative'),\n",
              " ('«Огород - круглый год»: участники проекта «Ученые будущего» собрали умные теплицы для выращивания растений',\n",
              "  array([-0.10404402, -2.3145125 ], dtype=float32),\n",
              "  'Negative'),\n",
              " ('Изменение цен на зерновые в период с 25 ноября по 02 декабря 2019 года',\n",
              "  array([-0.09378695, -2.4132564 ], dtype=float32),\n",
              "  'Negative'),\n",
              " ('Завод «Электрокабель» получил сертификат на кабели для гермозоны атомных станций',\n",
              "  array([-0.1355133, -2.0656767], dtype=float32),\n",
              "  'Negative'),\n",
              " ('В Хабаровске полицейские задержали подозреваемых в умышленном причинении тяжкого вреда здоровью',\n",
              "  array([-0.12565307, -2.136399  ], dtype=float32),\n",
              "  'Negative'),\n",
              " ('Жители Еврейской АО работают много, а зарабатывают мало',\n",
              "  array([-0.09156218, -2.4361691 ], dtype=float32),\n",
              "  'Negative'),\n",
              " ('National Interest: в Иране сложились все предпосылки для революции?',\n",
              "  array([-0.06955444, -2.7002218 ], dtype=float32),\n",
              "  'Negative'),\n",
              " ('Студенческие команды разыграли путевку на летний чемпионат мира в Москву',\n",
              "  array([-0.10706296, -2.2873926 ], dtype=float32),\n",
              "  'Negative'),\n",
              " ('84-летний ростовчанин сгорел в собственной квартире из-за неосторожного курения',\n",
              "  array([-0.07862829, -2.5820804 ], dtype=float32),\n",
              "  'Negative'),\n",
              " ('Жителю Петропавловска грозит четыре года колонии за 60 срубленных елей',\n",
              "  array([-0.09737894, -2.3774402 ], dtype=float32),\n",
              "  'Negative'),\n",
              " ('Ветерана ВОВ\\xa0в\\xa0Хабаровске ограбила лжесотрудница почты',\n",
              "  array([-0.11676028, -2.2054446 ], dtype=float32),\n",
              "  'Negative'),\n",
              " ('Майская катастрофа SSJ-100 в Шереметьево: обвиняется командир лайнера',\n",
              "  array([-0.10843661, -2.2753174 ], dtype=float32),\n",
              "  'Negative'),\n",
              " ('Следователи обвинили в крушении самолета Москва-Мурманск командира борта',\n",
              "  array([-0.08559386, -2.5006332 ], dtype=float32),\n",
              "  'Negative'),\n",
              " ('В Российской академии наук начали рассчитывать сценарии распада России',\n",
              "  array([-0.10275532, -2.3263419 ], dtype=float32),\n",
              "  'Negative'),\n",
              " ('Кремниевый завод в Иркутской области работает в штатном режиме после аварии на  энергосетях',\n",
              "  array([-0.14272314, -2.0173619 ], dtype=float32),\n",
              "  'Negative'),\n",
              " ('Член Общественной палаты Павел Пожигайло: Не дали сыну поиграть в компьютер? Прощайся с ребенком - его заберут',\n",
              "  array([-0.0972312, -2.3788855], dtype=float32),\n",
              "  'Negative'),\n",
              " ('Паромная переправа между Сахалином и материком закрыта из-за циклона',\n",
              "  array([-0.10194996, -2.3338156 ], dtype=float32),\n",
              "  'Negative'),\n",
              " ('Консалтинговая Компания \"ОМТ-Консалт\": Обзор российского рынка смазочных материалов на 29.11.2019.',\n",
              "  array([-0.11611038, -2.2107077 ], dtype=float32),\n",
              "  'Negative'),\n",
              " ('Варламов стал первой звездой матча «Айлендерс» — «Детройт», отразив 30 бросков',\n",
              "  array([-0.10223477, -2.3311658 ], dtype=float32),\n",
              "  'Negative'),\n",
              " ('Коммунальные службы Воронежа готовятся к надвигающемуся снегопаду',\n",
              "  array([-0.09709901, -2.3801804 ], dtype=float32),\n",
              "  'Negative'),\n",
              " ('nan', array([-0.09590662, -2.3919501 ], dtype=float32), 'Negative'),\n",
              " ('В Санкт-Петербурге локализован крупный пожар в ангаре',\n",
              "  array([-0.08524604, -2.5045342 ], dtype=float32),\n",
              "  'Negative'),\n",
              " ('Рубцовский \"Мельник\" получил Гран-при международного конкурса',\n",
              "  array([-0.14823149, -1.9821806 ], dtype=float32),\n",
              "  'Negative'),\n",
              " ('Захарова призвала Зеленского гарантировать права жителям Донбасса',\n",
              "  array([-0.12846375, -2.1156526 ], dtype=float32),\n",
              "  'Negative'),\n",
              " ('ИНИЦИАТИВА. Новые варианты отмены \"зарплатного рабства\"',\n",
              "  array([-0.09972204, -2.3548157 ], dtype=float32),\n",
              "  'Negative'),\n",
              " ('Работу газопровода «Сила Сибири» обеспечивают двигатели Ростеха',\n",
              "  array([-0.10951279, -2.2659702 ], dtype=float32),\n",
              "  'Negative'),\n",
              " ('В\\xa0Пыть-Яхе\\xa0диплом депутата признали недействительным',\n",
              "  array([-0.07777192, -2.592608  ], dtype=float32),\n",
              "  'Negative'),\n",
              " ('«Этому правилу нет места в XXI веке»: украинская модель судится с «Мисс мира»',\n",
              "  array([-0.07991014, -2.5665407 ], dtype=float32),\n",
              "  'Negative'),\n",
              " ('В Кузбассе завершился первый этап областной Акции «Кровь во имя жизни»',\n",
              "  array([-0.1182963, -2.1931283], dtype=float32),\n",
              "  'Negative'),\n",
              " ('Проведение заседания совета директоров (наблюдательного совета) и его повестка дня: Публичное акционерное общество \"МегаФон\"',\n",
              "  array([-0.11549096, -2.2157526 ], dtype=float32),\n",
              "  'Negative'),\n",
              " ('Такого не было несколько десятилетий',\n",
              "  array([-0.08602624, -2.4958076 ], dtype=float32),\n",
              "  'Negative'),\n",
              " ('Над районами не властвует // Транспортные компании «Властелин» заявили о прекращении межмуниципальных перевозок',\n",
              "  array([-0.0843206, -2.5149927], dtype=float32),\n",
              "  'Negative'),\n",
              " ('Новые модели техники AGCO представлены на выставке «ЮГАГРО-2019»',\n",
              "  array([-0.13741323, -2.0526822 ], dtype=float32),\n",
              "  'Negative'),\n",
              " ('В Пыть-Яхе планируют построить новый железнодорожный вокзал',\n",
              "  array([-0.14118065, -2.0274754 ], dtype=float32),\n",
              "  'Negative'),\n",
              " ('На Среднем Урале прошел народный сход против мусорного полигона: выступающего депутата прогнали со скандалом',\n",
              "  array([-0.08773836, -2.4769442 ], dtype=float32),\n",
              "  'Negative'),\n",
              " ('3 тысячи кубометров больной древесины обязали вывезти из одного лесничества в Приангарье',\n",
              "  array([-0.0866574, -2.488809 ], dtype=float32),\n",
              "  'Negative'),\n",
              " ('Смог в\\xa0Кемерово рассеялся',\n",
              "  array([-0.10584593, -2.298227  ], dtype=float32),\n",
              "  'Negative'),\n",
              " ('Банк «Открытие» выиграл в кассации иск на 35 млрд рублей',\n",
              "  array([-0.11628772, -2.209268  ], dtype=float32),\n",
              "  'Negative'),\n",
              " ('Можно ли помочь бездомным собакам? Приангарье не готово к новому закону',\n",
              "  array([-0.06776186, -2.7254457 ], dtype=float32),\n",
              "  'Negative'),\n",
              " ('ЦУМ откроет целый этаж детского люкса',\n",
              "  array([-0.08448177, -2.5131636 ], dtype=float32),\n",
              "  'Negative'),\n",
              " ('Бывший комиссар движения «Наши» Шлегель объяснил переезд в Германию',\n",
              "  array([-0.10627799, -2.2943656 ], dtype=float32),\n",
              "  'Negative'),\n",
              " ('Администрация Ковдорского района объявляет конкурс рисунков «Символ Гипербореи»',\n",
              "  array([-0.1269164, -2.1270137], dtype=float32),\n",
              "  'Negative'),\n",
              " ('Одного из директоров алматинского метро Реимова освободили под залог в T25 миллионов',\n",
              "  array([-0.11086217, -2.2543867 ], dtype=float32),\n",
              "  'Negative'),\n",
              " ('В Москве задержан мужчина, возившей в своей иномарке оружие и боеприпасы',\n",
              "  array([-0.10514596, -2.3045182 ], dtype=float32),\n",
              "  'Negative'),\n",
              " ('НОВОСТИ ПАРТНЕРОВ – ПОЧТА РОССИИ Почта России открывает зимнюю декаду подписки',\n",
              "  array([-0.11558208, -2.2150092 ], dtype=float32),\n",
              "  'Negative'),\n",
              " ('Более 90 браков заключат в Москве в \"день четырёх двоек\" 2 февраля',\n",
              "  array([-0.09051583, -2.4471476 ], dtype=float32),\n",
              "  'Negative'),\n",
              " ('Рынок не ожидает заключения торговой сделки США-Китай до конца года - инвестор',\n",
              "  array([-0.09295087, -2.4218001 ], dtype=float32),\n",
              "  'Negative'),\n",
              " ('Коболев: С момента назначения главой \"Нафтогазу\" я привык к регулярному процессу \"снятия\" меня с должности',\n",
              "  array([-0.092696 , -2.4244206], dtype=float32),\n",
              "  'Negative'),\n",
              " ('Прокуратура Заельцовского района г. Новосибирска провела проверку исполнения законодательства о противодействии коррупции.',\n",
              "  array([-0.08365694, -2.5225685 ], dtype=float32),\n",
              "  'Negative'),\n",
              " ('Конкуренты \"Зенита\" продолжают терять очки в чемпионате России',\n",
              "  array([-0.12832472, -2.1166673 ], dtype=float32),\n",
              "  'Negative'),\n",
              " ('nan', array([-0.08236704, -2.5374703 ], dtype=float32), 'Negative'),\n",
              " ('НИЯУ МИФИ и ВКГТУ реализуют совместные образовательные программы',\n",
              "  array([-0.12573865, -2.1357605 ], dtype=float32),\n",
              "  'Negative'),\n",
              " ('ФНС: 33 процента россиян общаются с налоговиками посредством бумаг',\n",
              "  array([-0.07549351, -2.6212175 ], dtype=float32),\n",
              "  'Negative'),\n",
              " ('Петербург под гребнем антициклона отдохнет от осадков',\n",
              "  array([-0.0771646, -2.600149 ], dtype=float32),\n",
              "  'Negative'),\n",
              " ('Союзмолоко принял участие в обсуждении вопроса маркировки в ТПП РФ',\n",
              "  array([-0.12077363, -2.1736162 ], dtype=float32),\n",
              "  'Negative'),\n",
              " ('Полиция задержала группу наркоторговцев, действовавших в нескольких регионах',\n",
              "  array([-0.1290624, -2.111297 ], dtype=float32),\n",
              "  'Negative'),\n",
              " ('Следствие не нашло аффекта в действиях сестер Хачатурян',\n",
              "  array([-0.08921164, -2.461018  ], dtype=float32),\n",
              "  'Negative'),\n",
              " ('Электросетевой комплекс в рисовой житнице Калмыкии имеет степень износа от 60 до 75%',\n",
              "  array([-0.10154983, -2.3375514 ], dtype=float32),\n",
              "  'Negative'),\n",
              " ('Необыкновенные щеглы прилетели в Красноярский край',\n",
              "  array([-0.10190625, -2.3342223 ], dtype=float32),\n",
              "  'Negative'),\n",
              " ('Строители оставили без воды микрорайон Южно-Сахалинска',\n",
              "  array([-0.11312655, -2.235278  ], dtype=float32),\n",
              "  'Negative'),\n",
              " ('Чебоксары участвуют в проекте правительства РФ и Нового банка развития',\n",
              "  array([-0.1118009, -2.2464159], dtype=float32),\n",
              "  'Negative'),\n",
              " ('Математическое отделение РФЯЦ-ВНИИЭФ откроется в\\xa0ННГУ им.\\xa0Лобачевского',\n",
              "  array([-0.149412 , -1.9748235], dtype=float32),\n",
              "  'Negative'),\n",
              " ('Митинг', array([-0.06573278, -2.7548435 ], dtype=float32), 'Negative'),\n",
              " ('Назван ущерб от крушения SSJ в Шереметьево',\n",
              "  array([-0.10657422, -2.2917275 ], dtype=float32),\n",
              "  'Negative'),\n",
              " ('Открылся 5-й\\xa0конкурс проектов по\\xa0волонтерской деятельности среди молодежи Китая',\n",
              "  array([-0.11991329, -2.1803439 ], dtype=float32),\n",
              "  'Negative'),\n",
              " ('На коньках со звездой: знаменитый хоккеист Андрей Николишин вышел на лед с амурскими детьми',\n",
              "  array([-0.09653655, -2.3857138 ], dtype=float32),\n",
              "  'Negative'),\n",
              " ('Как улучшить инвестиционный климат на Кавказе обсудят в Минеральных Водах',\n",
              "  array([-0.10631058, -2.2940748 ], dtype=float32),\n",
              "  'Negative'),\n",
              " ('Как на американских горках. Ситуация с зарплатами литейщиков Беларуси',\n",
              "  array([-0.0849616, -2.5077355], dtype=float32),\n",
              "  'Negative'),\n",
              " ('Чебоксары участвуют в проекте правительства РФ и Нового банка развития',\n",
              "  array([-0.1421536, -2.0210822], dtype=float32),\n",
              "  'Negative'),\n",
              " ('В Киеве назвали условия отказа от исков к \"Газпрому\"',\n",
              "  array([-0.10171632, -2.3359945 ], dtype=float32),\n",
              "  'Negative'),\n",
              " ('Матч \"Лидер-1\" - \"Газпром нефть-2010\". ОКТО 2010-2011. Фото и видео отчеты, статистика. Интервью игроков и комментарии болельщиков.',\n",
              "  array([-0.11756705, -2.1989539 ], dtype=float32),\n",
              "  'Negative'),\n",
              " ...]"
            ]
          },
          "metadata": {
            "tags": []
          },
          "execution_count": 54
        }
      ]
    },
    {
      "cell_type": "code",
      "metadata": {
        "id": "v2C8cHZ1ujbY",
        "colab_type": "code",
        "colab": {
          "base_uri": "https://localhost:8080/",
          "height": 72
        },
        "outputId": "506e9b9d-55f6-419f-cce4-59dcf6507f93"
      },
      "source": [
        "pd.Series.value_counts([p[2] for p in predictions])"
      ],
      "execution_count": 55,
      "outputs": [
        {
          "output_type": "execute_result",
          "data": {
            "text/plain": [
              "Negative    10774\n",
              "Positive        8\n",
              "dtype: int64"
            ]
          },
          "metadata": {
            "tags": []
          },
          "execution_count": 55
        }
      ]
    },
    {
      "cell_type": "code",
      "metadata": {
        "id": "vdnTwGxyGppg",
        "colab_type": "code",
        "colab": {
          "base_uri": "https://localhost:8080/",
          "height": 454
        },
        "outputId": "5228786d-b94f-4f3d-8a36-69dca11ce5af"
      },
      "source": [
        "[p for p in predictions if p[2] == 'Positive']"
      ],
      "execution_count": 56,
      "outputs": [
        {
          "output_type": "execute_result",
          "data": {
            "text/plain": [
              "[('В случае срыва сроков ремонта дорог в Пскове подрядчиков включат в реестр недобросовестных',\n",
              "  array([-1.3008312 , -0.31787372], dtype=float32),\n",
              "  'Positive'),\n",
              " ('Россия и Китай запустили в эксплуатацию газопровод «Сила Сибири»',\n",
              "  array([-0.73827416, -0.64996904], dtype=float32),\n",
              "  'Positive'),\n",
              " ('Проверка эксплуатации газового оборудования вызвала ряд проблем',\n",
              "  array([-0.7643819, -0.6266512], dtype=float32),\n",
              "  'Positive'),\n",
              " ('Задержались со?сдачей',\n",
              "  array([-2.5817084, -0.0786587], dtype=float32),\n",
              "  'Positive'),\n",
              " ('Ввод в эксплуатацию газопровода из России в Китай по восточному маршруту открыл новую эпоху для энергетического сотрудничества двух стран',\n",
              "  array([-0.73943853, -0.64890414], dtype=float32),\n",
              "  'Positive'),\n",
              " ('11 школ, 8 детских садов и пристроек ввели в эксплуатацию на Кубани в этом году',\n",
              "  array([-0.722993 , -0.6641664], dtype=float32),\n",
              "  'Positive'),\n",
              " ('Источник назвал сроки передачи ВМФ двух первых российских вертолётоносцев',\n",
              "  array([-1.0176345 , -0.44855368], dtype=float32),\n",
              "  'Positive'),\n",
              " ('Введен в эксплуатацию газопровод из России в Китай по восточному маршруту',\n",
              "  array([-0.76449823, -0.6265498 ], dtype=float32),\n",
              "  'Positive')]"
            ]
          },
          "metadata": {
            "tags": []
          },
          "execution_count": 56
        }
      ]
    }
  ]
}